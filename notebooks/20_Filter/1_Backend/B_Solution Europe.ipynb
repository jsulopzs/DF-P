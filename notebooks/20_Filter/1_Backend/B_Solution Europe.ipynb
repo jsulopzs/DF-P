{
 "cells": [
  {
   "attachments": {},
   "cell_type": "markdown",
   "id": "d3c4158e",
   "metadata": {
    "papermill": {
     "duration": 0.001728,
     "end_time": "2024-06-15T23:13:13.208863",
     "exception": false,
     "start_time": "2024-06-15T23:13:13.207135",
     "status": "completed"
    },
    "tags": []
   },
   "source": [
    "# Sketch BackEnd: Data Operations\n",
    "\n",
    "Download a dataset from [Kaggle](https://kaggle.com/) to develop this project.\n",
    "\n",
    "**Note**: It must contain at least:\n",
    "\n",
    "- 50 rows\n",
    "- 2 categorical columns\n",
    "- 2 numerical columns"
   ]
  },
  {
   "attachments": {},
   "cell_type": "markdown",
   "id": "8089a3f8",
   "metadata": {
    "papermill": {
     "duration": 0.001444,
     "end_time": "2024-06-15T23:13:13.212055",
     "exception": false,
     "start_time": "2024-06-15T23:13:13.210611",
     "status": "completed"
    },
    "tags": []
   },
   "source": [
    "## Load data"
   ]
  },
  {
   "cell_type": "code",
   "execution_count": 1,
   "id": "9442297d",
   "metadata": {
    "execution": {
     "iopub.execute_input": "2024-06-15T23:13:13.214741Z",
     "iopub.status.busy": "2024-06-15T23:13:13.214570Z",
     "iopub.status.idle": "2024-06-15T23:13:13.224785Z",
     "shell.execute_reply": "2024-06-15T23:13:13.224466Z"
    },
    "papermill": {
     "duration": 0.013075,
     "end_time": "2024-06-15T23:13:13.226116",
     "exception": false,
     "start_time": "2024-06-15T23:13:13.213041",
     "status": "completed"
    },
    "tags": []
   },
   "outputs": [
    {
     "data": {
      "text/html": [
       "<div>\n",
       "<style scoped>\n",
       "    .dataframe tbody tr th:only-of-type {\n",
       "        vertical-align: middle;\n",
       "    }\n",
       "\n",
       "    .dataframe tbody tr th {\n",
       "        vertical-align: top;\n",
       "    }\n",
       "\n",
       "    .dataframe thead th {\n",
       "        text-align: right;\n",
       "    }\n",
       "</style>\n",
       "<table border=\"1\" class=\"dataframe\">\n",
       "  <thead>\n",
       "    <tr style=\"text-align: right;\">\n",
       "      <th></th>\n",
       "      <th>country</th>\n",
       "      <th>continent</th>\n",
       "      <th>year</th>\n",
       "      <th>lifeExp</th>\n",
       "      <th>pop</th>\n",
       "      <th>gdpPercap</th>\n",
       "      <th>iso_alpha</th>\n",
       "      <th>iso_num</th>\n",
       "    </tr>\n",
       "  </thead>\n",
       "  <tbody>\n",
       "    <tr>\n",
       "      <th>0</th>\n",
       "      <td>Afghanistan</td>\n",
       "      <td>Asia</td>\n",
       "      <td>1952</td>\n",
       "      <td>28.801</td>\n",
       "      <td>8425333</td>\n",
       "      <td>779.445314</td>\n",
       "      <td>AFG</td>\n",
       "      <td>4</td>\n",
       "    </tr>\n",
       "    <tr>\n",
       "      <th>1</th>\n",
       "      <td>Afghanistan</td>\n",
       "      <td>Asia</td>\n",
       "      <td>1957</td>\n",
       "      <td>30.332</td>\n",
       "      <td>9240934</td>\n",
       "      <td>820.853030</td>\n",
       "      <td>AFG</td>\n",
       "      <td>4</td>\n",
       "    </tr>\n",
       "    <tr>\n",
       "      <th>2</th>\n",
       "      <td>Afghanistan</td>\n",
       "      <td>Asia</td>\n",
       "      <td>1962</td>\n",
       "      <td>31.997</td>\n",
       "      <td>10267083</td>\n",
       "      <td>853.100710</td>\n",
       "      <td>AFG</td>\n",
       "      <td>4</td>\n",
       "    </tr>\n",
       "    <tr>\n",
       "      <th>3</th>\n",
       "      <td>Afghanistan</td>\n",
       "      <td>Asia</td>\n",
       "      <td>1967</td>\n",
       "      <td>34.020</td>\n",
       "      <td>11537966</td>\n",
       "      <td>836.197138</td>\n",
       "      <td>AFG</td>\n",
       "      <td>4</td>\n",
       "    </tr>\n",
       "    <tr>\n",
       "      <th>4</th>\n",
       "      <td>Afghanistan</td>\n",
       "      <td>Asia</td>\n",
       "      <td>1972</td>\n",
       "      <td>36.088</td>\n",
       "      <td>13079460</td>\n",
       "      <td>739.981106</td>\n",
       "      <td>AFG</td>\n",
       "      <td>4</td>\n",
       "    </tr>\n",
       "    <tr>\n",
       "      <th>...</th>\n",
       "      <td>...</td>\n",
       "      <td>...</td>\n",
       "      <td>...</td>\n",
       "      <td>...</td>\n",
       "      <td>...</td>\n",
       "      <td>...</td>\n",
       "      <td>...</td>\n",
       "      <td>...</td>\n",
       "    </tr>\n",
       "    <tr>\n",
       "      <th>1699</th>\n",
       "      <td>Zimbabwe</td>\n",
       "      <td>Africa</td>\n",
       "      <td>1987</td>\n",
       "      <td>62.351</td>\n",
       "      <td>9216418</td>\n",
       "      <td>706.157306</td>\n",
       "      <td>ZWE</td>\n",
       "      <td>716</td>\n",
       "    </tr>\n",
       "    <tr>\n",
       "      <th>1700</th>\n",
       "      <td>Zimbabwe</td>\n",
       "      <td>Africa</td>\n",
       "      <td>1992</td>\n",
       "      <td>60.377</td>\n",
       "      <td>10704340</td>\n",
       "      <td>693.420786</td>\n",
       "      <td>ZWE</td>\n",
       "      <td>716</td>\n",
       "    </tr>\n",
       "    <tr>\n",
       "      <th>1701</th>\n",
       "      <td>Zimbabwe</td>\n",
       "      <td>Africa</td>\n",
       "      <td>1997</td>\n",
       "      <td>46.809</td>\n",
       "      <td>11404948</td>\n",
       "      <td>792.449960</td>\n",
       "      <td>ZWE</td>\n",
       "      <td>716</td>\n",
       "    </tr>\n",
       "    <tr>\n",
       "      <th>1702</th>\n",
       "      <td>Zimbabwe</td>\n",
       "      <td>Africa</td>\n",
       "      <td>2002</td>\n",
       "      <td>39.989</td>\n",
       "      <td>11926563</td>\n",
       "      <td>672.038623</td>\n",
       "      <td>ZWE</td>\n",
       "      <td>716</td>\n",
       "    </tr>\n",
       "    <tr>\n",
       "      <th>1703</th>\n",
       "      <td>Zimbabwe</td>\n",
       "      <td>Africa</td>\n",
       "      <td>2007</td>\n",
       "      <td>43.487</td>\n",
       "      <td>12311143</td>\n",
       "      <td>469.709298</td>\n",
       "      <td>ZWE</td>\n",
       "      <td>716</td>\n",
       "    </tr>\n",
       "  </tbody>\n",
       "</table>\n",
       "<p>1704 rows × 8 columns</p>\n",
       "</div>"
      ],
      "text/plain": [
       "          country continent  year  lifeExp       pop   gdpPercap iso_alpha  \\\n",
       "0     Afghanistan      Asia  1952   28.801   8425333  779.445314       AFG   \n",
       "1     Afghanistan      Asia  1957   30.332   9240934  820.853030       AFG   \n",
       "2     Afghanistan      Asia  1962   31.997  10267083  853.100710       AFG   \n",
       "3     Afghanistan      Asia  1967   34.020  11537966  836.197138       AFG   \n",
       "4     Afghanistan      Asia  1972   36.088  13079460  739.981106       AFG   \n",
       "...           ...       ...   ...      ...       ...         ...       ...   \n",
       "1699     Zimbabwe    Africa  1987   62.351   9216418  706.157306       ZWE   \n",
       "1700     Zimbabwe    Africa  1992   60.377  10704340  693.420786       ZWE   \n",
       "1701     Zimbabwe    Africa  1997   46.809  11404948  792.449960       ZWE   \n",
       "1702     Zimbabwe    Africa  2002   39.989  11926563  672.038623       ZWE   \n",
       "1703     Zimbabwe    Africa  2007   43.487  12311143  469.709298       ZWE   \n",
       "\n",
       "      iso_num  \n",
       "0           4  \n",
       "1           4  \n",
       "2           4  \n",
       "3           4  \n",
       "4           4  \n",
       "...       ...  \n",
       "1699      716  \n",
       "1700      716  \n",
       "1701      716  \n",
       "1702      716  \n",
       "1703      716  \n",
       "\n",
       "[1704 rows x 8 columns]"
      ]
     },
     "execution_count": 1,
     "metadata": {},
     "output_type": "execute_result"
    }
   ],
   "source": [
    "import pandas as pd\n",
    "\n",
    "df = pd.read_csv('../data/gapminder.csv')\n",
    "df"
   ]
  },
  {
   "attachments": {},
   "cell_type": "markdown",
   "id": "f69c35e6",
   "metadata": {
    "papermill": {
     "duration": 0.000926,
     "end_time": "2024-06-15T23:13:13.228198",
     "exception": false,
     "start_time": "2024-06-15T23:13:13.227272",
     "status": "completed"
    },
    "tags": []
   },
   "source": [
    "## Filter data"
   ]
  },
  {
   "attachments": {},
   "cell_type": "markdown",
   "id": "eb507a59",
   "metadata": {
    "papermill": {
     "duration": 0.000799,
     "end_time": "2024-06-15T23:13:13.229808",
     "exception": false,
     "start_time": "2024-06-15T23:13:13.229009",
     "status": "completed"
    },
    "tags": []
   },
   "source": [
    "### Masking"
   ]
  },
  {
   "cell_type": "code",
   "execution_count": 3,
   "id": "f8567d57",
   "metadata": {
    "execution": {
     "iopub.execute_input": "2024-06-15T23:13:13.232212Z",
     "iopub.status.busy": "2024-06-15T23:13:13.231992Z",
     "iopub.status.idle": "2024-06-15T23:13:13.236963Z",
     "shell.execute_reply": "2024-06-15T23:13:13.236664Z"
    },
    "papermill": {
     "duration": 0.007253,
     "end_time": "2024-06-15T23:13:13.237869",
     "exception": false,
     "start_time": "2024-06-15T23:13:13.230616",
     "status": "completed"
    },
    "tags": []
   },
   "outputs": [
    {
     "data": {
      "text/html": [
       "<div>\n",
       "<style scoped>\n",
       "    .dataframe tbody tr th:only-of-type {\n",
       "        vertical-align: middle;\n",
       "    }\n",
       "\n",
       "    .dataframe tbody tr th {\n",
       "        vertical-align: top;\n",
       "    }\n",
       "\n",
       "    .dataframe thead th {\n",
       "        text-align: right;\n",
       "    }\n",
       "</style>\n",
       "<table border=\"1\" class=\"dataframe\">\n",
       "  <thead>\n",
       "    <tr style=\"text-align: right;\">\n",
       "      <th></th>\n",
       "      <th>country</th>\n",
       "      <th>continent</th>\n",
       "      <th>year</th>\n",
       "      <th>lifeExp</th>\n",
       "      <th>pop</th>\n",
       "      <th>gdpPercap</th>\n",
       "      <th>iso_alpha</th>\n",
       "      <th>iso_num</th>\n",
       "    </tr>\n",
       "  </thead>\n",
       "  <tbody>\n",
       "    <tr>\n",
       "      <th>12</th>\n",
       "      <td>Albania</td>\n",
       "      <td>Europe</td>\n",
       "      <td>1952</td>\n",
       "      <td>55.230</td>\n",
       "      <td>1282697</td>\n",
       "      <td>1601.056136</td>\n",
       "      <td>ALB</td>\n",
       "      <td>8</td>\n",
       "    </tr>\n",
       "    <tr>\n",
       "      <th>13</th>\n",
       "      <td>Albania</td>\n",
       "      <td>Europe</td>\n",
       "      <td>1957</td>\n",
       "      <td>59.280</td>\n",
       "      <td>1476505</td>\n",
       "      <td>1942.284244</td>\n",
       "      <td>ALB</td>\n",
       "      <td>8</td>\n",
       "    </tr>\n",
       "    <tr>\n",
       "      <th>14</th>\n",
       "      <td>Albania</td>\n",
       "      <td>Europe</td>\n",
       "      <td>1962</td>\n",
       "      <td>64.820</td>\n",
       "      <td>1728137</td>\n",
       "      <td>2312.888958</td>\n",
       "      <td>ALB</td>\n",
       "      <td>8</td>\n",
       "    </tr>\n",
       "    <tr>\n",
       "      <th>15</th>\n",
       "      <td>Albania</td>\n",
       "      <td>Europe</td>\n",
       "      <td>1967</td>\n",
       "      <td>66.220</td>\n",
       "      <td>1984060</td>\n",
       "      <td>2760.196931</td>\n",
       "      <td>ALB</td>\n",
       "      <td>8</td>\n",
       "    </tr>\n",
       "    <tr>\n",
       "      <th>16</th>\n",
       "      <td>Albania</td>\n",
       "      <td>Europe</td>\n",
       "      <td>1972</td>\n",
       "      <td>67.690</td>\n",
       "      <td>2263554</td>\n",
       "      <td>3313.422188</td>\n",
       "      <td>ALB</td>\n",
       "      <td>8</td>\n",
       "    </tr>\n",
       "    <tr>\n",
       "      <th>...</th>\n",
       "      <td>...</td>\n",
       "      <td>...</td>\n",
       "      <td>...</td>\n",
       "      <td>...</td>\n",
       "      <td>...</td>\n",
       "      <td>...</td>\n",
       "      <td>...</td>\n",
       "      <td>...</td>\n",
       "    </tr>\n",
       "    <tr>\n",
       "      <th>1603</th>\n",
       "      <td>United Kingdom</td>\n",
       "      <td>Europe</td>\n",
       "      <td>1987</td>\n",
       "      <td>75.007</td>\n",
       "      <td>56981620</td>\n",
       "      <td>21664.787670</td>\n",
       "      <td>GBR</td>\n",
       "      <td>826</td>\n",
       "    </tr>\n",
       "    <tr>\n",
       "      <th>1604</th>\n",
       "      <td>United Kingdom</td>\n",
       "      <td>Europe</td>\n",
       "      <td>1992</td>\n",
       "      <td>76.420</td>\n",
       "      <td>57866349</td>\n",
       "      <td>22705.092540</td>\n",
       "      <td>GBR</td>\n",
       "      <td>826</td>\n",
       "    </tr>\n",
       "    <tr>\n",
       "      <th>1605</th>\n",
       "      <td>United Kingdom</td>\n",
       "      <td>Europe</td>\n",
       "      <td>1997</td>\n",
       "      <td>77.218</td>\n",
       "      <td>58808266</td>\n",
       "      <td>26074.531360</td>\n",
       "      <td>GBR</td>\n",
       "      <td>826</td>\n",
       "    </tr>\n",
       "    <tr>\n",
       "      <th>1606</th>\n",
       "      <td>United Kingdom</td>\n",
       "      <td>Europe</td>\n",
       "      <td>2002</td>\n",
       "      <td>78.471</td>\n",
       "      <td>59912431</td>\n",
       "      <td>29478.999190</td>\n",
       "      <td>GBR</td>\n",
       "      <td>826</td>\n",
       "    </tr>\n",
       "    <tr>\n",
       "      <th>1607</th>\n",
       "      <td>United Kingdom</td>\n",
       "      <td>Europe</td>\n",
       "      <td>2007</td>\n",
       "      <td>79.425</td>\n",
       "      <td>60776238</td>\n",
       "      <td>33203.261280</td>\n",
       "      <td>GBR</td>\n",
       "      <td>826</td>\n",
       "    </tr>\n",
       "  </tbody>\n",
       "</table>\n",
       "<p>360 rows × 8 columns</p>\n",
       "</div>"
      ],
      "text/plain": [
       "             country continent  year  lifeExp       pop     gdpPercap  \\\n",
       "12           Albania    Europe  1952   55.230   1282697   1601.056136   \n",
       "13           Albania    Europe  1957   59.280   1476505   1942.284244   \n",
       "14           Albania    Europe  1962   64.820   1728137   2312.888958   \n",
       "15           Albania    Europe  1967   66.220   1984060   2760.196931   \n",
       "16           Albania    Europe  1972   67.690   2263554   3313.422188   \n",
       "...              ...       ...   ...      ...       ...           ...   \n",
       "1603  United Kingdom    Europe  1987   75.007  56981620  21664.787670   \n",
       "1604  United Kingdom    Europe  1992   76.420  57866349  22705.092540   \n",
       "1605  United Kingdom    Europe  1997   77.218  58808266  26074.531360   \n",
       "1606  United Kingdom    Europe  2002   78.471  59912431  29478.999190   \n",
       "1607  United Kingdom    Europe  2007   79.425  60776238  33203.261280   \n",
       "\n",
       "     iso_alpha  iso_num  \n",
       "12         ALB        8  \n",
       "13         ALB        8  \n",
       "14         ALB        8  \n",
       "15         ALB        8  \n",
       "16         ALB        8  \n",
       "...        ...      ...  \n",
       "1603       GBR      826  \n",
       "1604       GBR      826  \n",
       "1605       GBR      826  \n",
       "1606       GBR      826  \n",
       "1607       GBR      826  \n",
       "\n",
       "[360 rows x 8 columns]"
      ]
     },
     "execution_count": 3,
     "metadata": {},
     "output_type": "execute_result"
    }
   ],
   "source": [
    "continent = 'Europe'\n",
    "\n",
    "mask_continent = df['continent'] == continent\n",
    "df_filter = df[mask_continent].copy()\n",
    "\n",
    "df_filter"
   ]
  },
  {
   "attachments": {},
   "cell_type": "markdown",
   "id": "72505509",
   "metadata": {
    "papermill": {
     "duration": 0.000873,
     "end_time": "2024-06-15T23:13:13.239774",
     "exception": false,
     "start_time": "2024-06-15T23:13:13.238901",
     "status": "completed"
    },
    "tags": []
   },
   "source": [
    "### Visualization"
   ]
  },
  {
   "cell_type": "code",
   "execution_count": 17,
   "id": "993968f2",
   "metadata": {
    "execution": {
     "iopub.execute_input": "2024-06-15T23:13:13.242067Z",
     "iopub.status.busy": "2024-06-15T23:13:13.241963Z",
     "iopub.status.idle": "2024-06-15T23:13:13.745899Z",
     "shell.execute_reply": "2024-06-15T23:13:13.745551Z"
    },
    "papermill": {
     "duration": 0.506047,
     "end_time": "2024-06-15T23:13:13.746742",
     "exception": false,
     "start_time": "2024-06-15T23:13:13.240695",
     "status": "completed"
    },
    "tags": []
   },
   "outputs": [
    {
     "data": {
      "application/vnd.plotly.v1+json": {
       "config": {
        "plotlyServerURL": "https://plot.ly"
       },
       "data": [
        {
         "hovertemplate": "<b>%{hovertext}</b><br><br>year=1952<br>gdpPercap=%{x}<br>lifeExp=%{y}<extra></extra>",
         "hovertext": [
          "Albania",
          "Austria",
          "Belgium",
          "Bosnia and Herzegovina",
          "Bulgaria",
          "Croatia",
          "Czech Republic",
          "Denmark",
          "Finland",
          "France",
          "Germany",
          "Greece",
          "Hungary",
          "Iceland",
          "Ireland",
          "Italy",
          "Montenegro",
          "Netherlands",
          "Norway",
          "Poland",
          "Portugal",
          "Romania",
          "Serbia",
          "Slovak Republic",
          "Slovenia",
          "Spain",
          "Sweden",
          "Switzerland",
          "Turkey",
          "United Kingdom"
         ],
         "legendgroup": "",
         "marker": {
          "color": "#636efa",
          "symbol": "circle"
         },
         "mode": "markers",
         "name": "",
         "orientation": "v",
         "showlegend": false,
         "type": "scatter",
         "x": [
          1601.056136,
          6137.076492,
          8343.105126999999,
          973.5331948,
          2444.286648,
          3119.23652,
          6876.14025,
          9692.385245,
          6424.519071,
          7029.809327,
          7144.114393000002,
          3530.690067,
          5263.673816,
          7267.688428,
          5210.280328,
          4931.404154999998,
          2647.585601,
          8941.571858,
          10095.42172,
          4029.329699,
          3068.319867,
          3144.613186,
          3581.459448,
          5074.659104,
          4215.041741,
          3834.034742,
          8527.844662000001,
          14734.23275,
          1969.10098,
          9979.508487
         ],
         "xaxis": "x10",
         "y": [
          55.23,
          66.8,
          68,
          53.82,
          59.6,
          61.21,
          66.87,
          70.78,
          66.55,
          67.41,
          67.5,
          65.86,
          64.03,
          72.49,
          66.91,
          65.94,
          59.164,
          72.13,
          72.67,
          61.31,
          59.82,
          61.05,
          57.996,
          64.36,
          65.57,
          64.94,
          71.86,
          69.62,
          43.585,
          69.18
         ],
         "yaxis": "y10"
        },
        {
         "hovertemplate": "<b>OLS trendline</b><br>lifeExp = 0.00159335 * gdpPercap + 55.3885<br>R<sup>2</sup>=0.608433<br><br>year=1952<br>gdpPercap=%{x}<br>lifeExp=%{y} <b>(trend)</b><extra></extra>",
         "legendgroup": "",
         "marker": {
          "color": "#636efa",
          "symbol": "circle"
         },
         "mode": "lines",
         "name": "",
         "showlegend": false,
         "type": "scatter",
         "x": [
          973.5331948,
          1601.056136,
          1969.10098,
          2444.286648,
          2647.585601,
          3068.319867,
          3119.23652,
          3144.613186,
          3530.690067,
          3581.459448,
          3834.034742,
          4029.329699,
          4215.041741,
          4931.404154999998,
          5074.659104,
          5210.280328,
          5263.673816,
          6137.076492,
          6424.519071,
          6876.14025,
          7029.809327,
          7144.114393000002,
          7267.688428,
          8343.105126999999,
          8527.844662000001,
          8941.571858,
          9692.385245,
          9979.508487,
          10095.42172,
          14734.23275
         ],
         "xaxis": "x10",
         "y": [
          56.93964292146788,
          57.93950530540361,
          58.525928798405126,
          59.28306490232192,
          59.60699086972879,
          60.277366944588714,
          60.35849488861774,
          60.39892874704303,
          61.014083549002855,
          61.09497683749447,
          61.49741716118874,
          61.80858997807929,
          62.10449387712178,
          63.24590845178943,
          63.4741634292789,
          63.690255226786114,
          63.7753296307533,
          65.16696398294326,
          65.62496002326967,
          66.34454969724604,
          66.58939800410252,
          66.77152574523042,
          66.96842217899487,
          68.6819351580267,
          68.97628951504679,
          69.63550088937606,
          70.8318078508094,
          71.28929507618555,
          71.47398518688564,
          78.86522517281136
         ],
         "yaxis": "y10"
        },
        {
         "hovertemplate": "<b>%{hovertext}</b><br><br>year=1957<br>gdpPercap=%{x}<br>lifeExp=%{y}<extra></extra>",
         "hovertext": [
          "Albania",
          "Austria",
          "Belgium",
          "Bosnia and Herzegovina",
          "Bulgaria",
          "Croatia",
          "Czech Republic",
          "Denmark",
          "Finland",
          "France",
          "Germany",
          "Greece",
          "Hungary",
          "Iceland",
          "Ireland",
          "Italy",
          "Montenegro",
          "Netherlands",
          "Norway",
          "Poland",
          "Portugal",
          "Romania",
          "Serbia",
          "Slovak Republic",
          "Slovenia",
          "Spain",
          "Sweden",
          "Switzerland",
          "Turkey",
          "United Kingdom"
         ],
         "legendgroup": "",
         "marker": {
          "color": "#636efa",
          "symbol": "circle"
         },
         "mode": "markers",
         "name": "",
         "orientation": "v",
         "showlegend": false,
         "type": "scatter",
         "x": [
          1942.284244,
          8842.59803,
          9714.960623,
          1353.989176,
          3008.670727,
          4338.231617,
          8256.343918,
          11099.65935,
          7545.415386,
          8662.834898000001,
          10187.82665,
          4916.299889,
          6040.180011,
          9244.001412,
          5599.077872,
          6248.656232,
          3682.259903,
          11276.19344,
          11653.97304,
          4734.253019,
          3774.571743,
          3943.370225,
          4981.090891,
          6093.26298,
          5862.276629,
          4564.80241,
          9911.878226,
          17909.48973,
          2218.754257,
          11283.17795
         ],
         "xaxis": "x11",
         "y": [
          59.28,
          67.48,
          69.24,
          58.45,
          66.61,
          64.77,
          69.03,
          71.81,
          67.49,
          68.93,
          69.1,
          67.86,
          66.41,
          73.47,
          68.9,
          67.81,
          61.448,
          72.99,
          73.44,
          65.77,
          61.51,
          64.1,
          61.685,
          67.45,
          67.85,
          66.66,
          72.49,
          70.56,
          48.07899999999999,
          70.42
         ],
         "yaxis": "y11"
        },
        {
         "hovertemplate": "<b>OLS trendline</b><br>lifeExp = 0.001064 * gdpPercap + 59.2944<br>R<sup>2</sup>=0.546045<br><br>year=1957<br>gdpPercap=%{x}<br>lifeExp=%{y} <b>(trend)</b><extra></extra>",
         "legendgroup": "",
         "marker": {
          "color": "#636efa",
          "symbol": "circle"
         },
         "mode": "lines",
         "name": "",
         "showlegend": false,
         "type": "scatter",
         "x": [
          1353.989176,
          1942.284244,
          2218.754257,
          3008.670727,
          3682.259903,
          3774.571743,
          3943.370225,
          4338.231617,
          4564.80241,
          4734.253019,
          4916.299889,
          4981.090891,
          5599.077872,
          5862.276629,
          6040.180011,
          6093.26298,
          6248.656232,
          7545.415386,
          8256.343918,
          8662.834898000001,
          8842.59803,
          9244.001412,
          9714.960623,
          9911.878226,
          10187.82665,
          11099.65935,
          11276.19344,
          11283.17795,
          11653.97304,
          17909.48973
         ],
         "xaxis": "x11",
         "y": [
          60.73508242581132,
          61.3610266043669,
          61.65518986460102,
          62.49565860696633,
          63.212355459259584,
          63.31057497868577,
          63.49017605458145,
          63.9103073851041,
          64.15137802571172,
          64.33167296276915,
          64.52537028355097,
          64.59430771432454,
          65.25184399878663,
          65.53188668265155,
          65.7211753446946,
          65.77765546365761,
          65.94299341525203,
          67.32274124518787,
          68.07916705968147,
          68.51167223677119,
          68.70293966720683,
          69.13003165536442,
          69.63113083585691,
          69.8406505717133,
          70.13425886282408,
          71.10444610631397,
          71.29227784579764,
          71.29970934337831,
          71.69423420113641,
          78.35008509799071
         ],
         "yaxis": "y11"
        },
        {
         "hovertemplate": "<b>%{hovertext}</b><br><br>year=1962<br>gdpPercap=%{x}<br>lifeExp=%{y}<extra></extra>",
         "hovertext": [
          "Albania",
          "Austria",
          "Belgium",
          "Bosnia and Herzegovina",
          "Bulgaria",
          "Croatia",
          "Czech Republic",
          "Denmark",
          "Finland",
          "France",
          "Germany",
          "Greece",
          "Hungary",
          "Iceland",
          "Ireland",
          "Italy",
          "Montenegro",
          "Netherlands",
          "Norway",
          "Poland",
          "Portugal",
          "Romania",
          "Serbia",
          "Slovak Republic",
          "Slovenia",
          "Spain",
          "Sweden",
          "Switzerland",
          "Turkey",
          "United Kingdom"
         ],
         "legendgroup": "",
         "marker": {
          "color": "#636efa",
          "symbol": "circle"
         },
         "mode": "markers",
         "name": "",
         "orientation": "v",
         "showlegend": false,
         "type": "scatter",
         "x": [
          2312.888958,
          10750.72111,
          10991.20676,
          1709.683679,
          4254.337839,
          5477.890018,
          10136.86713,
          13583.31351,
          9371.842561,
          10560.48553,
          12902.46291,
          6017.190732999999,
          7550.359877,
          10350.15906,
          6631.597314,
          8243.58234,
          4649.593785,
          12790.84956,
          13450.40151,
          5338.752143,
          4727.954889,
          4734.997586,
          6289.629157,
          7481.107598,
          7402.303395,
          5693.843879,
          12329.44192,
          20431.0927,
          2322.869908,
          12477.17707
         ],
         "xaxis": "x12",
         "y": [
          64.82,
          69.54,
          70.25,
          61.93,
          69.51,
          67.13,
          69.9,
          72.35,
          68.75,
          70.51,
          70.3,
          69.51,
          67.96,
          73.68,
          70.29,
          69.24,
          63.728,
          73.23,
          73.47,
          67.64,
          64.39,
          66.8,
          64.531,
          70.33,
          69.15,
          69.69,
          73.37,
          71.32,
          52.098,
          70.76
         ],
         "yaxis": "y12"
        },
        {
         "hovertemplate": "<b>OLS trendline</b><br>lifeExp = 0.000715039 * gdpPercap + 62.5576<br>R<sup>2</sup>=0.487023<br><br>year=1962<br>gdpPercap=%{x}<br>lifeExp=%{y} <b>(trend)</b><extra></extra>",
         "legendgroup": "",
         "marker": {
          "color": "#636efa",
          "symbol": "circle"
         },
         "mode": "lines",
         "name": "",
         "showlegend": false,
         "type": "scatter",
         "x": [
          1709.683679,
          2312.888958,
          2322.869908,
          4254.337839,
          4649.593785,
          4727.954889,
          4734.997586,
          5338.752143,
          5477.890018,
          5693.843879,
          6017.190732999999,
          6289.629157,
          6631.597314,
          7402.303395,
          7481.107598,
          7550.359877,
          8243.58234,
          9371.842561,
          10136.86713,
          10350.15906,
          10560.48553,
          10750.72111,
          10991.20676,
          12329.44192,
          12477.17707,
          12790.84956,
          12902.46291,
          13450.40151,
          13583.31351,
          20431.0927
         ],
         "xaxis": "x12",
         "y": [
          63.78007508326532,
          64.21139033127979,
          64.21852709893508,
          65.59960183202152,
          65.88222521466301,
          65.93825645341889,
          65.94329225583806,
          66.37500025899749,
          66.47448925412586,
          66.62890466851233,
          66.86011025205582,
          67.05491432706496,
          67.29943486689517,
          67.8505197065767,
          67.90686777836062,
          67.95638585277464,
          68.45206689033739,
          69.2588168542174,
          69.80583919172481,
          69.95835122185815,
          70.10874283269162,
          70.24476867534489,
          70.41672527351264,
          71.37361548988139,
          71.4792518711948,
          71.70353990800369,
          71.78334779664947,
          72.1751452184948,
          72.27018247072034,
          77.16661107058208
         ],
         "yaxis": "y12"
        },
        {
         "hovertemplate": "<b>%{hovertext}</b><br><br>year=1967<br>gdpPercap=%{x}<br>lifeExp=%{y}<extra></extra>",
         "hovertext": [
          "Albania",
          "Austria",
          "Belgium",
          "Bosnia and Herzegovina",
          "Bulgaria",
          "Croatia",
          "Czech Republic",
          "Denmark",
          "Finland",
          "France",
          "Germany",
          "Greece",
          "Hungary",
          "Iceland",
          "Ireland",
          "Italy",
          "Montenegro",
          "Netherlands",
          "Norway",
          "Poland",
          "Portugal",
          "Romania",
          "Serbia",
          "Slovak Republic",
          "Slovenia",
          "Spain",
          "Sweden",
          "Switzerland",
          "Turkey",
          "United Kingdom"
         ],
         "legendgroup": "",
         "marker": {
          "color": "#636efa",
          "symbol": "circle"
         },
         "mode": "markers",
         "name": "",
         "orientation": "v",
         "showlegend": false,
         "type": "scatter",
         "x": [
          2760.196931,
          12834.6024,
          13149.04119,
          2172.352423000001,
          5577.0028,
          6960.297861,
          11399.44489,
          15937.21123,
          10921.63626,
          12999.91766,
          14745.62561,
          8513.097016,
          9326.64467,
          13319.89568,
          7655.568963,
          10022.40131,
          5907.850937,
          15363.25136,
          16361.87647,
          6557.152776,
          6361.517993,
          6470.866545,
          7991.707066,
          8412.902397,
          9405.489397,
          7993.512294,
          15258.29697,
          22966.14432,
          2826.356387000001,
          14142.85089
         ],
         "xaxis": "x7",
         "y": [
          66.22,
          70.14,
          70.94,
          64.79,
          70.42,
          68.5,
          70.38,
          72.96,
          69.83,
          71.55,
          70.8,
          71,
          69.5,
          73.73,
          71.08,
          71.06,
          67.178,
          73.82,
          74.08,
          69.61,
          66.6,
          66.8,
          66.914,
          70.98,
          69.18,
          71.44,
          74.16,
          72.77,
          54.33600000000001,
          71.36
         ],
         "yaxis": "y7"
        },
        {
         "hovertemplate": "<b>OLS trendline</b><br>lifeExp = 0.000573787 * gdpPercap + 63.9172<br>R<sup>2</sup>=0.509093<br><br>year=1967<br>gdpPercap=%{x}<br>lifeExp=%{y} <b>(trend)</b><extra></extra>",
         "legendgroup": "",
         "marker": {
          "color": "#636efa",
          "symbol": "circle"
         },
         "mode": "lines",
         "name": "",
         "showlegend": false,
         "type": "scatter",
         "x": [
          2172.352423000001,
          2760.196931,
          2826.356387000001,
          5577.0028,
          5907.850937,
          6361.517993,
          6470.866545,
          6557.152776,
          6960.297861,
          7655.568963,
          7991.707066,
          7993.512294,
          8412.902397,
          8513.097016,
          9326.64467,
          9405.489397,
          10022.40131,
          10921.63626,
          11399.44489,
          12834.6024,
          12999.91766,
          13149.04119,
          13319.89568,
          14142.85089,
          14745.62561,
          15258.29697,
          15363.25136,
          15937.21123,
          16361.87647,
          22966.14432
         ],
         "xaxis": "x7",
         "y": [
          65.16367051097194,
          65.50096825910454,
          65.53892971867894,
          67.11721586133679,
          67.30705234031257,
          67.56736076253695,
          67.63010357947104,
          67.67961352813106,
          67.91093308201081,
          68.30987085187134,
          68.5027426464709,
          68.50377846347861,
          68.74441920334412,
          68.8019096092317,
          69.26871296957331,
          69.3139530773013,
          69.66792933500086,
          70.18389898267023,
          70.45805953489797,
          71.28153477324891,
          71.37639057979487,
          71.46195577633591,
          71.55998992303809,
          72.03219122009774,
          72.3780557351529,
          72.67222008117768,
          72.7324415834999,
          73.06177250185473,
          73.30544004865129,
          77.0948854607526
         ],
         "yaxis": "y7"
        },
        {
         "hovertemplate": "<b>%{hovertext}</b><br><br>year=1972<br>gdpPercap=%{x}<br>lifeExp=%{y}<extra></extra>",
         "hovertext": [
          "Albania",
          "Austria",
          "Belgium",
          "Bosnia and Herzegovina",
          "Bulgaria",
          "Croatia",
          "Czech Republic",
          "Denmark",
          "Finland",
          "France",
          "Germany",
          "Greece",
          "Hungary",
          "Iceland",
          "Ireland",
          "Italy",
          "Montenegro",
          "Netherlands",
          "Norway",
          "Poland",
          "Portugal",
          "Romania",
          "Serbia",
          "Slovak Republic",
          "Slovenia",
          "Spain",
          "Sweden",
          "Switzerland",
          "Turkey",
          "United Kingdom"
         ],
         "legendgroup": "",
         "marker": {
          "color": "#636efa",
          "symbol": "circle"
         },
         "mode": "markers",
         "name": "",
         "orientation": "v",
         "showlegend": false,
         "type": "scatter",
         "x": [
          3313.422188,
          16661.6256,
          16672.14356,
          2860.16975,
          6597.494398,
          9164.090127,
          13108.4536,
          18866.20721,
          14358.8759,
          16107.19171,
          18016.18027,
          12724.82957,
          10168.65611,
          15798.06362,
          9530.772896,
          12269.27378,
          7778.414017,
          18794.74567,
          18965.05551,
          8006.506993000001,
          9022.247417,
          8011.414401999999,
          10522.06749,
          9674.167626,
          12383.4862,
          10638.75131,
          17832.02464,
          27195.11304,
          3450.69638,
          15895.11641
         ],
         "xaxis": "x8",
         "y": [
          67.69,
          70.63,
          71.44,
          67.45,
          70.9,
          69.61,
          70.29,
          73.47,
          70.87,
          72.38,
          71,
          72.34,
          69.76,
          74.46,
          71.28,
          72.19,
          70.63600000000002,
          73.75,
          74.34,
          70.85,
          69.26,
          69.21,
          68.7,
          70.35,
          69.82,
          73.06,
          74.72,
          73.78,
          57.005,
          72.01
         ],
         "yaxis": "y8"
        },
        {
         "hovertemplate": "<b>OLS trendline</b><br>lifeExp = 0.000400268 * gdpPercap + 65.7799<br>R<sup>2</sup>=0.463140<br><br>year=1972<br>gdpPercap=%{x}<br>lifeExp=%{y} <b>(trend)</b><extra></extra>",
         "legendgroup": "",
         "marker": {
          "color": "#636efa",
          "symbol": "circle"
         },
         "mode": "lines",
         "name": "",
         "showlegend": false,
         "type": "scatter",
         "x": [
          2860.16975,
          3313.422188,
          3450.69638,
          6597.494398,
          7778.414017,
          8006.506993000001,
          8011.414401999999,
          9022.247417,
          9164.090127,
          9530.772896,
          9674.167626,
          10168.65611,
          10522.06749,
          10638.75131,
          12269.27378,
          12383.4862,
          12724.82957,
          13108.4536,
          14358.8759,
          15798.06362,
          15895.11641,
          16107.19171,
          16661.6256,
          16672.14356,
          17832.02464,
          18016.18027,
          18794.74567,
          18866.20721,
          18965.05551,
          27195.11304
         ],
         "xaxis": "x8",
         "y": [
          66.92469075554631,
          67.10611331447245,
          67.16105981469879,
          68.42062314185573,
          68.89330776791188,
          68.9846061436285,
          68.98657042362754,
          69.3911747828176,
          69.4479499157364,
          69.59472138498575,
          69.65211774222965,
          69.85004578101228,
          69.99150513464785,
          70.03820996276325,
          70.6908563339538,
          70.73657193912292,
          70.87320085154782,
          71.02675336964407,
          71.52725771200419,
          72.10331885817166,
          72.14216600831699,
          72.22705301693586,
          72.4489752983096,
          72.45318530372359,
          72.91744887064922,
          72.99116052189302,
          73.30279552993098,
          73.33139931529352,
          73.3709651510795,
          76.6651958534899
         ],
         "yaxis": "y8"
        },
        {
         "hovertemplate": "<b>%{hovertext}</b><br><br>year=1977<br>gdpPercap=%{x}<br>lifeExp=%{y}<extra></extra>",
         "hovertext": [
          "Albania",
          "Austria",
          "Belgium",
          "Bosnia and Herzegovina",
          "Bulgaria",
          "Croatia",
          "Czech Republic",
          "Denmark",
          "Finland",
          "France",
          "Germany",
          "Greece",
          "Hungary",
          "Iceland",
          "Ireland",
          "Italy",
          "Montenegro",
          "Netherlands",
          "Norway",
          "Poland",
          "Portugal",
          "Romania",
          "Serbia",
          "Slovak Republic",
          "Slovenia",
          "Spain",
          "Sweden",
          "Switzerland",
          "Turkey",
          "United Kingdom"
         ],
         "legendgroup": "",
         "marker": {
          "color": "#636efa",
          "symbol": "circle"
         },
         "mode": "markers",
         "name": "",
         "orientation": "v",
         "showlegend": false,
         "type": "scatter",
         "x": [
          3533.003910000001,
          19749.4223,
          19117.97448,
          3528.481305,
          7612.240438,
          11305.38517,
          14800.16062,
          20422.9015,
          15605.42283,
          18292.63514,
          20512.92123,
          14195.52428,
          11674.83737,
          19654.96247,
          11150.98113,
          14255.98475,
          9595.929905,
          21209.0592,
          23311.34939,
          9508.141454,
          10172.48572,
          9356.39724,
          12980.66956,
          10922.66404,
          15277.03017,
          13236.92117,
          18855.72521,
          26982.29052,
          4269.122326,
          17428.74846
         ],
         "xaxis": "x9",
         "y": [
          68.93,
          72.17,
          72.8,
          69.86,
          70.81,
          70.64,
          70.71,
          74.69,
          72.52,
          73.83,
          72.5,
          73.68,
          69.95,
          76.11,
          72.03,
          73.48,
          73.066,
          75.24,
          75.37,
          70.67,
          70.41,
          69.46,
          70.3,
          70.45,
          70.97,
          74.39,
          75.44,
          75.39,
          59.507,
          72.76
         ],
         "yaxis": "y9"
        },
        {
         "hovertemplate": "<b>OLS trendline</b><br>lifeExp = 0.00039008 * gdpPercap + 66.3659<br>R<sup>2</sup>=0.539074<br><br>year=1977<br>gdpPercap=%{x}<br>lifeExp=%{y} <b>(trend)</b><extra></extra>",
         "legendgroup": "",
         "marker": {
          "color": "#636efa",
          "symbol": "circle"
         },
         "mode": "lines",
         "name": "",
         "showlegend": false,
         "type": "scatter",
         "x": [
          3528.481305,
          3533.003910000001,
          4269.122326,
          7612.240438,
          9356.39724,
          9508.141454,
          9595.929905,
          10172.48572,
          10922.66404,
          11150.98113,
          11305.38517,
          11674.83737,
          12980.66956,
          13236.92117,
          14195.52428,
          14255.98475,
          14800.16062,
          15277.03017,
          15605.42283,
          17428.74846,
          18292.63514,
          18855.72521,
          19117.97448,
          19654.96247,
          19749.4223,
          20422.9015,
          20512.92123,
          21209.0592,
          23311.34939,
          26982.29052
         ],
         "xaxis": "x9",
         "y": [
          67.74225981726005,
          67.7440239959712,
          68.03116922275758,
          69.33525344015872,
          70.01561449291265,
          70.07480690787669,
          70.10905144533658,
          70.3339544591109,
          70.62658417621152,
          70.71564615477673,
          70.77587611522719,
          70.9199921072332,
          71.42937140299928,
          71.52933008501087,
          71.90326218810213,
          71.92684662097653,
          72.139118858984,
          72.3251362335069,
          72.45323571149996,
          73.16447895735809,
          73.50146405548168,
          73.72111434860967,
          73.82341259909755,
          74.0328809873604,
          74.06972789774602,
          74.33243880595934,
          74.36755372120159,
          74.63910336718989,
          75.4591651673804,
          76.89112665670324
         ],
         "yaxis": "y9"
        },
        {
         "hovertemplate": "<b>%{hovertext}</b><br><br>year=1982<br>gdpPercap=%{x}<br>lifeExp=%{y}<extra></extra>",
         "hovertext": [
          "Albania",
          "Austria",
          "Belgium",
          "Bosnia and Herzegovina",
          "Bulgaria",
          "Croatia",
          "Czech Republic",
          "Denmark",
          "Finland",
          "France",
          "Germany",
          "Greece",
          "Hungary",
          "Iceland",
          "Ireland",
          "Italy",
          "Montenegro",
          "Netherlands",
          "Norway",
          "Poland",
          "Portugal",
          "Romania",
          "Serbia",
          "Slovak Republic",
          "Slovenia",
          "Spain",
          "Sweden",
          "Switzerland",
          "Turkey",
          "United Kingdom"
         ],
         "legendgroup": "",
         "marker": {
          "color": "#636efa",
          "symbol": "circle"
         },
         "mode": "markers",
         "name": "",
         "orientation": "v",
         "showlegend": false,
         "type": "scatter",
         "x": [
          3630.880722,
          21597.08362,
          20979.84589,
          4126.613157,
          8224.191647,
          13221.82184,
          15377.22855,
          21688.04048,
          18533.15761,
          20293.89746,
          22031.53274,
          15268.42089,
          12545.99066,
          23269.6075,
          12618.32141,
          16537.4835,
          11222.58762,
          21399.46046,
          26298.63531,
          8451.531004,
          11753.84291,
          9605.314053,
          15181.0927,
          11348.54585,
          17866.72175,
          13926.16997,
          20667.38125,
          28397.71512,
          4241.356344,
          18232.42452
         ],
         "xaxis": "x4",
         "y": [
          70.42,
          73.18,
          73.93,
          70.69,
          71.08,
          70.46,
          70.96,
          74.63,
          74.55,
          74.89,
          73.8,
          75.24,
          69.39,
          76.99,
          73.1,
          74.98,
          74.101,
          76.05,
          75.97,
          71.32,
          72.77,
          69.66,
          70.16199999999999,
          70.8,
          71.063,
          76.3,
          76.42,
          76.21,
          61.036,
          74.04
         ],
         "yaxis": "y4"
        },
        {
         "hovertemplate": "<b>OLS trendline</b><br>lifeExp = 0.000356374 * gdpPercap + 67.2406<br>R<sup>2</sup>=0.510652<br><br>year=1982<br>gdpPercap=%{x}<br>lifeExp=%{y} <b>(trend)</b><extra></extra>",
         "legendgroup": "",
         "marker": {
          "color": "#636efa",
          "symbol": "circle"
         },
         "mode": "lines",
         "name": "",
         "showlegend": false,
         "type": "scatter",
         "x": [
          3630.880722,
          4126.613157,
          4241.356344,
          8224.191647,
          8451.531004,
          9605.314053,
          11222.58762,
          11348.54585,
          11753.84291,
          12545.99066,
          12618.32141,
          13221.82184,
          13926.16997,
          15181.0927,
          15268.42089,
          15377.22855,
          16537.4835,
          17866.72175,
          18232.42452,
          18533.15761,
          20293.89746,
          20667.38125,
          20979.84589,
          21399.46046,
          21597.08362,
          21688.04048,
          22031.53274,
          23269.6075,
          26298.63531,
          28397.71512
         ],
         "xaxis": "x4",
         "y": [
          68.53453524414759,
          68.71120155939887,
          68.75209308598917,
          70.17147335557698,
          70.25249126700893,
          70.66366993008394,
          71.24002471678492,
          71.28491299682992,
          71.42935046574877,
          71.71165159080445,
          71.73742841350087,
          71.95250047595461,
          72.20351207010464,
          72.6507343194097,
          72.68185584476412,
          72.7206321018862,
          73.13411718435525,
          73.60782357743916,
          73.73815065771802,
          73.84532421170272,
          74.47280669913685,
          74.60590673521858,
          74.71726111249494,
          74.8668009744724,
          74.93722879605626,
          74.96964348625708,
          75.09205531087682,
          75.53327337613175,
          76.61274113778092,
          77.36079930236531
         ],
         "yaxis": "y4"
        },
        {
         "hovertemplate": "<b>%{hovertext}</b><br><br>year=1987<br>gdpPercap=%{x}<br>lifeExp=%{y}<extra></extra>",
         "hovertext": [
          "Albania",
          "Austria",
          "Belgium",
          "Bosnia and Herzegovina",
          "Bulgaria",
          "Croatia",
          "Czech Republic",
          "Denmark",
          "Finland",
          "France",
          "Germany",
          "Greece",
          "Hungary",
          "Iceland",
          "Ireland",
          "Italy",
          "Montenegro",
          "Netherlands",
          "Norway",
          "Poland",
          "Portugal",
          "Romania",
          "Serbia",
          "Slovak Republic",
          "Slovenia",
          "Spain",
          "Sweden",
          "Switzerland",
          "Turkey",
          "United Kingdom"
         ],
         "legendgroup": "",
         "marker": {
          "color": "#636efa",
          "symbol": "circle"
         },
         "mode": "markers",
         "name": "",
         "orientation": "v",
         "showlegend": false,
         "type": "scatter",
         "x": [
          3738.932735,
          23687.82607,
          22525.56308,
          4314.114757,
          8239.854824,
          13822.58394,
          16310.4434,
          25116.17581,
          21141.01223,
          22066.44214,
          24639.18566,
          16120.52839,
          12986.47998,
          26923.20628,
          13872.86652,
          19207.23482,
          11732.51017,
          23651.32361,
          31540.9748,
          9082.351172,
          13039.30876,
          9696.273295,
          15870.87851,
          12037.26758,
          18678.53492,
          15764.98313,
          23586.92927,
          30281.70459,
          5089.043686,
          21664.78767
         ],
         "xaxis": "x5",
         "y": [
          72,
          74.94,
          75.35,
          71.14,
          71.34,
          71.52,
          71.58,
          74.8,
          74.83,
          76.34,
          74.847,
          76.67,
          69.58,
          77.23,
          74.36,
          76.42,
          74.865,
          76.83,
          75.89,
          70.98,
          74.06,
          69.53,
          71.218,
          71.08,
          72.25,
          76.9,
          77.19,
          77.41,
          63.108,
          75.007
         ],
         "yaxis": "y5"
        },
        {
         "hovertemplate": "<b>OLS trendline</b><br>lifeExp = 0.000308856 * gdpPercap + 68.3254<br>R<sup>2</sup>=0.531653<br><br>year=1987<br>gdpPercap=%{x}<br>lifeExp=%{y} <b>(trend)</b><extra></extra>",
         "legendgroup": "",
         "marker": {
          "color": "#636efa",
          "symbol": "circle"
         },
         "mode": "lines",
         "name": "",
         "showlegend": false,
         "type": "scatter",
         "x": [
          3738.932735,
          4314.114757,
          5089.043686,
          8239.854824,
          9082.351172,
          9696.273295,
          11732.51017,
          12037.26758,
          12986.47998,
          13039.30876,
          13822.58394,
          13872.86652,
          15764.98313,
          15870.87851,
          16120.52839,
          16310.4434,
          18678.53492,
          19207.23482,
          21141.01223,
          21664.78767,
          22066.44214,
          22525.56308,
          23586.92927,
          23651.32361,
          23687.82607,
          24639.18566,
          25116.17581,
          26923.20628,
          30281.70459,
          31540.9748
         ],
         "xaxis": "x5",
         "y": [
          69.48021124016094,
          69.65785983296315,
          69.89720151697456,
          70.8703493961536,
          71.13055970339299,
          71.32017342056353,
          71.94907801357897,
          72.0432042605091,
          72.33637449302796,
          72.3526909947048,
          72.59461047094305,
          72.61014056270149,
          73.19453270349787,
          73.22723915905753,
          73.3043450980106,
          73.36300154586202,
          74.09440153762816,
          74.25769383407908,
          74.85495317553881,
          75.01672452148041,
          75.1407780361228,
          75.28258043222937,
          75.61039006968242,
          75.6302786674617,
          75.6415526823036,
          75.93538608798744,
          76.08270750223014,
          76.64082025239917,
          77.67811362367925,
          78.06704716507606
         ],
         "yaxis": "y5"
        },
        {
         "hovertemplate": "<b>%{hovertext}</b><br><br>year=1992<br>gdpPercap=%{x}<br>lifeExp=%{y}<extra></extra>",
         "hovertext": [
          "Albania",
          "Austria",
          "Belgium",
          "Bosnia and Herzegovina",
          "Bulgaria",
          "Croatia",
          "Czech Republic",
          "Denmark",
          "Finland",
          "France",
          "Germany",
          "Greece",
          "Hungary",
          "Iceland",
          "Ireland",
          "Italy",
          "Montenegro",
          "Netherlands",
          "Norway",
          "Poland",
          "Portugal",
          "Romania",
          "Serbia",
          "Slovak Republic",
          "Slovenia",
          "Spain",
          "Sweden",
          "Switzerland",
          "Turkey",
          "United Kingdom"
         ],
         "legendgroup": "",
         "marker": {
          "color": "#636efa",
          "symbol": "circle"
         },
         "mode": "markers",
         "name": "",
         "orientation": "v",
         "showlegend": false,
         "type": "scatter",
         "x": [
          2497.437901,
          27042.01868,
          25575.57069,
          2546.781445,
          6302.623438000001,
          8447.794873,
          14297.02122,
          26406.73985,
          20647.16499,
          24703.79615,
          26505.30317,
          17541.49634,
          10535.62855,
          25144.39201,
          17558.81555,
          22013.64486,
          7003.339037000002,
          26790.94961,
          33965.66115,
          7738.881247,
          16207.26663,
          6598.409903,
          9325.068238,
          9498.467723,
          14214.71681,
          18603.06452,
          23880.01683,
          31871.5303,
          5678.348271,
          22705.09254
         ],
         "xaxis": "x6",
         "y": [
          71.581,
          76.04,
          76.46,
          72.178,
          71.19,
          72.527,
          72.4,
          75.33,
          75.7,
          77.46,
          76.07,
          77.03,
          69.17,
          78.77,
          75.467,
          77.44,
          75.435,
          77.42,
          77.32,
          70.99,
          74.86,
          69.36,
          71.65899999999998,
          71.38,
          73.64,
          77.57,
          78.16,
          78.03,
          66.146,
          76.42
         ],
         "yaxis": "y6"
        },
        {
         "hovertemplate": "<b>OLS trendline</b><br>lifeExp = 0.000286927 * gdpPercap + 69.5447<br>R<sup>2</sup>=0.663146<br><br>year=1992<br>gdpPercap=%{x}<br>lifeExp=%{y} <b>(trend)</b><extra></extra>",
         "legendgroup": "",
         "marker": {
          "color": "#636efa",
          "symbol": "circle"
         },
         "mode": "lines",
         "name": "",
         "showlegend": false,
         "type": "scatter",
         "x": [
          2497.437901,
          2546.781445,
          5678.348271,
          6302.623438000001,
          6598.409903,
          7003.339037000002,
          7738.881247,
          8447.794873,
          9325.068238,
          9498.467723,
          10535.62855,
          14214.71681,
          14297.02122,
          16207.26663,
          17541.49634,
          17558.81555,
          18603.06452,
          20647.16499,
          22013.64486,
          22705.09254,
          23880.01683,
          24703.79615,
          25144.39201,
          25575.57069,
          26406.73985,
          26505.30317,
          26790.94961,
          27042.01868,
          31871.5303,
          33965.66115
         ],
         "xaxis": "x6",
         "y": [
          70.26126212248154,
          70.2754201029503,
          71.17395025228694,
          71.35307146866161,
          71.43794050430269,
          71.55412548628135,
          71.76517218862456,
          71.96857843911489,
          72.22029159468865,
          72.2700445374834,
          72.56763367562125,
          73.62326234566405,
          73.64687767879198,
          74.1949780990884,
          74.57780423283788,
          74.5827735766879,
          74.88239649233783,
          75.46890350388203,
          75.86098306976022,
          76.05937787392362,
          76.39649502850193,
          76.63285931403293,
          76.75927803216342,
          76.88299470987074,
          77.12147933783979,
          77.14975978643294,
          77.23171937811712,
          77.30375779897658,
          78.68947365249537,
          79.29033571609834
         ],
         "yaxis": "y6"
        },
        {
         "hovertemplate": "<b>%{hovertext}</b><br><br>year=1997<br>gdpPercap=%{x}<br>lifeExp=%{y}<extra></extra>",
         "hovertext": [
          "Albania",
          "Austria",
          "Belgium",
          "Bosnia and Herzegovina",
          "Bulgaria",
          "Croatia",
          "Czech Republic",
          "Denmark",
          "Finland",
          "France",
          "Germany",
          "Greece",
          "Hungary",
          "Iceland",
          "Ireland",
          "Italy",
          "Montenegro",
          "Netherlands",
          "Norway",
          "Poland",
          "Portugal",
          "Romania",
          "Serbia",
          "Slovak Republic",
          "Slovenia",
          "Spain",
          "Sweden",
          "Switzerland",
          "Turkey",
          "United Kingdom"
         ],
         "legendgroup": "",
         "marker": {
          "color": "#636efa",
          "symbol": "circle"
         },
         "mode": "markers",
         "name": "",
         "orientation": "v",
         "showlegend": false,
         "type": "scatter",
         "x": [
          3193.054604,
          29095.92066,
          27561.19663,
          4766.355904,
          5970.38876,
          9875.604515,
          16048.51424,
          29804.34567,
          23723.9502,
          25889.78487,
          27788.88416,
          18747.69814,
          11712.7768,
          28061.09966,
          24521.94713,
          24675.02446,
          6465.613349,
          30246.13063,
          41283.16433,
          10159.58368,
          17641.03156,
          7346.547556999999,
          7914.320304000002,
          12126.23065,
          17161.10735,
          20445.29896,
          25266.59499,
          32135.32301,
          6601.429915,
          26074.53136
         ],
         "xaxis": "x",
         "y": [
          72.95,
          77.51,
          77.53,
          73.244,
          70.32,
          73.68,
          74.01,
          76.11,
          77.13,
          78.64,
          77.34,
          77.869,
          71.04,
          78.95,
          76.122,
          78.82,
          75.445,
          78.03,
          78.32,
          72.75,
          75.97,
          69.72,
          72.232,
          72.71,
          75.13,
          78.77,
          79.39,
          79.37,
          68.835,
          77.218
         ],
         "yaxis": "y"
        },
        {
         "hovertemplate": "<b>OLS trendline</b><br>lifeExp = 0.000255246 * gdpPercap + 70.6359<br>R<sup>2</sup>=0.684783<br><br>year=1997<br>gdpPercap=%{x}<br>lifeExp=%{y} <b>(trend)</b><extra></extra>",
         "legendgroup": "",
         "marker": {
          "color": "#636efa",
          "symbol": "circle"
         },
         "mode": "lines",
         "name": "",
         "showlegend": false,
         "type": "scatter",
         "x": [
          3193.054604,
          4766.355904,
          5970.38876,
          6465.613349,
          6601.429915,
          7346.547556999999,
          7914.320304000002,
          9875.604515,
          10159.58368,
          11712.7768,
          12126.23065,
          16048.51424,
          17161.10735,
          17641.03156,
          18747.69814,
          20445.29896,
          23723.9502,
          24521.94713,
          24675.02446,
          25266.59499,
          25889.78487,
          26074.53136,
          27561.19663,
          27788.88416,
          28061.09966,
          29095.92066,
          29804.34567,
          30246.13063,
          32135.32301,
          41283.16433
         ],
         "xaxis": "x",
         "y": [
          71.45090665786852,
          71.85248573707506,
          72.15981047242417,
          72.28621463572782,
          72.32088128954376,
          72.51106968929588,
          72.65599148967755,
          73.15660170814982,
          73.22908629301257,
          73.62553283695145,
          73.73106533500341,
          74.73221306968026,
          75.01619816309201,
          75.13869696376085,
          75.42116933328413,
          75.85447538480513,
          76.69133844847805,
          76.89502408222096,
          76.93409647937006,
          77.08509257193232,
          77.24415938143743,
          77.29131520933946,
          77.67078077656103,
          77.72889713904304,
          77.79837909385725,
          78.06251315662297,
          78.24333590379969,
          78.35609980823686,
          78.8383088653351,
          81.1732600244126
         ],
         "yaxis": "y"
        },
        {
         "hovertemplate": "<b>%{hovertext}</b><br><br>year=2002<br>gdpPercap=%{x}<br>lifeExp=%{y}<extra></extra>",
         "hovertext": [
          "Albania",
          "Austria",
          "Belgium",
          "Bosnia and Herzegovina",
          "Bulgaria",
          "Croatia",
          "Czech Republic",
          "Denmark",
          "Finland",
          "France",
          "Germany",
          "Greece",
          "Hungary",
          "Iceland",
          "Ireland",
          "Italy",
          "Montenegro",
          "Netherlands",
          "Norway",
          "Poland",
          "Portugal",
          "Romania",
          "Serbia",
          "Slovak Republic",
          "Slovenia",
          "Spain",
          "Sweden",
          "Switzerland",
          "Turkey",
          "United Kingdom"
         ],
         "legendgroup": "",
         "marker": {
          "color": "#636efa",
          "symbol": "circle"
         },
         "mode": "markers",
         "name": "",
         "orientation": "v",
         "showlegend": false,
         "type": "scatter",
         "x": [
          4604.211737,
          32417.60769,
          30485.88375,
          6018.975239,
          7696.777725,
          11628.38895,
          17596.21021999999,
          32166.50006,
          28204.59057,
          28926.03234,
          30035.80198,
          22514.2548,
          14843.93556,
          31163.20196,
          34077.04939,
          27968.09817,
          6557.194282,
          33724.75778,
          44683.97525,
          12002.23908,
          19970.90787,
          7885.360081,
          7236.075251,
          13638.77837,
          20660.01936,
          24835.47166,
          29341.63093000001,
          34480.95771,
          6508.085718,
          29478.99919
         ],
         "xaxis": "x2",
         "y": [
          75.65100000000002,
          78.98,
          78.32,
          74.09,
          72.14,
          74.876,
          75.51,
          77.18,
          78.37,
          79.59,
          78.67,
          78.256,
          72.59,
          80.5,
          77.783,
          80.24,
          73.98100000000002,
          78.53,
          79.05,
          74.67,
          77.29,
          71.322,
          73.21300000000002,
          73.8,
          76.66,
          79.78,
          80.04,
          80.62,
          70.845,
          78.471
         ],
         "yaxis": "y2"
        },
        {
         "hovertemplate": "<b>OLS trendline</b><br>lifeExp = 0.000223002 * gdpPercap + 71.8588<br>R<sup>2</sup>=0.730185<br><br>year=2002<br>gdpPercap=%{x}<br>lifeExp=%{y} <b>(trend)</b><extra></extra>",
         "legendgroup": "",
         "marker": {
          "color": "#636efa",
          "symbol": "circle"
         },
         "mode": "lines",
         "name": "",
         "showlegend": false,
         "type": "scatter",
         "x": [
          4604.211737,
          6018.975239,
          6508.085718,
          6557.194282,
          7236.075251,
          7696.777725,
          7885.360081,
          11628.38895,
          12002.23908,
          13638.77837,
          14843.93556,
          17596.21021999999,
          19970.90787,
          20660.01936,
          22514.2548,
          24835.47166,
          27968.09817,
          28204.59057,
          28926.03234,
          29341.63093000001,
          29478.99919,
          30035.80198,
          30485.88375,
          31163.20196,
          32166.50006,
          32417.60769,
          33724.75778,
          34077.04939,
          34480.95771,
          44683.97525
         ],
         "xaxis": "x2",
         "y": [
          72.8855952958741,
          73.20108983857259,
          73.31016226423453,
          73.32111355320959,
          73.47250510420632,
          73.5752424989364,
          73.61729666847295,
          74.45199814307486,
          74.53536732501614,
          74.90031822612204,
          75.16907022318821,
          75.7828319112794,
          76.31239331717853,
          76.46606629085822,
          76.87956378451784,
          77.39719888799233,
          78.09577965207087,
          78.14851783868947,
          78.30940051695192,
          78.40207967280577,
          78.43271301633543,
          78.55688093652559,
          78.65724989713443,
          78.80829295035373,
          79.03203004478844,
          79.08802745126872,
          79.37952402953061,
          79.45808562674198,
          79.54815783353158,
          81.82344720053622
         ],
         "yaxis": "y2"
        },
        {
         "hovertemplate": "<b>%{hovertext}</b><br><br>year=2007<br>gdpPercap=%{x}<br>lifeExp=%{y}<extra></extra>",
         "hovertext": [
          "Albania",
          "Austria",
          "Belgium",
          "Bosnia and Herzegovina",
          "Bulgaria",
          "Croatia",
          "Czech Republic",
          "Denmark",
          "Finland",
          "France",
          "Germany",
          "Greece",
          "Hungary",
          "Iceland",
          "Ireland",
          "Italy",
          "Montenegro",
          "Netherlands",
          "Norway",
          "Poland",
          "Portugal",
          "Romania",
          "Serbia",
          "Slovak Republic",
          "Slovenia",
          "Spain",
          "Sweden",
          "Switzerland",
          "Turkey",
          "United Kingdom"
         ],
         "legendgroup": "",
         "marker": {
          "color": "#636efa",
          "symbol": "circle"
         },
         "mode": "markers",
         "name": "",
         "orientation": "v",
         "showlegend": false,
         "type": "scatter",
         "x": [
          5937.029525999998,
          36126.4927,
          33692.60508,
          7446.298803,
          10680.79282,
          14619.22272,
          22833.30851,
          35278.41874,
          33207.0844,
          30470.0167,
          32170.37442,
          27538.41188,
          18008.94444,
          36180.78919,
          40675.99635,
          28569.7197,
          9253.896111,
          36797.93332,
          49357.19017,
          15389.92468,
          20509.64777,
          10808.47561,
          9786.534714,
          18678.31435,
          25768.25759,
          28821.0637,
          33859.74835,
          37506.41907,
          8458.276384,
          33203.26128
         ],
         "xaxis": "x3",
         "y": [
          76.423,
          79.829,
          79.441,
          74.852,
          73.005,
          75.748,
          76.486,
          78.332,
          79.313,
          80.657,
          79.406,
          79.483,
          73.33800000000002,
          81.757,
          78.885,
          80.546,
          74.543,
          79.762,
          80.196,
          75.563,
          78.098,
          72.476,
          74.002,
          74.663,
          77.926,
          80.941,
          80.884,
          81.70100000000002,
          71.777,
          79.425
         ],
         "yaxis": "y3"
        },
        {
         "hovertemplate": "<b>OLS trendline</b><br>lifeExp = 0.000214634 * gdpPercap + 72.2711<br>R<sup>2</sup>=0.722451<br><br>year=2007<br>gdpPercap=%{x}<br>lifeExp=%{y} <b>(trend)</b><extra></extra>",
         "legendgroup": "",
         "marker": {
          "color": "#636efa",
          "symbol": "circle"
         },
         "mode": "lines",
         "name": "",
         "showlegend": false,
         "type": "scatter",
         "x": [
          5937.029525999998,
          7446.298803,
          8458.276384,
          9253.896111,
          9786.534714,
          10680.79282,
          10808.47561,
          14619.22272,
          15389.92468,
          18008.94444,
          18678.31435,
          20509.64777,
          22833.30851,
          25768.25759,
          27538.41188,
          28569.7197,
          28821.0637,
          30470.0167,
          32170.37442,
          33203.26128,
          33207.0844,
          33692.60508,
          33859.74835,
          35278.41874,
          36126.4927,
          36180.78919,
          36797.93332,
          37506.41907,
          40675.99635,
          49357.19017
         ],
         "xaxis": "x3",
         "y": [
          73.54534412490418,
          73.86928467892466,
          74.08648950992543,
          74.25725658183343,
          74.3715789541085,
          74.56351717925463,
          74.5909222516044,
          75.40883827815938,
          75.57425714920626,
          76.13638792664538,
          76.28005749097989,
          76.6731239713698,
          77.17186065072994,
          77.80180061272725,
          78.18173596962005,
          78.40308972780463,
          78.45703670456385,
          78.81095813960127,
          79.17591277708297,
          79.39760545099332,
          79.39842602266317,
          79.50263528502903,
          79.53850991940323,
          79.84300486878863,
          80.02503040435033,
          80.03668427905646,
          80.16914441352634,
          80.32120956841163,
          81.00150872757483,
          82.86478838115647
         ],
         "yaxis": "y3"
        }
       ],
       "layout": {
        "annotations": [
         {
          "font": {},
          "showarrow": false,
          "text": "year=1997",
          "x": 0.15999999999999998,
          "xanchor": "center",
          "xref": "paper",
          "y": 0.1975,
          "yanchor": "bottom",
          "yref": "paper"
         },
         {
          "font": {},
          "showarrow": false,
          "text": "year=2002",
          "x": 0.49999999999999994,
          "xanchor": "center",
          "xref": "paper",
          "y": 0.1975,
          "yanchor": "bottom",
          "yref": "paper"
         },
         {
          "font": {},
          "showarrow": false,
          "text": "year=2007",
          "x": 0.8399999999999999,
          "xanchor": "center",
          "xref": "paper",
          "y": 0.1975,
          "yanchor": "bottom",
          "yref": "paper"
         },
         {
          "font": {},
          "showarrow": false,
          "text": "year=1982",
          "x": 0.15999999999999998,
          "xanchor": "center",
          "xref": "paper",
          "y": 0.465,
          "yanchor": "bottom",
          "yref": "paper"
         },
         {
          "font": {},
          "showarrow": false,
          "text": "year=1987",
          "x": 0.49999999999999994,
          "xanchor": "center",
          "xref": "paper",
          "y": 0.465,
          "yanchor": "bottom",
          "yref": "paper"
         },
         {
          "font": {},
          "showarrow": false,
          "text": "year=1992",
          "x": 0.8399999999999999,
          "xanchor": "center",
          "xref": "paper",
          "y": 0.465,
          "yanchor": "bottom",
          "yref": "paper"
         },
         {
          "font": {},
          "showarrow": false,
          "text": "year=1967",
          "x": 0.15999999999999998,
          "xanchor": "center",
          "xref": "paper",
          "y": 0.7325,
          "yanchor": "bottom",
          "yref": "paper"
         },
         {
          "font": {},
          "showarrow": false,
          "text": "year=1972",
          "x": 0.49999999999999994,
          "xanchor": "center",
          "xref": "paper",
          "y": 0.7325,
          "yanchor": "bottom",
          "yref": "paper"
         },
         {
          "font": {},
          "showarrow": false,
          "text": "year=1977",
          "x": 0.8399999999999999,
          "xanchor": "center",
          "xref": "paper",
          "y": 0.7325,
          "yanchor": "bottom",
          "yref": "paper"
         },
         {
          "font": {},
          "showarrow": false,
          "text": "year=1952",
          "x": 0.15999999999999998,
          "xanchor": "center",
          "xref": "paper",
          "y": 1,
          "yanchor": "bottom",
          "yref": "paper"
         },
         {
          "font": {},
          "showarrow": false,
          "text": "year=1957",
          "x": 0.49999999999999994,
          "xanchor": "center",
          "xref": "paper",
          "y": 1,
          "yanchor": "bottom",
          "yref": "paper"
         },
         {
          "font": {},
          "showarrow": false,
          "text": "year=1962",
          "x": 0.8399999999999999,
          "xanchor": "center",
          "xref": "paper",
          "y": 1,
          "yanchor": "bottom",
          "yref": "paper"
         }
        ],
        "height": 1000,
        "legend": {
         "tracegroupgap": 0
        },
        "margin": {
         "t": 60
        },
        "template": {
         "data": {
          "bar": [
           {
            "error_x": {
             "color": "#2a3f5f"
            },
            "error_y": {
             "color": "#2a3f5f"
            },
            "marker": {
             "line": {
              "color": "#E5ECF6",
              "width": 0.5
             },
             "pattern": {
              "fillmode": "overlay",
              "size": 10,
              "solidity": 0.2
             }
            },
            "type": "bar"
           }
          ],
          "barpolar": [
           {
            "marker": {
             "line": {
              "color": "#E5ECF6",
              "width": 0.5
             },
             "pattern": {
              "fillmode": "overlay",
              "size": 10,
              "solidity": 0.2
             }
            },
            "type": "barpolar"
           }
          ],
          "carpet": [
           {
            "aaxis": {
             "endlinecolor": "#2a3f5f",
             "gridcolor": "white",
             "linecolor": "white",
             "minorgridcolor": "white",
             "startlinecolor": "#2a3f5f"
            },
            "baxis": {
             "endlinecolor": "#2a3f5f",
             "gridcolor": "white",
             "linecolor": "white",
             "minorgridcolor": "white",
             "startlinecolor": "#2a3f5f"
            },
            "type": "carpet"
           }
          ],
          "choropleth": [
           {
            "colorbar": {
             "outlinewidth": 0,
             "ticks": ""
            },
            "type": "choropleth"
           }
          ],
          "contour": [
           {
            "colorbar": {
             "outlinewidth": 0,
             "ticks": ""
            },
            "colorscale": [
             [
              0,
              "#0d0887"
             ],
             [
              0.1111111111111111,
              "#46039f"
             ],
             [
              0.2222222222222222,
              "#7201a8"
             ],
             [
              0.3333333333333333,
              "#9c179e"
             ],
             [
              0.4444444444444444,
              "#bd3786"
             ],
             [
              0.5555555555555556,
              "#d8576b"
             ],
             [
              0.6666666666666666,
              "#ed7953"
             ],
             [
              0.7777777777777778,
              "#fb9f3a"
             ],
             [
              0.8888888888888888,
              "#fdca26"
             ],
             [
              1,
              "#f0f921"
             ]
            ],
            "type": "contour"
           }
          ],
          "contourcarpet": [
           {
            "colorbar": {
             "outlinewidth": 0,
             "ticks": ""
            },
            "type": "contourcarpet"
           }
          ],
          "heatmap": [
           {
            "colorbar": {
             "outlinewidth": 0,
             "ticks": ""
            },
            "colorscale": [
             [
              0,
              "#0d0887"
             ],
             [
              0.1111111111111111,
              "#46039f"
             ],
             [
              0.2222222222222222,
              "#7201a8"
             ],
             [
              0.3333333333333333,
              "#9c179e"
             ],
             [
              0.4444444444444444,
              "#bd3786"
             ],
             [
              0.5555555555555556,
              "#d8576b"
             ],
             [
              0.6666666666666666,
              "#ed7953"
             ],
             [
              0.7777777777777778,
              "#fb9f3a"
             ],
             [
              0.8888888888888888,
              "#fdca26"
             ],
             [
              1,
              "#f0f921"
             ]
            ],
            "type": "heatmap"
           }
          ],
          "heatmapgl": [
           {
            "colorbar": {
             "outlinewidth": 0,
             "ticks": ""
            },
            "colorscale": [
             [
              0,
              "#0d0887"
             ],
             [
              0.1111111111111111,
              "#46039f"
             ],
             [
              0.2222222222222222,
              "#7201a8"
             ],
             [
              0.3333333333333333,
              "#9c179e"
             ],
             [
              0.4444444444444444,
              "#bd3786"
             ],
             [
              0.5555555555555556,
              "#d8576b"
             ],
             [
              0.6666666666666666,
              "#ed7953"
             ],
             [
              0.7777777777777778,
              "#fb9f3a"
             ],
             [
              0.8888888888888888,
              "#fdca26"
             ],
             [
              1,
              "#f0f921"
             ]
            ],
            "type": "heatmapgl"
           }
          ],
          "histogram": [
           {
            "marker": {
             "pattern": {
              "fillmode": "overlay",
              "size": 10,
              "solidity": 0.2
             }
            },
            "type": "histogram"
           }
          ],
          "histogram2d": [
           {
            "colorbar": {
             "outlinewidth": 0,
             "ticks": ""
            },
            "colorscale": [
             [
              0,
              "#0d0887"
             ],
             [
              0.1111111111111111,
              "#46039f"
             ],
             [
              0.2222222222222222,
              "#7201a8"
             ],
             [
              0.3333333333333333,
              "#9c179e"
             ],
             [
              0.4444444444444444,
              "#bd3786"
             ],
             [
              0.5555555555555556,
              "#d8576b"
             ],
             [
              0.6666666666666666,
              "#ed7953"
             ],
             [
              0.7777777777777778,
              "#fb9f3a"
             ],
             [
              0.8888888888888888,
              "#fdca26"
             ],
             [
              1,
              "#f0f921"
             ]
            ],
            "type": "histogram2d"
           }
          ],
          "histogram2dcontour": [
           {
            "colorbar": {
             "outlinewidth": 0,
             "ticks": ""
            },
            "colorscale": [
             [
              0,
              "#0d0887"
             ],
             [
              0.1111111111111111,
              "#46039f"
             ],
             [
              0.2222222222222222,
              "#7201a8"
             ],
             [
              0.3333333333333333,
              "#9c179e"
             ],
             [
              0.4444444444444444,
              "#bd3786"
             ],
             [
              0.5555555555555556,
              "#d8576b"
             ],
             [
              0.6666666666666666,
              "#ed7953"
             ],
             [
              0.7777777777777778,
              "#fb9f3a"
             ],
             [
              0.8888888888888888,
              "#fdca26"
             ],
             [
              1,
              "#f0f921"
             ]
            ],
            "type": "histogram2dcontour"
           }
          ],
          "mesh3d": [
           {
            "colorbar": {
             "outlinewidth": 0,
             "ticks": ""
            },
            "type": "mesh3d"
           }
          ],
          "parcoords": [
           {
            "line": {
             "colorbar": {
              "outlinewidth": 0,
              "ticks": ""
             }
            },
            "type": "parcoords"
           }
          ],
          "pie": [
           {
            "automargin": true,
            "type": "pie"
           }
          ],
          "scatter": [
           {
            "fillpattern": {
             "fillmode": "overlay",
             "size": 10,
             "solidity": 0.2
            },
            "type": "scatter"
           }
          ],
          "scatter3d": [
           {
            "line": {
             "colorbar": {
              "outlinewidth": 0,
              "ticks": ""
             }
            },
            "marker": {
             "colorbar": {
              "outlinewidth": 0,
              "ticks": ""
             }
            },
            "type": "scatter3d"
           }
          ],
          "scattercarpet": [
           {
            "marker": {
             "colorbar": {
              "outlinewidth": 0,
              "ticks": ""
             }
            },
            "type": "scattercarpet"
           }
          ],
          "scattergeo": [
           {
            "marker": {
             "colorbar": {
              "outlinewidth": 0,
              "ticks": ""
             }
            },
            "type": "scattergeo"
           }
          ],
          "scattergl": [
           {
            "marker": {
             "colorbar": {
              "outlinewidth": 0,
              "ticks": ""
             }
            },
            "type": "scattergl"
           }
          ],
          "scattermapbox": [
           {
            "marker": {
             "colorbar": {
              "outlinewidth": 0,
              "ticks": ""
             }
            },
            "type": "scattermapbox"
           }
          ],
          "scatterpolar": [
           {
            "marker": {
             "colorbar": {
              "outlinewidth": 0,
              "ticks": ""
             }
            },
            "type": "scatterpolar"
           }
          ],
          "scatterpolargl": [
           {
            "marker": {
             "colorbar": {
              "outlinewidth": 0,
              "ticks": ""
             }
            },
            "type": "scatterpolargl"
           }
          ],
          "scatterternary": [
           {
            "marker": {
             "colorbar": {
              "outlinewidth": 0,
              "ticks": ""
             }
            },
            "type": "scatterternary"
           }
          ],
          "surface": [
           {
            "colorbar": {
             "outlinewidth": 0,
             "ticks": ""
            },
            "colorscale": [
             [
              0,
              "#0d0887"
             ],
             [
              0.1111111111111111,
              "#46039f"
             ],
             [
              0.2222222222222222,
              "#7201a8"
             ],
             [
              0.3333333333333333,
              "#9c179e"
             ],
             [
              0.4444444444444444,
              "#bd3786"
             ],
             [
              0.5555555555555556,
              "#d8576b"
             ],
             [
              0.6666666666666666,
              "#ed7953"
             ],
             [
              0.7777777777777778,
              "#fb9f3a"
             ],
             [
              0.8888888888888888,
              "#fdca26"
             ],
             [
              1,
              "#f0f921"
             ]
            ],
            "type": "surface"
           }
          ],
          "table": [
           {
            "cells": {
             "fill": {
              "color": "#EBF0F8"
             },
             "line": {
              "color": "white"
             }
            },
            "header": {
             "fill": {
              "color": "#C8D4E3"
             },
             "line": {
              "color": "white"
             }
            },
            "type": "table"
           }
          ]
         },
         "layout": {
          "annotationdefaults": {
           "arrowcolor": "#2a3f5f",
           "arrowhead": 0,
           "arrowwidth": 1
          },
          "autotypenumbers": "strict",
          "coloraxis": {
           "colorbar": {
            "outlinewidth": 0,
            "ticks": ""
           }
          },
          "colorscale": {
           "diverging": [
            [
             0,
             "#8e0152"
            ],
            [
             0.1,
             "#c51b7d"
            ],
            [
             0.2,
             "#de77ae"
            ],
            [
             0.3,
             "#f1b6da"
            ],
            [
             0.4,
             "#fde0ef"
            ],
            [
             0.5,
             "#f7f7f7"
            ],
            [
             0.6,
             "#e6f5d0"
            ],
            [
             0.7,
             "#b8e186"
            ],
            [
             0.8,
             "#7fbc41"
            ],
            [
             0.9,
             "#4d9221"
            ],
            [
             1,
             "#276419"
            ]
           ],
           "sequential": [
            [
             0,
             "#0d0887"
            ],
            [
             0.1111111111111111,
             "#46039f"
            ],
            [
             0.2222222222222222,
             "#7201a8"
            ],
            [
             0.3333333333333333,
             "#9c179e"
            ],
            [
             0.4444444444444444,
             "#bd3786"
            ],
            [
             0.5555555555555556,
             "#d8576b"
            ],
            [
             0.6666666666666666,
             "#ed7953"
            ],
            [
             0.7777777777777778,
             "#fb9f3a"
            ],
            [
             0.8888888888888888,
             "#fdca26"
            ],
            [
             1,
             "#f0f921"
            ]
           ],
           "sequentialminus": [
            [
             0,
             "#0d0887"
            ],
            [
             0.1111111111111111,
             "#46039f"
            ],
            [
             0.2222222222222222,
             "#7201a8"
            ],
            [
             0.3333333333333333,
             "#9c179e"
            ],
            [
             0.4444444444444444,
             "#bd3786"
            ],
            [
             0.5555555555555556,
             "#d8576b"
            ],
            [
             0.6666666666666666,
             "#ed7953"
            ],
            [
             0.7777777777777778,
             "#fb9f3a"
            ],
            [
             0.8888888888888888,
             "#fdca26"
            ],
            [
             1,
             "#f0f921"
            ]
           ]
          },
          "colorway": [
           "#636efa",
           "#EF553B",
           "#00cc96",
           "#ab63fa",
           "#FFA15A",
           "#19d3f3",
           "#FF6692",
           "#B6E880",
           "#FF97FF",
           "#FECB52"
          ],
          "font": {
           "color": "#2a3f5f"
          },
          "geo": {
           "bgcolor": "white",
           "lakecolor": "white",
           "landcolor": "#E5ECF6",
           "showlakes": true,
           "showland": true,
           "subunitcolor": "white"
          },
          "hoverlabel": {
           "align": "left"
          },
          "hovermode": "closest",
          "mapbox": {
           "style": "light"
          },
          "paper_bgcolor": "white",
          "plot_bgcolor": "#E5ECF6",
          "polar": {
           "angularaxis": {
            "gridcolor": "white",
            "linecolor": "white",
            "ticks": ""
           },
           "bgcolor": "#E5ECF6",
           "radialaxis": {
            "gridcolor": "white",
            "linecolor": "white",
            "ticks": ""
           }
          },
          "scene": {
           "xaxis": {
            "backgroundcolor": "#E5ECF6",
            "gridcolor": "white",
            "gridwidth": 2,
            "linecolor": "white",
            "showbackground": true,
            "ticks": "",
            "zerolinecolor": "white"
           },
           "yaxis": {
            "backgroundcolor": "#E5ECF6",
            "gridcolor": "white",
            "gridwidth": 2,
            "linecolor": "white",
            "showbackground": true,
            "ticks": "",
            "zerolinecolor": "white"
           },
           "zaxis": {
            "backgroundcolor": "#E5ECF6",
            "gridcolor": "white",
            "gridwidth": 2,
            "linecolor": "white",
            "showbackground": true,
            "ticks": "",
            "zerolinecolor": "white"
           }
          },
          "shapedefaults": {
           "line": {
            "color": "#2a3f5f"
           }
          },
          "ternary": {
           "aaxis": {
            "gridcolor": "white",
            "linecolor": "white",
            "ticks": ""
           },
           "baxis": {
            "gridcolor": "white",
            "linecolor": "white",
            "ticks": ""
           },
           "bgcolor": "#E5ECF6",
           "caxis": {
            "gridcolor": "white",
            "linecolor": "white",
            "ticks": ""
           }
          },
          "title": {
           "x": 0.05
          },
          "xaxis": {
           "automargin": true,
           "gridcolor": "white",
           "linecolor": "white",
           "ticks": "",
           "title": {
            "standoff": 15
           },
           "zerolinecolor": "white",
           "zerolinewidth": 2
          },
          "yaxis": {
           "automargin": true,
           "gridcolor": "white",
           "linecolor": "white",
           "ticks": "",
           "title": {
            "standoff": 15
           },
           "zerolinecolor": "white",
           "zerolinewidth": 2
          }
         }
        },
        "xaxis": {
         "anchor": "y",
         "domain": [
          0,
          0.31999999999999995
         ],
         "title": {
          "text": "gdpPercap"
         }
        },
        "xaxis10": {
         "anchor": "y10",
         "domain": [
          0,
          0.31999999999999995
         ],
         "matches": "x",
         "showticklabels": false
        },
        "xaxis11": {
         "anchor": "y11",
         "domain": [
          0.33999999999999997,
          0.6599999999999999
         ],
         "matches": "x",
         "showticklabels": false
        },
        "xaxis12": {
         "anchor": "y12",
         "domain": [
          0.6799999999999999,
          0.9999999999999999
         ],
         "matches": "x",
         "showticklabels": false
        },
        "xaxis2": {
         "anchor": "y2",
         "domain": [
          0.33999999999999997,
          0.6599999999999999
         ],
         "matches": "x",
         "title": {
          "text": "gdpPercap"
         }
        },
        "xaxis3": {
         "anchor": "y3",
         "domain": [
          0.6799999999999999,
          0.9999999999999999
         ],
         "matches": "x",
         "title": {
          "text": "gdpPercap"
         }
        },
        "xaxis4": {
         "anchor": "y4",
         "domain": [
          0,
          0.31999999999999995
         ],
         "matches": "x",
         "showticklabels": false
        },
        "xaxis5": {
         "anchor": "y5",
         "domain": [
          0.33999999999999997,
          0.6599999999999999
         ],
         "matches": "x",
         "showticklabels": false
        },
        "xaxis6": {
         "anchor": "y6",
         "domain": [
          0.6799999999999999,
          0.9999999999999999
         ],
         "matches": "x",
         "showticklabels": false
        },
        "xaxis7": {
         "anchor": "y7",
         "domain": [
          0,
          0.31999999999999995
         ],
         "matches": "x",
         "showticklabels": false
        },
        "xaxis8": {
         "anchor": "y8",
         "domain": [
          0.33999999999999997,
          0.6599999999999999
         ],
         "matches": "x",
         "showticklabels": false
        },
        "xaxis9": {
         "anchor": "y9",
         "domain": [
          0.6799999999999999,
          0.9999999999999999
         ],
         "matches": "x",
         "showticklabels": false
        },
        "yaxis": {
         "anchor": "x",
         "domain": [
          0,
          0.1975
         ],
         "title": {
          "text": "lifeExp"
         }
        },
        "yaxis10": {
         "anchor": "x10",
         "domain": [
          0.8025,
          1
         ],
         "matches": "y",
         "title": {
          "text": "lifeExp"
         }
        },
        "yaxis11": {
         "anchor": "x11",
         "domain": [
          0.8025,
          1
         ],
         "matches": "y",
         "showticklabels": false
        },
        "yaxis12": {
         "anchor": "x12",
         "domain": [
          0.8025,
          1
         ],
         "matches": "y",
         "showticklabels": false
        },
        "yaxis2": {
         "anchor": "x2",
         "domain": [
          0,
          0.1975
         ],
         "matches": "y",
         "showticklabels": false
        },
        "yaxis3": {
         "anchor": "x3",
         "domain": [
          0,
          0.1975
         ],
         "matches": "y",
         "showticklabels": false
        },
        "yaxis4": {
         "anchor": "x4",
         "domain": [
          0.2675,
          0.465
         ],
         "matches": "y",
         "title": {
          "text": "lifeExp"
         }
        },
        "yaxis5": {
         "anchor": "x5",
         "domain": [
          0.2675,
          0.465
         ],
         "matches": "y",
         "showticklabels": false
        },
        "yaxis6": {
         "anchor": "x6",
         "domain": [
          0.2675,
          0.465
         ],
         "matches": "y",
         "showticklabels": false
        },
        "yaxis7": {
         "anchor": "x7",
         "domain": [
          0.535,
          0.7325
         ],
         "matches": "y",
         "title": {
          "text": "lifeExp"
         }
        },
        "yaxis8": {
         "anchor": "x8",
         "domain": [
          0.535,
          0.7325
         ],
         "matches": "y",
         "showticklabels": false
        },
        "yaxis9": {
         "anchor": "x9",
         "domain": [
          0.535,
          0.7325
         ],
         "matches": "y",
         "showticklabels": false
        }
       }
      },
      "text/html": [
       "<div>                            <div id=\"5f515618-56a7-4474-857c-6e6afb8474c6\" class=\"plotly-graph-div\" style=\"height:1000px; width:100%;\"></div>            <script type=\"text/javascript\">                require([\"plotly\"], function(Plotly) {                    window.PLOTLYENV=window.PLOTLYENV || {};                                    if (document.getElementById(\"5f515618-56a7-4474-857c-6e6afb8474c6\")) {                    Plotly.newPlot(                        \"5f515618-56a7-4474-857c-6e6afb8474c6\",                        [{\"hovertemplate\":\"\\u003cb\\u003e%{hovertext}\\u003c\\u002fb\\u003e\\u003cbr\\u003e\\u003cbr\\u003eyear=1952\\u003cbr\\u003egdpPercap=%{x}\\u003cbr\\u003elifeExp=%{y}\\u003cextra\\u003e\\u003c\\u002fextra\\u003e\",\"hovertext\":[\"Albania\",\"Austria\",\"Belgium\",\"Bosnia and Herzegovina\",\"Bulgaria\",\"Croatia\",\"Czech Republic\",\"Denmark\",\"Finland\",\"France\",\"Germany\",\"Greece\",\"Hungary\",\"Iceland\",\"Ireland\",\"Italy\",\"Montenegro\",\"Netherlands\",\"Norway\",\"Poland\",\"Portugal\",\"Romania\",\"Serbia\",\"Slovak Republic\",\"Slovenia\",\"Spain\",\"Sweden\",\"Switzerland\",\"Turkey\",\"United Kingdom\"],\"legendgroup\":\"\",\"marker\":{\"color\":\"#636efa\",\"symbol\":\"circle\"},\"mode\":\"markers\",\"name\":\"\",\"orientation\":\"v\",\"showlegend\":false,\"x\":[1601.056136,6137.076492,8343.105126999999,973.5331948,2444.286648,3119.23652,6876.14025,9692.385245,6424.519071,7029.809327,7144.114393000002,3530.690067,5263.673816,7267.688428,5210.280328,4931.404154999998,2647.585601,8941.571858,10095.42172,4029.329699,3068.319867,3144.613186,3581.459448,5074.659104,4215.041741,3834.034742,8527.844662000001,14734.23275,1969.10098,9979.508487],\"xaxis\":\"x10\",\"y\":[55.23,66.8,68.0,53.82,59.6,61.21,66.87,70.78,66.55,67.41,67.5,65.86,64.03,72.49,66.91,65.94,59.164,72.13,72.67,61.31,59.82,61.05,57.996,64.36,65.57,64.94,71.86,69.62,43.585,69.18],\"yaxis\":\"y10\",\"type\":\"scatter\"},{\"hovertemplate\":\"\\u003cb\\u003eOLS trendline\\u003c\\u002fb\\u003e\\u003cbr\\u003elifeExp = 0.00159335 * gdpPercap + 55.3885\\u003cbr\\u003eR\\u003csup\\u003e2\\u003c\\u002fsup\\u003e=0.608433\\u003cbr\\u003e\\u003cbr\\u003eyear=1952\\u003cbr\\u003egdpPercap=%{x}\\u003cbr\\u003elifeExp=%{y} \\u003cb\\u003e(trend)\\u003c\\u002fb\\u003e\\u003cextra\\u003e\\u003c\\u002fextra\\u003e\",\"legendgroup\":\"\",\"marker\":{\"color\":\"#636efa\",\"symbol\":\"circle\"},\"mode\":\"lines\",\"name\":\"\",\"showlegend\":false,\"x\":[973.5331948,1601.056136,1969.10098,2444.286648,2647.585601,3068.319867,3119.23652,3144.613186,3530.690067,3581.459448,3834.034742,4029.329699,4215.041741,4931.404154999998,5074.659104,5210.280328,5263.673816,6137.076492,6424.519071,6876.14025,7029.809327,7144.114393000002,7267.688428,8343.105126999999,8527.844662000001,8941.571858,9692.385245,9979.508487,10095.42172,14734.23275],\"xaxis\":\"x10\",\"y\":[56.93964292146788,57.93950530540361,58.525928798405126,59.28306490232192,59.60699086972879,60.277366944588714,60.35849488861774,60.39892874704303,61.014083549002855,61.09497683749447,61.49741716118874,61.80858997807929,62.10449387712178,63.24590845178943,63.4741634292789,63.690255226786114,63.7753296307533,65.16696398294326,65.62496002326967,66.34454969724604,66.58939800410252,66.77152574523042,66.96842217899487,68.6819351580267,68.97628951504679,69.63550088937606,70.8318078508094,71.28929507618555,71.47398518688564,78.86522517281136],\"yaxis\":\"y10\",\"type\":\"scatter\"},{\"hovertemplate\":\"\\u003cb\\u003e%{hovertext}\\u003c\\u002fb\\u003e\\u003cbr\\u003e\\u003cbr\\u003eyear=1957\\u003cbr\\u003egdpPercap=%{x}\\u003cbr\\u003elifeExp=%{y}\\u003cextra\\u003e\\u003c\\u002fextra\\u003e\",\"hovertext\":[\"Albania\",\"Austria\",\"Belgium\",\"Bosnia and Herzegovina\",\"Bulgaria\",\"Croatia\",\"Czech Republic\",\"Denmark\",\"Finland\",\"France\",\"Germany\",\"Greece\",\"Hungary\",\"Iceland\",\"Ireland\",\"Italy\",\"Montenegro\",\"Netherlands\",\"Norway\",\"Poland\",\"Portugal\",\"Romania\",\"Serbia\",\"Slovak Republic\",\"Slovenia\",\"Spain\",\"Sweden\",\"Switzerland\",\"Turkey\",\"United Kingdom\"],\"legendgroup\":\"\",\"marker\":{\"color\":\"#636efa\",\"symbol\":\"circle\"},\"mode\":\"markers\",\"name\":\"\",\"orientation\":\"v\",\"showlegend\":false,\"x\":[1942.284244,8842.59803,9714.960623,1353.989176,3008.670727,4338.231617,8256.343918,11099.65935,7545.415386,8662.834898000001,10187.82665,4916.299889,6040.180011,9244.001412,5599.077872,6248.656232,3682.259903,11276.19344,11653.97304,4734.253019,3774.571743,3943.370225,4981.090891,6093.26298,5862.276629,4564.80241,9911.878226,17909.48973,2218.754257,11283.17795],\"xaxis\":\"x11\",\"y\":[59.28,67.48,69.24,58.45,66.61,64.77,69.03,71.81,67.49,68.93,69.1,67.86,66.41,73.47,68.9,67.81,61.448,72.99,73.44,65.77,61.51,64.1,61.685,67.45,67.85,66.66,72.49,70.56,48.07899999999999,70.42],\"yaxis\":\"y11\",\"type\":\"scatter\"},{\"hovertemplate\":\"\\u003cb\\u003eOLS trendline\\u003c\\u002fb\\u003e\\u003cbr\\u003elifeExp = 0.001064 * gdpPercap + 59.2944\\u003cbr\\u003eR\\u003csup\\u003e2\\u003c\\u002fsup\\u003e=0.546045\\u003cbr\\u003e\\u003cbr\\u003eyear=1957\\u003cbr\\u003egdpPercap=%{x}\\u003cbr\\u003elifeExp=%{y} \\u003cb\\u003e(trend)\\u003c\\u002fb\\u003e\\u003cextra\\u003e\\u003c\\u002fextra\\u003e\",\"legendgroup\":\"\",\"marker\":{\"color\":\"#636efa\",\"symbol\":\"circle\"},\"mode\":\"lines\",\"name\":\"\",\"showlegend\":false,\"x\":[1353.989176,1942.284244,2218.754257,3008.670727,3682.259903,3774.571743,3943.370225,4338.231617,4564.80241,4734.253019,4916.299889,4981.090891,5599.077872,5862.276629,6040.180011,6093.26298,6248.656232,7545.415386,8256.343918,8662.834898000001,8842.59803,9244.001412,9714.960623,9911.878226,10187.82665,11099.65935,11276.19344,11283.17795,11653.97304,17909.48973],\"xaxis\":\"x11\",\"y\":[60.73508242581132,61.3610266043669,61.65518986460102,62.49565860696633,63.212355459259584,63.31057497868577,63.49017605458145,63.9103073851041,64.15137802571172,64.33167296276915,64.52537028355097,64.59430771432454,65.25184399878663,65.53188668265155,65.7211753446946,65.77765546365761,65.94299341525203,67.32274124518787,68.07916705968147,68.51167223677119,68.70293966720683,69.13003165536442,69.63113083585691,69.8406505717133,70.13425886282408,71.10444610631397,71.29227784579764,71.29970934337831,71.69423420113641,78.35008509799071],\"yaxis\":\"y11\",\"type\":\"scatter\"},{\"hovertemplate\":\"\\u003cb\\u003e%{hovertext}\\u003c\\u002fb\\u003e\\u003cbr\\u003e\\u003cbr\\u003eyear=1962\\u003cbr\\u003egdpPercap=%{x}\\u003cbr\\u003elifeExp=%{y}\\u003cextra\\u003e\\u003c\\u002fextra\\u003e\",\"hovertext\":[\"Albania\",\"Austria\",\"Belgium\",\"Bosnia and Herzegovina\",\"Bulgaria\",\"Croatia\",\"Czech Republic\",\"Denmark\",\"Finland\",\"France\",\"Germany\",\"Greece\",\"Hungary\",\"Iceland\",\"Ireland\",\"Italy\",\"Montenegro\",\"Netherlands\",\"Norway\",\"Poland\",\"Portugal\",\"Romania\",\"Serbia\",\"Slovak Republic\",\"Slovenia\",\"Spain\",\"Sweden\",\"Switzerland\",\"Turkey\",\"United Kingdom\"],\"legendgroup\":\"\",\"marker\":{\"color\":\"#636efa\",\"symbol\":\"circle\"},\"mode\":\"markers\",\"name\":\"\",\"orientation\":\"v\",\"showlegend\":false,\"x\":[2312.888958,10750.72111,10991.20676,1709.683679,4254.337839,5477.890018,10136.86713,13583.31351,9371.842561,10560.48553,12902.46291,6017.190732999999,7550.359877,10350.15906,6631.597314,8243.58234,4649.593785,12790.84956,13450.40151,5338.752143,4727.954889,4734.997586,6289.629157,7481.107598,7402.303395,5693.843879,12329.44192,20431.0927,2322.869908,12477.17707],\"xaxis\":\"x12\",\"y\":[64.82,69.54,70.25,61.93,69.51,67.13,69.9,72.35,68.75,70.51,70.3,69.51,67.96,73.68,70.29,69.24,63.728,73.23,73.47,67.64,64.39,66.8,64.531,70.33,69.15,69.69,73.37,71.32,52.098,70.76],\"yaxis\":\"y12\",\"type\":\"scatter\"},{\"hovertemplate\":\"\\u003cb\\u003eOLS trendline\\u003c\\u002fb\\u003e\\u003cbr\\u003elifeExp = 0.000715039 * gdpPercap + 62.5576\\u003cbr\\u003eR\\u003csup\\u003e2\\u003c\\u002fsup\\u003e=0.487023\\u003cbr\\u003e\\u003cbr\\u003eyear=1962\\u003cbr\\u003egdpPercap=%{x}\\u003cbr\\u003elifeExp=%{y} \\u003cb\\u003e(trend)\\u003c\\u002fb\\u003e\\u003cextra\\u003e\\u003c\\u002fextra\\u003e\",\"legendgroup\":\"\",\"marker\":{\"color\":\"#636efa\",\"symbol\":\"circle\"},\"mode\":\"lines\",\"name\":\"\",\"showlegend\":false,\"x\":[1709.683679,2312.888958,2322.869908,4254.337839,4649.593785,4727.954889,4734.997586,5338.752143,5477.890018,5693.843879,6017.190732999999,6289.629157,6631.597314,7402.303395,7481.107598,7550.359877,8243.58234,9371.842561,10136.86713,10350.15906,10560.48553,10750.72111,10991.20676,12329.44192,12477.17707,12790.84956,12902.46291,13450.40151,13583.31351,20431.0927],\"xaxis\":\"x12\",\"y\":[63.78007508326532,64.21139033127979,64.21852709893508,65.59960183202152,65.88222521466301,65.93825645341889,65.94329225583806,66.37500025899749,66.47448925412586,66.62890466851233,66.86011025205582,67.05491432706496,67.29943486689517,67.8505197065767,67.90686777836062,67.95638585277464,68.45206689033739,69.2588168542174,69.80583919172481,69.95835122185815,70.10874283269162,70.24476867534489,70.41672527351264,71.37361548988139,71.4792518711948,71.70353990800369,71.78334779664947,72.1751452184948,72.27018247072034,77.16661107058208],\"yaxis\":\"y12\",\"type\":\"scatter\"},{\"hovertemplate\":\"\\u003cb\\u003e%{hovertext}\\u003c\\u002fb\\u003e\\u003cbr\\u003e\\u003cbr\\u003eyear=1967\\u003cbr\\u003egdpPercap=%{x}\\u003cbr\\u003elifeExp=%{y}\\u003cextra\\u003e\\u003c\\u002fextra\\u003e\",\"hovertext\":[\"Albania\",\"Austria\",\"Belgium\",\"Bosnia and Herzegovina\",\"Bulgaria\",\"Croatia\",\"Czech Republic\",\"Denmark\",\"Finland\",\"France\",\"Germany\",\"Greece\",\"Hungary\",\"Iceland\",\"Ireland\",\"Italy\",\"Montenegro\",\"Netherlands\",\"Norway\",\"Poland\",\"Portugal\",\"Romania\",\"Serbia\",\"Slovak Republic\",\"Slovenia\",\"Spain\",\"Sweden\",\"Switzerland\",\"Turkey\",\"United Kingdom\"],\"legendgroup\":\"\",\"marker\":{\"color\":\"#636efa\",\"symbol\":\"circle\"},\"mode\":\"markers\",\"name\":\"\",\"orientation\":\"v\",\"showlegend\":false,\"x\":[2760.196931,12834.6024,13149.04119,2172.352423000001,5577.0028,6960.297861,11399.44489,15937.21123,10921.63626,12999.91766,14745.62561,8513.097016,9326.64467,13319.89568,7655.568963,10022.40131,5907.850937,15363.25136,16361.87647,6557.152776,6361.517993,6470.866545,7991.707066,8412.902397,9405.489397,7993.512294,15258.29697,22966.14432,2826.356387000001,14142.85089],\"xaxis\":\"x7\",\"y\":[66.22,70.14,70.94,64.79,70.42,68.5,70.38,72.96,69.83,71.55,70.8,71.0,69.5,73.73,71.08,71.06,67.178,73.82,74.08,69.61,66.6,66.8,66.914,70.98,69.18,71.44,74.16,72.77,54.33600000000001,71.36],\"yaxis\":\"y7\",\"type\":\"scatter\"},{\"hovertemplate\":\"\\u003cb\\u003eOLS trendline\\u003c\\u002fb\\u003e\\u003cbr\\u003elifeExp = 0.000573787 * gdpPercap + 63.9172\\u003cbr\\u003eR\\u003csup\\u003e2\\u003c\\u002fsup\\u003e=0.509093\\u003cbr\\u003e\\u003cbr\\u003eyear=1967\\u003cbr\\u003egdpPercap=%{x}\\u003cbr\\u003elifeExp=%{y} \\u003cb\\u003e(trend)\\u003c\\u002fb\\u003e\\u003cextra\\u003e\\u003c\\u002fextra\\u003e\",\"legendgroup\":\"\",\"marker\":{\"color\":\"#636efa\",\"symbol\":\"circle\"},\"mode\":\"lines\",\"name\":\"\",\"showlegend\":false,\"x\":[2172.352423000001,2760.196931,2826.356387000001,5577.0028,5907.850937,6361.517993,6470.866545,6557.152776,6960.297861,7655.568963,7991.707066,7993.512294,8412.902397,8513.097016,9326.64467,9405.489397,10022.40131,10921.63626,11399.44489,12834.6024,12999.91766,13149.04119,13319.89568,14142.85089,14745.62561,15258.29697,15363.25136,15937.21123,16361.87647,22966.14432],\"xaxis\":\"x7\",\"y\":[65.16367051097194,65.50096825910454,65.53892971867894,67.11721586133679,67.30705234031257,67.56736076253695,67.63010357947104,67.67961352813106,67.91093308201081,68.30987085187134,68.5027426464709,68.50377846347861,68.74441920334412,68.8019096092317,69.26871296957331,69.3139530773013,69.66792933500086,70.18389898267023,70.45805953489797,71.28153477324891,71.37639057979487,71.46195577633591,71.55998992303809,72.03219122009774,72.3780557351529,72.67222008117768,72.7324415834999,73.06177250185473,73.30544004865129,77.0948854607526],\"yaxis\":\"y7\",\"type\":\"scatter\"},{\"hovertemplate\":\"\\u003cb\\u003e%{hovertext}\\u003c\\u002fb\\u003e\\u003cbr\\u003e\\u003cbr\\u003eyear=1972\\u003cbr\\u003egdpPercap=%{x}\\u003cbr\\u003elifeExp=%{y}\\u003cextra\\u003e\\u003c\\u002fextra\\u003e\",\"hovertext\":[\"Albania\",\"Austria\",\"Belgium\",\"Bosnia and Herzegovina\",\"Bulgaria\",\"Croatia\",\"Czech Republic\",\"Denmark\",\"Finland\",\"France\",\"Germany\",\"Greece\",\"Hungary\",\"Iceland\",\"Ireland\",\"Italy\",\"Montenegro\",\"Netherlands\",\"Norway\",\"Poland\",\"Portugal\",\"Romania\",\"Serbia\",\"Slovak Republic\",\"Slovenia\",\"Spain\",\"Sweden\",\"Switzerland\",\"Turkey\",\"United Kingdom\"],\"legendgroup\":\"\",\"marker\":{\"color\":\"#636efa\",\"symbol\":\"circle\"},\"mode\":\"markers\",\"name\":\"\",\"orientation\":\"v\",\"showlegend\":false,\"x\":[3313.422188,16661.6256,16672.14356,2860.16975,6597.494398,9164.090127,13108.4536,18866.20721,14358.8759,16107.19171,18016.18027,12724.82957,10168.65611,15798.06362,9530.772896,12269.27378,7778.414017,18794.74567,18965.05551,8006.506993000001,9022.247417,8011.414401999999,10522.06749,9674.167626,12383.4862,10638.75131,17832.02464,27195.11304,3450.69638,15895.11641],\"xaxis\":\"x8\",\"y\":[67.69,70.63,71.44,67.45,70.9,69.61,70.29,73.47,70.87,72.38,71.0,72.34,69.76,74.46,71.28,72.19,70.63600000000002,73.75,74.34,70.85,69.26,69.21,68.7,70.35,69.82,73.06,74.72,73.78,57.005,72.01],\"yaxis\":\"y8\",\"type\":\"scatter\"},{\"hovertemplate\":\"\\u003cb\\u003eOLS trendline\\u003c\\u002fb\\u003e\\u003cbr\\u003elifeExp = 0.000400268 * gdpPercap + 65.7799\\u003cbr\\u003eR\\u003csup\\u003e2\\u003c\\u002fsup\\u003e=0.463140\\u003cbr\\u003e\\u003cbr\\u003eyear=1972\\u003cbr\\u003egdpPercap=%{x}\\u003cbr\\u003elifeExp=%{y} \\u003cb\\u003e(trend)\\u003c\\u002fb\\u003e\\u003cextra\\u003e\\u003c\\u002fextra\\u003e\",\"legendgroup\":\"\",\"marker\":{\"color\":\"#636efa\",\"symbol\":\"circle\"},\"mode\":\"lines\",\"name\":\"\",\"showlegend\":false,\"x\":[2860.16975,3313.422188,3450.69638,6597.494398,7778.414017,8006.506993000001,8011.414401999999,9022.247417,9164.090127,9530.772896,9674.167626,10168.65611,10522.06749,10638.75131,12269.27378,12383.4862,12724.82957,13108.4536,14358.8759,15798.06362,15895.11641,16107.19171,16661.6256,16672.14356,17832.02464,18016.18027,18794.74567,18866.20721,18965.05551,27195.11304],\"xaxis\":\"x8\",\"y\":[66.92469075554631,67.10611331447245,67.16105981469879,68.42062314185573,68.89330776791188,68.9846061436285,68.98657042362754,69.3911747828176,69.4479499157364,69.59472138498575,69.65211774222965,69.85004578101228,69.99150513464785,70.03820996276325,70.6908563339538,70.73657193912292,70.87320085154782,71.02675336964407,71.52725771200419,72.10331885817166,72.14216600831699,72.22705301693586,72.4489752983096,72.45318530372359,72.91744887064922,72.99116052189302,73.30279552993098,73.33139931529352,73.3709651510795,76.6651958534899],\"yaxis\":\"y8\",\"type\":\"scatter\"},{\"hovertemplate\":\"\\u003cb\\u003e%{hovertext}\\u003c\\u002fb\\u003e\\u003cbr\\u003e\\u003cbr\\u003eyear=1977\\u003cbr\\u003egdpPercap=%{x}\\u003cbr\\u003elifeExp=%{y}\\u003cextra\\u003e\\u003c\\u002fextra\\u003e\",\"hovertext\":[\"Albania\",\"Austria\",\"Belgium\",\"Bosnia and Herzegovina\",\"Bulgaria\",\"Croatia\",\"Czech Republic\",\"Denmark\",\"Finland\",\"France\",\"Germany\",\"Greece\",\"Hungary\",\"Iceland\",\"Ireland\",\"Italy\",\"Montenegro\",\"Netherlands\",\"Norway\",\"Poland\",\"Portugal\",\"Romania\",\"Serbia\",\"Slovak Republic\",\"Slovenia\",\"Spain\",\"Sweden\",\"Switzerland\",\"Turkey\",\"United Kingdom\"],\"legendgroup\":\"\",\"marker\":{\"color\":\"#636efa\",\"symbol\":\"circle\"},\"mode\":\"markers\",\"name\":\"\",\"orientation\":\"v\",\"showlegend\":false,\"x\":[3533.003910000001,19749.4223,19117.97448,3528.481305,7612.240438,11305.38517,14800.16062,20422.9015,15605.42283,18292.63514,20512.92123,14195.52428,11674.83737,19654.96247,11150.98113,14255.98475,9595.929905,21209.0592,23311.34939,9508.141454,10172.48572,9356.39724,12980.66956,10922.66404,15277.03017,13236.92117,18855.72521,26982.29052,4269.122326,17428.74846],\"xaxis\":\"x9\",\"y\":[68.93,72.17,72.8,69.86,70.81,70.64,70.71,74.69,72.52,73.83,72.5,73.68,69.95,76.11,72.03,73.48,73.066,75.24,75.37,70.67,70.41,69.46,70.3,70.45,70.97,74.39,75.44,75.39,59.507,72.76],\"yaxis\":\"y9\",\"type\":\"scatter\"},{\"hovertemplate\":\"\\u003cb\\u003eOLS trendline\\u003c\\u002fb\\u003e\\u003cbr\\u003elifeExp = 0.00039008 * gdpPercap + 66.3659\\u003cbr\\u003eR\\u003csup\\u003e2\\u003c\\u002fsup\\u003e=0.539074\\u003cbr\\u003e\\u003cbr\\u003eyear=1977\\u003cbr\\u003egdpPercap=%{x}\\u003cbr\\u003elifeExp=%{y} \\u003cb\\u003e(trend)\\u003c\\u002fb\\u003e\\u003cextra\\u003e\\u003c\\u002fextra\\u003e\",\"legendgroup\":\"\",\"marker\":{\"color\":\"#636efa\",\"symbol\":\"circle\"},\"mode\":\"lines\",\"name\":\"\",\"showlegend\":false,\"x\":[3528.481305,3533.003910000001,4269.122326,7612.240438,9356.39724,9508.141454,9595.929905,10172.48572,10922.66404,11150.98113,11305.38517,11674.83737,12980.66956,13236.92117,14195.52428,14255.98475,14800.16062,15277.03017,15605.42283,17428.74846,18292.63514,18855.72521,19117.97448,19654.96247,19749.4223,20422.9015,20512.92123,21209.0592,23311.34939,26982.29052],\"xaxis\":\"x9\",\"y\":[67.74225981726005,67.7440239959712,68.03116922275758,69.33525344015872,70.01561449291265,70.07480690787669,70.10905144533658,70.3339544591109,70.62658417621152,70.71564615477673,70.77587611522719,70.9199921072332,71.42937140299928,71.52933008501087,71.90326218810213,71.92684662097653,72.139118858984,72.3251362335069,72.45323571149996,73.16447895735809,73.50146405548168,73.72111434860967,73.82341259909755,74.0328809873604,74.06972789774602,74.33243880595934,74.36755372120159,74.63910336718989,75.4591651673804,76.89112665670324],\"yaxis\":\"y9\",\"type\":\"scatter\"},{\"hovertemplate\":\"\\u003cb\\u003e%{hovertext}\\u003c\\u002fb\\u003e\\u003cbr\\u003e\\u003cbr\\u003eyear=1982\\u003cbr\\u003egdpPercap=%{x}\\u003cbr\\u003elifeExp=%{y}\\u003cextra\\u003e\\u003c\\u002fextra\\u003e\",\"hovertext\":[\"Albania\",\"Austria\",\"Belgium\",\"Bosnia and Herzegovina\",\"Bulgaria\",\"Croatia\",\"Czech Republic\",\"Denmark\",\"Finland\",\"France\",\"Germany\",\"Greece\",\"Hungary\",\"Iceland\",\"Ireland\",\"Italy\",\"Montenegro\",\"Netherlands\",\"Norway\",\"Poland\",\"Portugal\",\"Romania\",\"Serbia\",\"Slovak Republic\",\"Slovenia\",\"Spain\",\"Sweden\",\"Switzerland\",\"Turkey\",\"United Kingdom\"],\"legendgroup\":\"\",\"marker\":{\"color\":\"#636efa\",\"symbol\":\"circle\"},\"mode\":\"markers\",\"name\":\"\",\"orientation\":\"v\",\"showlegend\":false,\"x\":[3630.880722,21597.08362,20979.84589,4126.613157,8224.191647,13221.82184,15377.22855,21688.04048,18533.15761,20293.89746,22031.53274,15268.42089,12545.99066,23269.6075,12618.32141,16537.4835,11222.58762,21399.46046,26298.63531,8451.531004,11753.84291,9605.314053,15181.0927,11348.54585,17866.72175,13926.16997,20667.38125,28397.71512,4241.356344,18232.42452],\"xaxis\":\"x4\",\"y\":[70.42,73.18,73.93,70.69,71.08,70.46,70.96,74.63,74.55,74.89,73.8,75.24,69.39,76.99,73.1,74.98,74.101,76.05,75.97,71.32,72.77,69.66,70.16199999999999,70.8,71.063,76.3,76.42,76.21,61.036,74.04],\"yaxis\":\"y4\",\"type\":\"scatter\"},{\"hovertemplate\":\"\\u003cb\\u003eOLS trendline\\u003c\\u002fb\\u003e\\u003cbr\\u003elifeExp = 0.000356374 * gdpPercap + 67.2406\\u003cbr\\u003eR\\u003csup\\u003e2\\u003c\\u002fsup\\u003e=0.510652\\u003cbr\\u003e\\u003cbr\\u003eyear=1982\\u003cbr\\u003egdpPercap=%{x}\\u003cbr\\u003elifeExp=%{y} \\u003cb\\u003e(trend)\\u003c\\u002fb\\u003e\\u003cextra\\u003e\\u003c\\u002fextra\\u003e\",\"legendgroup\":\"\",\"marker\":{\"color\":\"#636efa\",\"symbol\":\"circle\"},\"mode\":\"lines\",\"name\":\"\",\"showlegend\":false,\"x\":[3630.880722,4126.613157,4241.356344,8224.191647,8451.531004,9605.314053,11222.58762,11348.54585,11753.84291,12545.99066,12618.32141,13221.82184,13926.16997,15181.0927,15268.42089,15377.22855,16537.4835,17866.72175,18232.42452,18533.15761,20293.89746,20667.38125,20979.84589,21399.46046,21597.08362,21688.04048,22031.53274,23269.6075,26298.63531,28397.71512],\"xaxis\":\"x4\",\"y\":[68.53453524414759,68.71120155939887,68.75209308598917,70.17147335557698,70.25249126700893,70.66366993008394,71.24002471678492,71.28491299682992,71.42935046574877,71.71165159080445,71.73742841350087,71.95250047595461,72.20351207010464,72.6507343194097,72.68185584476412,72.7206321018862,73.13411718435525,73.60782357743916,73.73815065771802,73.84532421170272,74.47280669913685,74.60590673521858,74.71726111249494,74.8668009744724,74.93722879605626,74.96964348625708,75.09205531087682,75.53327337613175,76.61274113778092,77.36079930236531],\"yaxis\":\"y4\",\"type\":\"scatter\"},{\"hovertemplate\":\"\\u003cb\\u003e%{hovertext}\\u003c\\u002fb\\u003e\\u003cbr\\u003e\\u003cbr\\u003eyear=1987\\u003cbr\\u003egdpPercap=%{x}\\u003cbr\\u003elifeExp=%{y}\\u003cextra\\u003e\\u003c\\u002fextra\\u003e\",\"hovertext\":[\"Albania\",\"Austria\",\"Belgium\",\"Bosnia and Herzegovina\",\"Bulgaria\",\"Croatia\",\"Czech Republic\",\"Denmark\",\"Finland\",\"France\",\"Germany\",\"Greece\",\"Hungary\",\"Iceland\",\"Ireland\",\"Italy\",\"Montenegro\",\"Netherlands\",\"Norway\",\"Poland\",\"Portugal\",\"Romania\",\"Serbia\",\"Slovak Republic\",\"Slovenia\",\"Spain\",\"Sweden\",\"Switzerland\",\"Turkey\",\"United Kingdom\"],\"legendgroup\":\"\",\"marker\":{\"color\":\"#636efa\",\"symbol\":\"circle\"},\"mode\":\"markers\",\"name\":\"\",\"orientation\":\"v\",\"showlegend\":false,\"x\":[3738.932735,23687.82607,22525.56308,4314.114757,8239.854824,13822.58394,16310.4434,25116.17581,21141.01223,22066.44214,24639.18566,16120.52839,12986.47998,26923.20628,13872.86652,19207.23482,11732.51017,23651.32361,31540.9748,9082.351172,13039.30876,9696.273295,15870.87851,12037.26758,18678.53492,15764.98313,23586.92927,30281.70459,5089.043686,21664.78767],\"xaxis\":\"x5\",\"y\":[72.0,74.94,75.35,71.14,71.34,71.52,71.58,74.8,74.83,76.34,74.847,76.67,69.58,77.23,74.36,76.42,74.865,76.83,75.89,70.98,74.06,69.53,71.218,71.08,72.25,76.9,77.19,77.41,63.108,75.007],\"yaxis\":\"y5\",\"type\":\"scatter\"},{\"hovertemplate\":\"\\u003cb\\u003eOLS trendline\\u003c\\u002fb\\u003e\\u003cbr\\u003elifeExp = 0.000308856 * gdpPercap + 68.3254\\u003cbr\\u003eR\\u003csup\\u003e2\\u003c\\u002fsup\\u003e=0.531653\\u003cbr\\u003e\\u003cbr\\u003eyear=1987\\u003cbr\\u003egdpPercap=%{x}\\u003cbr\\u003elifeExp=%{y} \\u003cb\\u003e(trend)\\u003c\\u002fb\\u003e\\u003cextra\\u003e\\u003c\\u002fextra\\u003e\",\"legendgroup\":\"\",\"marker\":{\"color\":\"#636efa\",\"symbol\":\"circle\"},\"mode\":\"lines\",\"name\":\"\",\"showlegend\":false,\"x\":[3738.932735,4314.114757,5089.043686,8239.854824,9082.351172,9696.273295,11732.51017,12037.26758,12986.47998,13039.30876,13822.58394,13872.86652,15764.98313,15870.87851,16120.52839,16310.4434,18678.53492,19207.23482,21141.01223,21664.78767,22066.44214,22525.56308,23586.92927,23651.32361,23687.82607,24639.18566,25116.17581,26923.20628,30281.70459,31540.9748],\"xaxis\":\"x5\",\"y\":[69.48021124016094,69.65785983296315,69.89720151697456,70.8703493961536,71.13055970339299,71.32017342056353,71.94907801357897,72.0432042605091,72.33637449302796,72.3526909947048,72.59461047094305,72.61014056270149,73.19453270349787,73.22723915905753,73.3043450980106,73.36300154586202,74.09440153762816,74.25769383407908,74.85495317553881,75.01672452148041,75.1407780361228,75.28258043222937,75.61039006968242,75.6302786674617,75.6415526823036,75.93538608798744,76.08270750223014,76.64082025239917,77.67811362367925,78.06704716507606],\"yaxis\":\"y5\",\"type\":\"scatter\"},{\"hovertemplate\":\"\\u003cb\\u003e%{hovertext}\\u003c\\u002fb\\u003e\\u003cbr\\u003e\\u003cbr\\u003eyear=1992\\u003cbr\\u003egdpPercap=%{x}\\u003cbr\\u003elifeExp=%{y}\\u003cextra\\u003e\\u003c\\u002fextra\\u003e\",\"hovertext\":[\"Albania\",\"Austria\",\"Belgium\",\"Bosnia and Herzegovina\",\"Bulgaria\",\"Croatia\",\"Czech Republic\",\"Denmark\",\"Finland\",\"France\",\"Germany\",\"Greece\",\"Hungary\",\"Iceland\",\"Ireland\",\"Italy\",\"Montenegro\",\"Netherlands\",\"Norway\",\"Poland\",\"Portugal\",\"Romania\",\"Serbia\",\"Slovak Republic\",\"Slovenia\",\"Spain\",\"Sweden\",\"Switzerland\",\"Turkey\",\"United Kingdom\"],\"legendgroup\":\"\",\"marker\":{\"color\":\"#636efa\",\"symbol\":\"circle\"},\"mode\":\"markers\",\"name\":\"\",\"orientation\":\"v\",\"showlegend\":false,\"x\":[2497.437901,27042.01868,25575.57069,2546.781445,6302.623438000001,8447.794873,14297.02122,26406.73985,20647.16499,24703.79615,26505.30317,17541.49634,10535.62855,25144.39201,17558.81555,22013.64486,7003.339037000002,26790.94961,33965.66115,7738.881247,16207.26663,6598.409903,9325.068238,9498.467723,14214.71681,18603.06452,23880.01683,31871.5303,5678.348271,22705.09254],\"xaxis\":\"x6\",\"y\":[71.581,76.04,76.46,72.178,71.19,72.527,72.4,75.33,75.7,77.46,76.07,77.03,69.17,78.77,75.467,77.44,75.435,77.42,77.32,70.99,74.86,69.36,71.65899999999998,71.38,73.64,77.57,78.16,78.03,66.146,76.42],\"yaxis\":\"y6\",\"type\":\"scatter\"},{\"hovertemplate\":\"\\u003cb\\u003eOLS trendline\\u003c\\u002fb\\u003e\\u003cbr\\u003elifeExp = 0.000286927 * gdpPercap + 69.5447\\u003cbr\\u003eR\\u003csup\\u003e2\\u003c\\u002fsup\\u003e=0.663146\\u003cbr\\u003e\\u003cbr\\u003eyear=1992\\u003cbr\\u003egdpPercap=%{x}\\u003cbr\\u003elifeExp=%{y} \\u003cb\\u003e(trend)\\u003c\\u002fb\\u003e\\u003cextra\\u003e\\u003c\\u002fextra\\u003e\",\"legendgroup\":\"\",\"marker\":{\"color\":\"#636efa\",\"symbol\":\"circle\"},\"mode\":\"lines\",\"name\":\"\",\"showlegend\":false,\"x\":[2497.437901,2546.781445,5678.348271,6302.623438000001,6598.409903,7003.339037000002,7738.881247,8447.794873,9325.068238,9498.467723,10535.62855,14214.71681,14297.02122,16207.26663,17541.49634,17558.81555,18603.06452,20647.16499,22013.64486,22705.09254,23880.01683,24703.79615,25144.39201,25575.57069,26406.73985,26505.30317,26790.94961,27042.01868,31871.5303,33965.66115],\"xaxis\":\"x6\",\"y\":[70.26126212248154,70.2754201029503,71.17395025228694,71.35307146866161,71.43794050430269,71.55412548628135,71.76517218862456,71.96857843911489,72.22029159468865,72.2700445374834,72.56763367562125,73.62326234566405,73.64687767879198,74.1949780990884,74.57780423283788,74.5827735766879,74.88239649233783,75.46890350388203,75.86098306976022,76.05937787392362,76.39649502850193,76.63285931403293,76.75927803216342,76.88299470987074,77.12147933783979,77.14975978643294,77.23171937811712,77.30375779897658,78.68947365249537,79.29033571609834],\"yaxis\":\"y6\",\"type\":\"scatter\"},{\"hovertemplate\":\"\\u003cb\\u003e%{hovertext}\\u003c\\u002fb\\u003e\\u003cbr\\u003e\\u003cbr\\u003eyear=1997\\u003cbr\\u003egdpPercap=%{x}\\u003cbr\\u003elifeExp=%{y}\\u003cextra\\u003e\\u003c\\u002fextra\\u003e\",\"hovertext\":[\"Albania\",\"Austria\",\"Belgium\",\"Bosnia and Herzegovina\",\"Bulgaria\",\"Croatia\",\"Czech Republic\",\"Denmark\",\"Finland\",\"France\",\"Germany\",\"Greece\",\"Hungary\",\"Iceland\",\"Ireland\",\"Italy\",\"Montenegro\",\"Netherlands\",\"Norway\",\"Poland\",\"Portugal\",\"Romania\",\"Serbia\",\"Slovak Republic\",\"Slovenia\",\"Spain\",\"Sweden\",\"Switzerland\",\"Turkey\",\"United Kingdom\"],\"legendgroup\":\"\",\"marker\":{\"color\":\"#636efa\",\"symbol\":\"circle\"},\"mode\":\"markers\",\"name\":\"\",\"orientation\":\"v\",\"showlegend\":false,\"x\":[3193.054604,29095.92066,27561.19663,4766.355904,5970.38876,9875.604515,16048.51424,29804.34567,23723.9502,25889.78487,27788.88416,18747.69814,11712.7768,28061.09966,24521.94713,24675.02446,6465.613349,30246.13063,41283.16433,10159.58368,17641.03156,7346.547556999999,7914.320304000002,12126.23065,17161.10735,20445.29896,25266.59499,32135.32301,6601.429915,26074.53136],\"xaxis\":\"x\",\"y\":[72.95,77.51,77.53,73.244,70.32,73.68,74.01,76.11,77.13,78.64,77.34,77.869,71.04,78.95,76.122,78.82,75.445,78.03,78.32,72.75,75.97,69.72,72.232,72.71,75.13,78.77,79.39,79.37,68.835,77.218],\"yaxis\":\"y\",\"type\":\"scatter\"},{\"hovertemplate\":\"\\u003cb\\u003eOLS trendline\\u003c\\u002fb\\u003e\\u003cbr\\u003elifeExp = 0.000255246 * gdpPercap + 70.6359\\u003cbr\\u003eR\\u003csup\\u003e2\\u003c\\u002fsup\\u003e=0.684783\\u003cbr\\u003e\\u003cbr\\u003eyear=1997\\u003cbr\\u003egdpPercap=%{x}\\u003cbr\\u003elifeExp=%{y} \\u003cb\\u003e(trend)\\u003c\\u002fb\\u003e\\u003cextra\\u003e\\u003c\\u002fextra\\u003e\",\"legendgroup\":\"\",\"marker\":{\"color\":\"#636efa\",\"symbol\":\"circle\"},\"mode\":\"lines\",\"name\":\"\",\"showlegend\":false,\"x\":[3193.054604,4766.355904,5970.38876,6465.613349,6601.429915,7346.547556999999,7914.320304000002,9875.604515,10159.58368,11712.7768,12126.23065,16048.51424,17161.10735,17641.03156,18747.69814,20445.29896,23723.9502,24521.94713,24675.02446,25266.59499,25889.78487,26074.53136,27561.19663,27788.88416,28061.09966,29095.92066,29804.34567,30246.13063,32135.32301,41283.16433],\"xaxis\":\"x\",\"y\":[71.45090665786852,71.85248573707506,72.15981047242417,72.28621463572782,72.32088128954376,72.51106968929588,72.65599148967755,73.15660170814982,73.22908629301257,73.62553283695145,73.73106533500341,74.73221306968026,75.01619816309201,75.13869696376085,75.42116933328413,75.85447538480513,76.69133844847805,76.89502408222096,76.93409647937006,77.08509257193232,77.24415938143743,77.29131520933946,77.67078077656103,77.72889713904304,77.79837909385725,78.06251315662297,78.24333590379969,78.35609980823686,78.8383088653351,81.1732600244126],\"yaxis\":\"y\",\"type\":\"scatter\"},{\"hovertemplate\":\"\\u003cb\\u003e%{hovertext}\\u003c\\u002fb\\u003e\\u003cbr\\u003e\\u003cbr\\u003eyear=2002\\u003cbr\\u003egdpPercap=%{x}\\u003cbr\\u003elifeExp=%{y}\\u003cextra\\u003e\\u003c\\u002fextra\\u003e\",\"hovertext\":[\"Albania\",\"Austria\",\"Belgium\",\"Bosnia and Herzegovina\",\"Bulgaria\",\"Croatia\",\"Czech Republic\",\"Denmark\",\"Finland\",\"France\",\"Germany\",\"Greece\",\"Hungary\",\"Iceland\",\"Ireland\",\"Italy\",\"Montenegro\",\"Netherlands\",\"Norway\",\"Poland\",\"Portugal\",\"Romania\",\"Serbia\",\"Slovak Republic\",\"Slovenia\",\"Spain\",\"Sweden\",\"Switzerland\",\"Turkey\",\"United Kingdom\"],\"legendgroup\":\"\",\"marker\":{\"color\":\"#636efa\",\"symbol\":\"circle\"},\"mode\":\"markers\",\"name\":\"\",\"orientation\":\"v\",\"showlegend\":false,\"x\":[4604.211737,32417.60769,30485.88375,6018.975239,7696.777725,11628.38895,17596.21021999999,32166.50006,28204.59057,28926.03234,30035.80198,22514.2548,14843.93556,31163.20196,34077.04939,27968.09817,6557.194282,33724.75778,44683.97525,12002.23908,19970.90787,7885.360081,7236.075251,13638.77837,20660.01936,24835.47166,29341.63093000001,34480.95771,6508.085718,29478.99919],\"xaxis\":\"x2\",\"y\":[75.65100000000002,78.98,78.32,74.09,72.14,74.876,75.51,77.18,78.37,79.59,78.67,78.256,72.59,80.5,77.783,80.24,73.98100000000002,78.53,79.05,74.67,77.29,71.322,73.21300000000002,73.8,76.66,79.78,80.04,80.62,70.845,78.471],\"yaxis\":\"y2\",\"type\":\"scatter\"},{\"hovertemplate\":\"\\u003cb\\u003eOLS trendline\\u003c\\u002fb\\u003e\\u003cbr\\u003elifeExp = 0.000223002 * gdpPercap + 71.8588\\u003cbr\\u003eR\\u003csup\\u003e2\\u003c\\u002fsup\\u003e=0.730185\\u003cbr\\u003e\\u003cbr\\u003eyear=2002\\u003cbr\\u003egdpPercap=%{x}\\u003cbr\\u003elifeExp=%{y} \\u003cb\\u003e(trend)\\u003c\\u002fb\\u003e\\u003cextra\\u003e\\u003c\\u002fextra\\u003e\",\"legendgroup\":\"\",\"marker\":{\"color\":\"#636efa\",\"symbol\":\"circle\"},\"mode\":\"lines\",\"name\":\"\",\"showlegend\":false,\"x\":[4604.211737,6018.975239,6508.085718,6557.194282,7236.075251,7696.777725,7885.360081,11628.38895,12002.23908,13638.77837,14843.93556,17596.21021999999,19970.90787,20660.01936,22514.2548,24835.47166,27968.09817,28204.59057,28926.03234,29341.63093000001,29478.99919,30035.80198,30485.88375,31163.20196,32166.50006,32417.60769,33724.75778,34077.04939,34480.95771,44683.97525],\"xaxis\":\"x2\",\"y\":[72.8855952958741,73.20108983857259,73.31016226423453,73.32111355320959,73.47250510420632,73.5752424989364,73.61729666847295,74.45199814307486,74.53536732501614,74.90031822612204,75.16907022318821,75.7828319112794,76.31239331717853,76.46606629085822,76.87956378451784,77.39719888799233,78.09577965207087,78.14851783868947,78.30940051695192,78.40207967280577,78.43271301633543,78.55688093652559,78.65724989713443,78.80829295035373,79.03203004478844,79.08802745126872,79.37952402953061,79.45808562674198,79.54815783353158,81.82344720053622],\"yaxis\":\"y2\",\"type\":\"scatter\"},{\"hovertemplate\":\"\\u003cb\\u003e%{hovertext}\\u003c\\u002fb\\u003e\\u003cbr\\u003e\\u003cbr\\u003eyear=2007\\u003cbr\\u003egdpPercap=%{x}\\u003cbr\\u003elifeExp=%{y}\\u003cextra\\u003e\\u003c\\u002fextra\\u003e\",\"hovertext\":[\"Albania\",\"Austria\",\"Belgium\",\"Bosnia and Herzegovina\",\"Bulgaria\",\"Croatia\",\"Czech Republic\",\"Denmark\",\"Finland\",\"France\",\"Germany\",\"Greece\",\"Hungary\",\"Iceland\",\"Ireland\",\"Italy\",\"Montenegro\",\"Netherlands\",\"Norway\",\"Poland\",\"Portugal\",\"Romania\",\"Serbia\",\"Slovak Republic\",\"Slovenia\",\"Spain\",\"Sweden\",\"Switzerland\",\"Turkey\",\"United Kingdom\"],\"legendgroup\":\"\",\"marker\":{\"color\":\"#636efa\",\"symbol\":\"circle\"},\"mode\":\"markers\",\"name\":\"\",\"orientation\":\"v\",\"showlegend\":false,\"x\":[5937.029525999998,36126.4927,33692.60508,7446.298803,10680.79282,14619.22272,22833.30851,35278.41874,33207.0844,30470.0167,32170.37442,27538.41188,18008.94444,36180.78919,40675.99635,28569.7197,9253.896111,36797.93332,49357.19017,15389.92468,20509.64777,10808.47561,9786.534714,18678.31435,25768.25759,28821.0637,33859.74835,37506.41907,8458.276384,33203.26128],\"xaxis\":\"x3\",\"y\":[76.423,79.829,79.441,74.852,73.005,75.748,76.486,78.332,79.313,80.657,79.406,79.483,73.33800000000002,81.757,78.885,80.546,74.543,79.762,80.196,75.563,78.098,72.476,74.002,74.663,77.926,80.941,80.884,81.70100000000002,71.777,79.425],\"yaxis\":\"y3\",\"type\":\"scatter\"},{\"hovertemplate\":\"\\u003cb\\u003eOLS trendline\\u003c\\u002fb\\u003e\\u003cbr\\u003elifeExp = 0.000214634 * gdpPercap + 72.2711\\u003cbr\\u003eR\\u003csup\\u003e2\\u003c\\u002fsup\\u003e=0.722451\\u003cbr\\u003e\\u003cbr\\u003eyear=2007\\u003cbr\\u003egdpPercap=%{x}\\u003cbr\\u003elifeExp=%{y} \\u003cb\\u003e(trend)\\u003c\\u002fb\\u003e\\u003cextra\\u003e\\u003c\\u002fextra\\u003e\",\"legendgroup\":\"\",\"marker\":{\"color\":\"#636efa\",\"symbol\":\"circle\"},\"mode\":\"lines\",\"name\":\"\",\"showlegend\":false,\"x\":[5937.029525999998,7446.298803,8458.276384,9253.896111,9786.534714,10680.79282,10808.47561,14619.22272,15389.92468,18008.94444,18678.31435,20509.64777,22833.30851,25768.25759,27538.41188,28569.7197,28821.0637,30470.0167,32170.37442,33203.26128,33207.0844,33692.60508,33859.74835,35278.41874,36126.4927,36180.78919,36797.93332,37506.41907,40675.99635,49357.19017],\"xaxis\":\"x3\",\"y\":[73.54534412490418,73.86928467892466,74.08648950992543,74.25725658183343,74.3715789541085,74.56351717925463,74.5909222516044,75.40883827815938,75.57425714920626,76.13638792664538,76.28005749097989,76.6731239713698,77.17186065072994,77.80180061272725,78.18173596962005,78.40308972780463,78.45703670456385,78.81095813960127,79.17591277708297,79.39760545099332,79.39842602266317,79.50263528502903,79.53850991940323,79.84300486878863,80.02503040435033,80.03668427905646,80.16914441352634,80.32120956841163,81.00150872757483,82.86478838115647],\"yaxis\":\"y3\",\"type\":\"scatter\"}],                        {\"template\":{\"data\":{\"histogram2dcontour\":[{\"type\":\"histogram2dcontour\",\"colorbar\":{\"outlinewidth\":0,\"ticks\":\"\"},\"colorscale\":[[0.0,\"#0d0887\"],[0.1111111111111111,\"#46039f\"],[0.2222222222222222,\"#7201a8\"],[0.3333333333333333,\"#9c179e\"],[0.4444444444444444,\"#bd3786\"],[0.5555555555555556,\"#d8576b\"],[0.6666666666666666,\"#ed7953\"],[0.7777777777777778,\"#fb9f3a\"],[0.8888888888888888,\"#fdca26\"],[1.0,\"#f0f921\"]]}],\"choropleth\":[{\"type\":\"choropleth\",\"colorbar\":{\"outlinewidth\":0,\"ticks\":\"\"}}],\"histogram2d\":[{\"type\":\"histogram2d\",\"colorbar\":{\"outlinewidth\":0,\"ticks\":\"\"},\"colorscale\":[[0.0,\"#0d0887\"],[0.1111111111111111,\"#46039f\"],[0.2222222222222222,\"#7201a8\"],[0.3333333333333333,\"#9c179e\"],[0.4444444444444444,\"#bd3786\"],[0.5555555555555556,\"#d8576b\"],[0.6666666666666666,\"#ed7953\"],[0.7777777777777778,\"#fb9f3a\"],[0.8888888888888888,\"#fdca26\"],[1.0,\"#f0f921\"]]}],\"heatmap\":[{\"type\":\"heatmap\",\"colorbar\":{\"outlinewidth\":0,\"ticks\":\"\"},\"colorscale\":[[0.0,\"#0d0887\"],[0.1111111111111111,\"#46039f\"],[0.2222222222222222,\"#7201a8\"],[0.3333333333333333,\"#9c179e\"],[0.4444444444444444,\"#bd3786\"],[0.5555555555555556,\"#d8576b\"],[0.6666666666666666,\"#ed7953\"],[0.7777777777777778,\"#fb9f3a\"],[0.8888888888888888,\"#fdca26\"],[1.0,\"#f0f921\"]]}],\"heatmapgl\":[{\"type\":\"heatmapgl\",\"colorbar\":{\"outlinewidth\":0,\"ticks\":\"\"},\"colorscale\":[[0.0,\"#0d0887\"],[0.1111111111111111,\"#46039f\"],[0.2222222222222222,\"#7201a8\"],[0.3333333333333333,\"#9c179e\"],[0.4444444444444444,\"#bd3786\"],[0.5555555555555556,\"#d8576b\"],[0.6666666666666666,\"#ed7953\"],[0.7777777777777778,\"#fb9f3a\"],[0.8888888888888888,\"#fdca26\"],[1.0,\"#f0f921\"]]}],\"contourcarpet\":[{\"type\":\"contourcarpet\",\"colorbar\":{\"outlinewidth\":0,\"ticks\":\"\"}}],\"contour\":[{\"type\":\"contour\",\"colorbar\":{\"outlinewidth\":0,\"ticks\":\"\"},\"colorscale\":[[0.0,\"#0d0887\"],[0.1111111111111111,\"#46039f\"],[0.2222222222222222,\"#7201a8\"],[0.3333333333333333,\"#9c179e\"],[0.4444444444444444,\"#bd3786\"],[0.5555555555555556,\"#d8576b\"],[0.6666666666666666,\"#ed7953\"],[0.7777777777777778,\"#fb9f3a\"],[0.8888888888888888,\"#fdca26\"],[1.0,\"#f0f921\"]]}],\"surface\":[{\"type\":\"surface\",\"colorbar\":{\"outlinewidth\":0,\"ticks\":\"\"},\"colorscale\":[[0.0,\"#0d0887\"],[0.1111111111111111,\"#46039f\"],[0.2222222222222222,\"#7201a8\"],[0.3333333333333333,\"#9c179e\"],[0.4444444444444444,\"#bd3786\"],[0.5555555555555556,\"#d8576b\"],[0.6666666666666666,\"#ed7953\"],[0.7777777777777778,\"#fb9f3a\"],[0.8888888888888888,\"#fdca26\"],[1.0,\"#f0f921\"]]}],\"mesh3d\":[{\"type\":\"mesh3d\",\"colorbar\":{\"outlinewidth\":0,\"ticks\":\"\"}}],\"scatter\":[{\"fillpattern\":{\"fillmode\":\"overlay\",\"size\":10,\"solidity\":0.2},\"type\":\"scatter\"}],\"parcoords\":[{\"type\":\"parcoords\",\"line\":{\"colorbar\":{\"outlinewidth\":0,\"ticks\":\"\"}}}],\"scatterpolargl\":[{\"type\":\"scatterpolargl\",\"marker\":{\"colorbar\":{\"outlinewidth\":0,\"ticks\":\"\"}}}],\"bar\":[{\"error_x\":{\"color\":\"#2a3f5f\"},\"error_y\":{\"color\":\"#2a3f5f\"},\"marker\":{\"line\":{\"color\":\"#E5ECF6\",\"width\":0.5},\"pattern\":{\"fillmode\":\"overlay\",\"size\":10,\"solidity\":0.2}},\"type\":\"bar\"}],\"scattergeo\":[{\"type\":\"scattergeo\",\"marker\":{\"colorbar\":{\"outlinewidth\":0,\"ticks\":\"\"}}}],\"scatterpolar\":[{\"type\":\"scatterpolar\",\"marker\":{\"colorbar\":{\"outlinewidth\":0,\"ticks\":\"\"}}}],\"histogram\":[{\"marker\":{\"pattern\":{\"fillmode\":\"overlay\",\"size\":10,\"solidity\":0.2}},\"type\":\"histogram\"}],\"scattergl\":[{\"type\":\"scattergl\",\"marker\":{\"colorbar\":{\"outlinewidth\":0,\"ticks\":\"\"}}}],\"scatter3d\":[{\"type\":\"scatter3d\",\"line\":{\"colorbar\":{\"outlinewidth\":0,\"ticks\":\"\"}},\"marker\":{\"colorbar\":{\"outlinewidth\":0,\"ticks\":\"\"}}}],\"scattermapbox\":[{\"type\":\"scattermapbox\",\"marker\":{\"colorbar\":{\"outlinewidth\":0,\"ticks\":\"\"}}}],\"scatterternary\":[{\"type\":\"scatterternary\",\"marker\":{\"colorbar\":{\"outlinewidth\":0,\"ticks\":\"\"}}}],\"scattercarpet\":[{\"type\":\"scattercarpet\",\"marker\":{\"colorbar\":{\"outlinewidth\":0,\"ticks\":\"\"}}}],\"carpet\":[{\"aaxis\":{\"endlinecolor\":\"#2a3f5f\",\"gridcolor\":\"white\",\"linecolor\":\"white\",\"minorgridcolor\":\"white\",\"startlinecolor\":\"#2a3f5f\"},\"baxis\":{\"endlinecolor\":\"#2a3f5f\",\"gridcolor\":\"white\",\"linecolor\":\"white\",\"minorgridcolor\":\"white\",\"startlinecolor\":\"#2a3f5f\"},\"type\":\"carpet\"}],\"table\":[{\"cells\":{\"fill\":{\"color\":\"#EBF0F8\"},\"line\":{\"color\":\"white\"}},\"header\":{\"fill\":{\"color\":\"#C8D4E3\"},\"line\":{\"color\":\"white\"}},\"type\":\"table\"}],\"barpolar\":[{\"marker\":{\"line\":{\"color\":\"#E5ECF6\",\"width\":0.5},\"pattern\":{\"fillmode\":\"overlay\",\"size\":10,\"solidity\":0.2}},\"type\":\"barpolar\"}],\"pie\":[{\"automargin\":true,\"type\":\"pie\"}]},\"layout\":{\"autotypenumbers\":\"strict\",\"colorway\":[\"#636efa\",\"#EF553B\",\"#00cc96\",\"#ab63fa\",\"#FFA15A\",\"#19d3f3\",\"#FF6692\",\"#B6E880\",\"#FF97FF\",\"#FECB52\"],\"font\":{\"color\":\"#2a3f5f\"},\"hovermode\":\"closest\",\"hoverlabel\":{\"align\":\"left\"},\"paper_bgcolor\":\"white\",\"plot_bgcolor\":\"#E5ECF6\",\"polar\":{\"bgcolor\":\"#E5ECF6\",\"angularaxis\":{\"gridcolor\":\"white\",\"linecolor\":\"white\",\"ticks\":\"\"},\"radialaxis\":{\"gridcolor\":\"white\",\"linecolor\":\"white\",\"ticks\":\"\"}},\"ternary\":{\"bgcolor\":\"#E5ECF6\",\"aaxis\":{\"gridcolor\":\"white\",\"linecolor\":\"white\",\"ticks\":\"\"},\"baxis\":{\"gridcolor\":\"white\",\"linecolor\":\"white\",\"ticks\":\"\"},\"caxis\":{\"gridcolor\":\"white\",\"linecolor\":\"white\",\"ticks\":\"\"}},\"coloraxis\":{\"colorbar\":{\"outlinewidth\":0,\"ticks\":\"\"}},\"colorscale\":{\"sequential\":[[0.0,\"#0d0887\"],[0.1111111111111111,\"#46039f\"],[0.2222222222222222,\"#7201a8\"],[0.3333333333333333,\"#9c179e\"],[0.4444444444444444,\"#bd3786\"],[0.5555555555555556,\"#d8576b\"],[0.6666666666666666,\"#ed7953\"],[0.7777777777777778,\"#fb9f3a\"],[0.8888888888888888,\"#fdca26\"],[1.0,\"#f0f921\"]],\"sequentialminus\":[[0.0,\"#0d0887\"],[0.1111111111111111,\"#46039f\"],[0.2222222222222222,\"#7201a8\"],[0.3333333333333333,\"#9c179e\"],[0.4444444444444444,\"#bd3786\"],[0.5555555555555556,\"#d8576b\"],[0.6666666666666666,\"#ed7953\"],[0.7777777777777778,\"#fb9f3a\"],[0.8888888888888888,\"#fdca26\"],[1.0,\"#f0f921\"]],\"diverging\":[[0,\"#8e0152\"],[0.1,\"#c51b7d\"],[0.2,\"#de77ae\"],[0.3,\"#f1b6da\"],[0.4,\"#fde0ef\"],[0.5,\"#f7f7f7\"],[0.6,\"#e6f5d0\"],[0.7,\"#b8e186\"],[0.8,\"#7fbc41\"],[0.9,\"#4d9221\"],[1,\"#276419\"]]},\"xaxis\":{\"gridcolor\":\"white\",\"linecolor\":\"white\",\"ticks\":\"\",\"title\":{\"standoff\":15},\"zerolinecolor\":\"white\",\"automargin\":true,\"zerolinewidth\":2},\"yaxis\":{\"gridcolor\":\"white\",\"linecolor\":\"white\",\"ticks\":\"\",\"title\":{\"standoff\":15},\"zerolinecolor\":\"white\",\"automargin\":true,\"zerolinewidth\":2},\"scene\":{\"xaxis\":{\"backgroundcolor\":\"#E5ECF6\",\"gridcolor\":\"white\",\"linecolor\":\"white\",\"showbackground\":true,\"ticks\":\"\",\"zerolinecolor\":\"white\",\"gridwidth\":2},\"yaxis\":{\"backgroundcolor\":\"#E5ECF6\",\"gridcolor\":\"white\",\"linecolor\":\"white\",\"showbackground\":true,\"ticks\":\"\",\"zerolinecolor\":\"white\",\"gridwidth\":2},\"zaxis\":{\"backgroundcolor\":\"#E5ECF6\",\"gridcolor\":\"white\",\"linecolor\":\"white\",\"showbackground\":true,\"ticks\":\"\",\"zerolinecolor\":\"white\",\"gridwidth\":2}},\"shapedefaults\":{\"line\":{\"color\":\"#2a3f5f\"}},\"annotationdefaults\":{\"arrowcolor\":\"#2a3f5f\",\"arrowhead\":0,\"arrowwidth\":1},\"geo\":{\"bgcolor\":\"white\",\"landcolor\":\"#E5ECF6\",\"subunitcolor\":\"white\",\"showland\":true,\"showlakes\":true,\"lakecolor\":\"white\"},\"title\":{\"x\":0.05},\"mapbox\":{\"style\":\"light\"}}},\"xaxis\":{\"anchor\":\"y\",\"domain\":[0.0,0.31999999999999995],\"title\":{\"text\":\"gdpPercap\"}},\"yaxis\":{\"anchor\":\"x\",\"domain\":[0.0,0.1975],\"title\":{\"text\":\"lifeExp\"}},\"xaxis2\":{\"anchor\":\"y2\",\"domain\":[0.33999999999999997,0.6599999999999999],\"matches\":\"x\",\"title\":{\"text\":\"gdpPercap\"}},\"yaxis2\":{\"anchor\":\"x2\",\"domain\":[0.0,0.1975],\"matches\":\"y\",\"showticklabels\":false},\"xaxis3\":{\"anchor\":\"y3\",\"domain\":[0.6799999999999999,0.9999999999999999],\"matches\":\"x\",\"title\":{\"text\":\"gdpPercap\"}},\"yaxis3\":{\"anchor\":\"x3\",\"domain\":[0.0,0.1975],\"matches\":\"y\",\"showticklabels\":false},\"xaxis4\":{\"anchor\":\"y4\",\"domain\":[0.0,0.31999999999999995],\"matches\":\"x\",\"showticklabels\":false},\"yaxis4\":{\"anchor\":\"x4\",\"domain\":[0.2675,0.465],\"matches\":\"y\",\"title\":{\"text\":\"lifeExp\"}},\"xaxis5\":{\"anchor\":\"y5\",\"domain\":[0.33999999999999997,0.6599999999999999],\"matches\":\"x\",\"showticklabels\":false},\"yaxis5\":{\"anchor\":\"x5\",\"domain\":[0.2675,0.465],\"matches\":\"y\",\"showticklabels\":false},\"xaxis6\":{\"anchor\":\"y6\",\"domain\":[0.6799999999999999,0.9999999999999999],\"matches\":\"x\",\"showticklabels\":false},\"yaxis6\":{\"anchor\":\"x6\",\"domain\":[0.2675,0.465],\"matches\":\"y\",\"showticklabels\":false},\"xaxis7\":{\"anchor\":\"y7\",\"domain\":[0.0,0.31999999999999995],\"matches\":\"x\",\"showticklabels\":false},\"yaxis7\":{\"anchor\":\"x7\",\"domain\":[0.535,0.7325],\"matches\":\"y\",\"title\":{\"text\":\"lifeExp\"}},\"xaxis8\":{\"anchor\":\"y8\",\"domain\":[0.33999999999999997,0.6599999999999999],\"matches\":\"x\",\"showticklabels\":false},\"yaxis8\":{\"anchor\":\"x8\",\"domain\":[0.535,0.7325],\"matches\":\"y\",\"showticklabels\":false},\"xaxis9\":{\"anchor\":\"y9\",\"domain\":[0.6799999999999999,0.9999999999999999],\"matches\":\"x\",\"showticklabels\":false},\"yaxis9\":{\"anchor\":\"x9\",\"domain\":[0.535,0.7325],\"matches\":\"y\",\"showticklabels\":false},\"xaxis10\":{\"anchor\":\"y10\",\"domain\":[0.0,0.31999999999999995],\"matches\":\"x\",\"showticklabels\":false},\"yaxis10\":{\"anchor\":\"x10\",\"domain\":[0.8025,1.0],\"matches\":\"y\",\"title\":{\"text\":\"lifeExp\"}},\"xaxis11\":{\"anchor\":\"y11\",\"domain\":[0.33999999999999997,0.6599999999999999],\"matches\":\"x\",\"showticklabels\":false},\"yaxis11\":{\"anchor\":\"x11\",\"domain\":[0.8025,1.0],\"matches\":\"y\",\"showticklabels\":false},\"xaxis12\":{\"anchor\":\"y12\",\"domain\":[0.6799999999999999,0.9999999999999999],\"matches\":\"x\",\"showticklabels\":false},\"yaxis12\":{\"anchor\":\"x12\",\"domain\":[0.8025,1.0],\"matches\":\"y\",\"showticklabels\":false},\"annotations\":[{\"font\":{},\"showarrow\":false,\"text\":\"year=1997\",\"x\":0.15999999999999998,\"xanchor\":\"center\",\"xref\":\"paper\",\"y\":0.1975,\"yanchor\":\"bottom\",\"yref\":\"paper\"},{\"font\":{},\"showarrow\":false,\"text\":\"year=2002\",\"x\":0.49999999999999994,\"xanchor\":\"center\",\"xref\":\"paper\",\"y\":0.1975,\"yanchor\":\"bottom\",\"yref\":\"paper\"},{\"font\":{},\"showarrow\":false,\"text\":\"year=2007\",\"x\":0.8399999999999999,\"xanchor\":\"center\",\"xref\":\"paper\",\"y\":0.1975,\"yanchor\":\"bottom\",\"yref\":\"paper\"},{\"font\":{},\"showarrow\":false,\"text\":\"year=1982\",\"x\":0.15999999999999998,\"xanchor\":\"center\",\"xref\":\"paper\",\"y\":0.465,\"yanchor\":\"bottom\",\"yref\":\"paper\"},{\"font\":{},\"showarrow\":false,\"text\":\"year=1987\",\"x\":0.49999999999999994,\"xanchor\":\"center\",\"xref\":\"paper\",\"y\":0.465,\"yanchor\":\"bottom\",\"yref\":\"paper\"},{\"font\":{},\"showarrow\":false,\"text\":\"year=1992\",\"x\":0.8399999999999999,\"xanchor\":\"center\",\"xref\":\"paper\",\"y\":0.465,\"yanchor\":\"bottom\",\"yref\":\"paper\"},{\"font\":{},\"showarrow\":false,\"text\":\"year=1967\",\"x\":0.15999999999999998,\"xanchor\":\"center\",\"xref\":\"paper\",\"y\":0.7325,\"yanchor\":\"bottom\",\"yref\":\"paper\"},{\"font\":{},\"showarrow\":false,\"text\":\"year=1972\",\"x\":0.49999999999999994,\"xanchor\":\"center\",\"xref\":\"paper\",\"y\":0.7325,\"yanchor\":\"bottom\",\"yref\":\"paper\"},{\"font\":{},\"showarrow\":false,\"text\":\"year=1977\",\"x\":0.8399999999999999,\"xanchor\":\"center\",\"xref\":\"paper\",\"y\":0.7325,\"yanchor\":\"bottom\",\"yref\":\"paper\"},{\"font\":{},\"showarrow\":false,\"text\":\"year=1952\",\"x\":0.15999999999999998,\"xanchor\":\"center\",\"xref\":\"paper\",\"y\":1.0,\"yanchor\":\"bottom\",\"yref\":\"paper\"},{\"font\":{},\"showarrow\":false,\"text\":\"year=1957\",\"x\":0.49999999999999994,\"xanchor\":\"center\",\"xref\":\"paper\",\"y\":1.0,\"yanchor\":\"bottom\",\"yref\":\"paper\"},{\"font\":{},\"showarrow\":false,\"text\":\"year=1962\",\"x\":0.8399999999999999,\"xanchor\":\"center\",\"xref\":\"paper\",\"y\":1.0,\"yanchor\":\"bottom\",\"yref\":\"paper\"}],\"legend\":{\"tracegroupgap\":0},\"margin\":{\"t\":60},\"height\":1000},                        {\"responsive\": true}                    ).then(function(){\n",
       "                            \n",
       "var gd = document.getElementById('5f515618-56a7-4474-857c-6e6afb8474c6');\n",
       "var x = new MutationObserver(function (mutations, observer) {{\n",
       "        var display = window.getComputedStyle(gd).display;\n",
       "        if (!display || display === 'none') {{\n",
       "            console.log([gd, 'removed!']);\n",
       "            Plotly.purge(gd);\n",
       "            observer.disconnect();\n",
       "        }}\n",
       "}});\n",
       "\n",
       "// Listen for the removal of the full notebook cells\n",
       "var notebookContainer = gd.closest('#notebook-container');\n",
       "if (notebookContainer) {{\n",
       "    x.observe(notebookContainer, {childList: true});\n",
       "}}\n",
       "\n",
       "// Listen for the clearing of the current output cell\n",
       "var outputEl = gd.closest('.output');\n",
       "if (outputEl) {{\n",
       "    x.observe(outputEl, {childList: true});\n",
       "}}\n",
       "\n",
       "                        })                };                });            </script>        </div>"
      ]
     },
     "metadata": {},
     "output_type": "display_data"
    }
   ],
   "source": [
    "import plotly.express as px\n",
    "\n",
    "fig = px.scatter(\n",
    "    df_filter, x='gdpPercap', y='lifeExp',\n",
    "    hover_name='country', height=1000, trendline=\"ols\",\n",
    "    size_max=60, facet_col='year', facet_col_wrap=3)\n",
    "\n",
    "fig"
   ]
  },
  {
   "cell_type": "code",
   "execution_count": 18,
   "id": "84c2d98b",
   "metadata": {},
   "outputs": [
    {
     "data": {
      "application/vnd.plotly.v1+json": {
       "config": {
        "plotlyServerURL": "https://plot.ly"
       },
       "data": [
        {
         "hovertemplate": "<b>%{hovertext}</b><br><br>year=1952<br>gdpPercap=%{x}<br>lifeExp=%{y}<extra></extra>",
         "hovertext": [
          "Albania",
          "Austria",
          "Belgium",
          "Bosnia and Herzegovina",
          "Bulgaria",
          "Croatia",
          "Czech Republic",
          "Denmark",
          "Finland",
          "France",
          "Germany",
          "Greece",
          "Hungary",
          "Iceland",
          "Ireland",
          "Italy",
          "Montenegro",
          "Netherlands",
          "Norway",
          "Poland",
          "Portugal",
          "Romania",
          "Serbia",
          "Slovak Republic",
          "Slovenia",
          "Spain",
          "Sweden",
          "Switzerland",
          "Turkey",
          "United Kingdom"
         ],
         "legendgroup": "",
         "marker": {
          "color": "#636efa",
          "symbol": "circle"
         },
         "mode": "markers",
         "name": "",
         "orientation": "v",
         "showlegend": false,
         "type": "scatter",
         "x": [
          1601.056136,
          6137.076492,
          8343.105126999999,
          973.5331948,
          2444.286648,
          3119.23652,
          6876.14025,
          9692.385245,
          6424.519071,
          7029.809327,
          7144.114393000002,
          3530.690067,
          5263.673816,
          7267.688428,
          5210.280328,
          4931.404154999998,
          2647.585601,
          8941.571858,
          10095.42172,
          4029.329699,
          3068.319867,
          3144.613186,
          3581.459448,
          5074.659104,
          4215.041741,
          3834.034742,
          8527.844662000001,
          14734.23275,
          1969.10098,
          9979.508487
         ],
         "xaxis": "x10",
         "y": [
          55.23,
          66.8,
          68,
          53.82,
          59.6,
          61.21,
          66.87,
          70.78,
          66.55,
          67.41,
          67.5,
          65.86,
          64.03,
          72.49,
          66.91,
          65.94,
          59.164,
          72.13,
          72.67,
          61.31,
          59.82,
          61.05,
          57.996,
          64.36,
          65.57,
          64.94,
          71.86,
          69.62,
          43.585,
          69.18
         ],
         "yaxis": "y10"
        },
        {
         "hovertemplate": "<b>OLS trendline</b><br>lifeExp = 0.00159335 * gdpPercap + 55.3885<br>R<sup>2</sup>=0.608433<br><br>year=1952<br>gdpPercap=%{x}<br>lifeExp=%{y} <b>(trend)</b><extra></extra>",
         "legendgroup": "",
         "marker": {
          "color": "#636efa",
          "symbol": "circle"
         },
         "mode": "lines",
         "name": "",
         "showlegend": false,
         "type": "scatter",
         "x": [
          973.5331948,
          1601.056136,
          1969.10098,
          2444.286648,
          2647.585601,
          3068.319867,
          3119.23652,
          3144.613186,
          3530.690067,
          3581.459448,
          3834.034742,
          4029.329699,
          4215.041741,
          4931.404154999998,
          5074.659104,
          5210.280328,
          5263.673816,
          6137.076492,
          6424.519071,
          6876.14025,
          7029.809327,
          7144.114393000002,
          7267.688428,
          8343.105126999999,
          8527.844662000001,
          8941.571858,
          9692.385245,
          9979.508487,
          10095.42172,
          14734.23275
         ],
         "xaxis": "x10",
         "y": [
          56.93964292146788,
          57.93950530540361,
          58.525928798405126,
          59.28306490232192,
          59.60699086972879,
          60.277366944588714,
          60.35849488861774,
          60.39892874704303,
          61.014083549002855,
          61.09497683749447,
          61.49741716118874,
          61.80858997807929,
          62.10449387712178,
          63.24590845178943,
          63.4741634292789,
          63.690255226786114,
          63.7753296307533,
          65.16696398294326,
          65.62496002326967,
          66.34454969724604,
          66.58939800410252,
          66.77152574523042,
          66.96842217899487,
          68.6819351580267,
          68.97628951504679,
          69.63550088937606,
          70.8318078508094,
          71.28929507618555,
          71.47398518688564,
          78.86522517281136
         ],
         "yaxis": "y10"
        },
        {
         "hovertemplate": "<b>%{hovertext}</b><br><br>year=1957<br>gdpPercap=%{x}<br>lifeExp=%{y}<extra></extra>",
         "hovertext": [
          "Albania",
          "Austria",
          "Belgium",
          "Bosnia and Herzegovina",
          "Bulgaria",
          "Croatia",
          "Czech Republic",
          "Denmark",
          "Finland",
          "France",
          "Germany",
          "Greece",
          "Hungary",
          "Iceland",
          "Ireland",
          "Italy",
          "Montenegro",
          "Netherlands",
          "Norway",
          "Poland",
          "Portugal",
          "Romania",
          "Serbia",
          "Slovak Republic",
          "Slovenia",
          "Spain",
          "Sweden",
          "Switzerland",
          "Turkey",
          "United Kingdom"
         ],
         "legendgroup": "",
         "marker": {
          "color": "#636efa",
          "symbol": "circle"
         },
         "mode": "markers",
         "name": "",
         "orientation": "v",
         "showlegend": false,
         "type": "scatter",
         "x": [
          1942.284244,
          8842.59803,
          9714.960623,
          1353.989176,
          3008.670727,
          4338.231617,
          8256.343918,
          11099.65935,
          7545.415386,
          8662.834898000001,
          10187.82665,
          4916.299889,
          6040.180011,
          9244.001412,
          5599.077872,
          6248.656232,
          3682.259903,
          11276.19344,
          11653.97304,
          4734.253019,
          3774.571743,
          3943.370225,
          4981.090891,
          6093.26298,
          5862.276629,
          4564.80241,
          9911.878226,
          17909.48973,
          2218.754257,
          11283.17795
         ],
         "xaxis": "x11",
         "y": [
          59.28,
          67.48,
          69.24,
          58.45,
          66.61,
          64.77,
          69.03,
          71.81,
          67.49,
          68.93,
          69.1,
          67.86,
          66.41,
          73.47,
          68.9,
          67.81,
          61.448,
          72.99,
          73.44,
          65.77,
          61.51,
          64.1,
          61.685,
          67.45,
          67.85,
          66.66,
          72.49,
          70.56,
          48.07899999999999,
          70.42
         ],
         "yaxis": "y11"
        },
        {
         "hovertemplate": "<b>OLS trendline</b><br>lifeExp = 0.001064 * gdpPercap + 59.2944<br>R<sup>2</sup>=0.546045<br><br>year=1957<br>gdpPercap=%{x}<br>lifeExp=%{y} <b>(trend)</b><extra></extra>",
         "legendgroup": "",
         "marker": {
          "color": "#636efa",
          "symbol": "circle"
         },
         "mode": "lines",
         "name": "",
         "showlegend": false,
         "type": "scatter",
         "x": [
          1353.989176,
          1942.284244,
          2218.754257,
          3008.670727,
          3682.259903,
          3774.571743,
          3943.370225,
          4338.231617,
          4564.80241,
          4734.253019,
          4916.299889,
          4981.090891,
          5599.077872,
          5862.276629,
          6040.180011,
          6093.26298,
          6248.656232,
          7545.415386,
          8256.343918,
          8662.834898000001,
          8842.59803,
          9244.001412,
          9714.960623,
          9911.878226,
          10187.82665,
          11099.65935,
          11276.19344,
          11283.17795,
          11653.97304,
          17909.48973
         ],
         "xaxis": "x11",
         "y": [
          60.73508242581132,
          61.3610266043669,
          61.65518986460102,
          62.49565860696633,
          63.212355459259584,
          63.31057497868577,
          63.49017605458145,
          63.9103073851041,
          64.15137802571172,
          64.33167296276915,
          64.52537028355097,
          64.59430771432454,
          65.25184399878663,
          65.53188668265155,
          65.7211753446946,
          65.77765546365761,
          65.94299341525203,
          67.32274124518787,
          68.07916705968147,
          68.51167223677119,
          68.70293966720683,
          69.13003165536442,
          69.63113083585691,
          69.8406505717133,
          70.13425886282408,
          71.10444610631397,
          71.29227784579764,
          71.29970934337831,
          71.69423420113641,
          78.35008509799071
         ],
         "yaxis": "y11"
        },
        {
         "hovertemplate": "<b>%{hovertext}</b><br><br>year=1962<br>gdpPercap=%{x}<br>lifeExp=%{y}<extra></extra>",
         "hovertext": [
          "Albania",
          "Austria",
          "Belgium",
          "Bosnia and Herzegovina",
          "Bulgaria",
          "Croatia",
          "Czech Republic",
          "Denmark",
          "Finland",
          "France",
          "Germany",
          "Greece",
          "Hungary",
          "Iceland",
          "Ireland",
          "Italy",
          "Montenegro",
          "Netherlands",
          "Norway",
          "Poland",
          "Portugal",
          "Romania",
          "Serbia",
          "Slovak Republic",
          "Slovenia",
          "Spain",
          "Sweden",
          "Switzerland",
          "Turkey",
          "United Kingdom"
         ],
         "legendgroup": "",
         "marker": {
          "color": "#636efa",
          "symbol": "circle"
         },
         "mode": "markers",
         "name": "",
         "orientation": "v",
         "showlegend": false,
         "type": "scatter",
         "x": [
          2312.888958,
          10750.72111,
          10991.20676,
          1709.683679,
          4254.337839,
          5477.890018,
          10136.86713,
          13583.31351,
          9371.842561,
          10560.48553,
          12902.46291,
          6017.190732999999,
          7550.359877,
          10350.15906,
          6631.597314,
          8243.58234,
          4649.593785,
          12790.84956,
          13450.40151,
          5338.752143,
          4727.954889,
          4734.997586,
          6289.629157,
          7481.107598,
          7402.303395,
          5693.843879,
          12329.44192,
          20431.0927,
          2322.869908,
          12477.17707
         ],
         "xaxis": "x12",
         "y": [
          64.82,
          69.54,
          70.25,
          61.93,
          69.51,
          67.13,
          69.9,
          72.35,
          68.75,
          70.51,
          70.3,
          69.51,
          67.96,
          73.68,
          70.29,
          69.24,
          63.728,
          73.23,
          73.47,
          67.64,
          64.39,
          66.8,
          64.531,
          70.33,
          69.15,
          69.69,
          73.37,
          71.32,
          52.098,
          70.76
         ],
         "yaxis": "y12"
        },
        {
         "hovertemplate": "<b>OLS trendline</b><br>lifeExp = 0.000715039 * gdpPercap + 62.5576<br>R<sup>2</sup>=0.487023<br><br>year=1962<br>gdpPercap=%{x}<br>lifeExp=%{y} <b>(trend)</b><extra></extra>",
         "legendgroup": "",
         "marker": {
          "color": "#636efa",
          "symbol": "circle"
         },
         "mode": "lines",
         "name": "",
         "showlegend": false,
         "type": "scatter",
         "x": [
          1709.683679,
          2312.888958,
          2322.869908,
          4254.337839,
          4649.593785,
          4727.954889,
          4734.997586,
          5338.752143,
          5477.890018,
          5693.843879,
          6017.190732999999,
          6289.629157,
          6631.597314,
          7402.303395,
          7481.107598,
          7550.359877,
          8243.58234,
          9371.842561,
          10136.86713,
          10350.15906,
          10560.48553,
          10750.72111,
          10991.20676,
          12329.44192,
          12477.17707,
          12790.84956,
          12902.46291,
          13450.40151,
          13583.31351,
          20431.0927
         ],
         "xaxis": "x12",
         "y": [
          63.78007508326532,
          64.21139033127979,
          64.21852709893508,
          65.59960183202152,
          65.88222521466301,
          65.93825645341889,
          65.94329225583806,
          66.37500025899749,
          66.47448925412586,
          66.62890466851233,
          66.86011025205582,
          67.05491432706496,
          67.29943486689517,
          67.8505197065767,
          67.90686777836062,
          67.95638585277464,
          68.45206689033739,
          69.2588168542174,
          69.80583919172481,
          69.95835122185815,
          70.10874283269162,
          70.24476867534489,
          70.41672527351264,
          71.37361548988139,
          71.4792518711948,
          71.70353990800369,
          71.78334779664947,
          72.1751452184948,
          72.27018247072034,
          77.16661107058208
         ],
         "yaxis": "y12"
        },
        {
         "hovertemplate": "<b>%{hovertext}</b><br><br>year=1967<br>gdpPercap=%{x}<br>lifeExp=%{y}<extra></extra>",
         "hovertext": [
          "Albania",
          "Austria",
          "Belgium",
          "Bosnia and Herzegovina",
          "Bulgaria",
          "Croatia",
          "Czech Republic",
          "Denmark",
          "Finland",
          "France",
          "Germany",
          "Greece",
          "Hungary",
          "Iceland",
          "Ireland",
          "Italy",
          "Montenegro",
          "Netherlands",
          "Norway",
          "Poland",
          "Portugal",
          "Romania",
          "Serbia",
          "Slovak Republic",
          "Slovenia",
          "Spain",
          "Sweden",
          "Switzerland",
          "Turkey",
          "United Kingdom"
         ],
         "legendgroup": "",
         "marker": {
          "color": "#636efa",
          "symbol": "circle"
         },
         "mode": "markers",
         "name": "",
         "orientation": "v",
         "showlegend": false,
         "type": "scatter",
         "x": [
          2760.196931,
          12834.6024,
          13149.04119,
          2172.352423000001,
          5577.0028,
          6960.297861,
          11399.44489,
          15937.21123,
          10921.63626,
          12999.91766,
          14745.62561,
          8513.097016,
          9326.64467,
          13319.89568,
          7655.568963,
          10022.40131,
          5907.850937,
          15363.25136,
          16361.87647,
          6557.152776,
          6361.517993,
          6470.866545,
          7991.707066,
          8412.902397,
          9405.489397,
          7993.512294,
          15258.29697,
          22966.14432,
          2826.356387000001,
          14142.85089
         ],
         "xaxis": "x7",
         "y": [
          66.22,
          70.14,
          70.94,
          64.79,
          70.42,
          68.5,
          70.38,
          72.96,
          69.83,
          71.55,
          70.8,
          71,
          69.5,
          73.73,
          71.08,
          71.06,
          67.178,
          73.82,
          74.08,
          69.61,
          66.6,
          66.8,
          66.914,
          70.98,
          69.18,
          71.44,
          74.16,
          72.77,
          54.33600000000001,
          71.36
         ],
         "yaxis": "y7"
        },
        {
         "hovertemplate": "<b>OLS trendline</b><br>lifeExp = 0.000573787 * gdpPercap + 63.9172<br>R<sup>2</sup>=0.509093<br><br>year=1967<br>gdpPercap=%{x}<br>lifeExp=%{y} <b>(trend)</b><extra></extra>",
         "legendgroup": "",
         "marker": {
          "color": "#636efa",
          "symbol": "circle"
         },
         "mode": "lines",
         "name": "",
         "showlegend": false,
         "type": "scatter",
         "x": [
          2172.352423000001,
          2760.196931,
          2826.356387000001,
          5577.0028,
          5907.850937,
          6361.517993,
          6470.866545,
          6557.152776,
          6960.297861,
          7655.568963,
          7991.707066,
          7993.512294,
          8412.902397,
          8513.097016,
          9326.64467,
          9405.489397,
          10022.40131,
          10921.63626,
          11399.44489,
          12834.6024,
          12999.91766,
          13149.04119,
          13319.89568,
          14142.85089,
          14745.62561,
          15258.29697,
          15363.25136,
          15937.21123,
          16361.87647,
          22966.14432
         ],
         "xaxis": "x7",
         "y": [
          65.16367051097194,
          65.50096825910454,
          65.53892971867894,
          67.11721586133679,
          67.30705234031257,
          67.56736076253695,
          67.63010357947104,
          67.67961352813106,
          67.91093308201081,
          68.30987085187134,
          68.5027426464709,
          68.50377846347861,
          68.74441920334412,
          68.8019096092317,
          69.26871296957331,
          69.3139530773013,
          69.66792933500086,
          70.18389898267023,
          70.45805953489797,
          71.28153477324891,
          71.37639057979487,
          71.46195577633591,
          71.55998992303809,
          72.03219122009774,
          72.3780557351529,
          72.67222008117768,
          72.7324415834999,
          73.06177250185473,
          73.30544004865129,
          77.0948854607526
         ],
         "yaxis": "y7"
        },
        {
         "hovertemplate": "<b>%{hovertext}</b><br><br>year=1972<br>gdpPercap=%{x}<br>lifeExp=%{y}<extra></extra>",
         "hovertext": [
          "Albania",
          "Austria",
          "Belgium",
          "Bosnia and Herzegovina",
          "Bulgaria",
          "Croatia",
          "Czech Republic",
          "Denmark",
          "Finland",
          "France",
          "Germany",
          "Greece",
          "Hungary",
          "Iceland",
          "Ireland",
          "Italy",
          "Montenegro",
          "Netherlands",
          "Norway",
          "Poland",
          "Portugal",
          "Romania",
          "Serbia",
          "Slovak Republic",
          "Slovenia",
          "Spain",
          "Sweden",
          "Switzerland",
          "Turkey",
          "United Kingdom"
         ],
         "legendgroup": "",
         "marker": {
          "color": "#636efa",
          "symbol": "circle"
         },
         "mode": "markers",
         "name": "",
         "orientation": "v",
         "showlegend": false,
         "type": "scatter",
         "x": [
          3313.422188,
          16661.6256,
          16672.14356,
          2860.16975,
          6597.494398,
          9164.090127,
          13108.4536,
          18866.20721,
          14358.8759,
          16107.19171,
          18016.18027,
          12724.82957,
          10168.65611,
          15798.06362,
          9530.772896,
          12269.27378,
          7778.414017,
          18794.74567,
          18965.05551,
          8006.506993000001,
          9022.247417,
          8011.414401999999,
          10522.06749,
          9674.167626,
          12383.4862,
          10638.75131,
          17832.02464,
          27195.11304,
          3450.69638,
          15895.11641
         ],
         "xaxis": "x8",
         "y": [
          67.69,
          70.63,
          71.44,
          67.45,
          70.9,
          69.61,
          70.29,
          73.47,
          70.87,
          72.38,
          71,
          72.34,
          69.76,
          74.46,
          71.28,
          72.19,
          70.63600000000002,
          73.75,
          74.34,
          70.85,
          69.26,
          69.21,
          68.7,
          70.35,
          69.82,
          73.06,
          74.72,
          73.78,
          57.005,
          72.01
         ],
         "yaxis": "y8"
        },
        {
         "hovertemplate": "<b>OLS trendline</b><br>lifeExp = 0.000400268 * gdpPercap + 65.7799<br>R<sup>2</sup>=0.463140<br><br>year=1972<br>gdpPercap=%{x}<br>lifeExp=%{y} <b>(trend)</b><extra></extra>",
         "legendgroup": "",
         "marker": {
          "color": "#636efa",
          "symbol": "circle"
         },
         "mode": "lines",
         "name": "",
         "showlegend": false,
         "type": "scatter",
         "x": [
          2860.16975,
          3313.422188,
          3450.69638,
          6597.494398,
          7778.414017,
          8006.506993000001,
          8011.414401999999,
          9022.247417,
          9164.090127,
          9530.772896,
          9674.167626,
          10168.65611,
          10522.06749,
          10638.75131,
          12269.27378,
          12383.4862,
          12724.82957,
          13108.4536,
          14358.8759,
          15798.06362,
          15895.11641,
          16107.19171,
          16661.6256,
          16672.14356,
          17832.02464,
          18016.18027,
          18794.74567,
          18866.20721,
          18965.05551,
          27195.11304
         ],
         "xaxis": "x8",
         "y": [
          66.92469075554631,
          67.10611331447245,
          67.16105981469879,
          68.42062314185573,
          68.89330776791188,
          68.9846061436285,
          68.98657042362754,
          69.3911747828176,
          69.4479499157364,
          69.59472138498575,
          69.65211774222965,
          69.85004578101228,
          69.99150513464785,
          70.03820996276325,
          70.6908563339538,
          70.73657193912292,
          70.87320085154782,
          71.02675336964407,
          71.52725771200419,
          72.10331885817166,
          72.14216600831699,
          72.22705301693586,
          72.4489752983096,
          72.45318530372359,
          72.91744887064922,
          72.99116052189302,
          73.30279552993098,
          73.33139931529352,
          73.3709651510795,
          76.6651958534899
         ],
         "yaxis": "y8"
        },
        {
         "hovertemplate": "<b>%{hovertext}</b><br><br>year=1977<br>gdpPercap=%{x}<br>lifeExp=%{y}<extra></extra>",
         "hovertext": [
          "Albania",
          "Austria",
          "Belgium",
          "Bosnia and Herzegovina",
          "Bulgaria",
          "Croatia",
          "Czech Republic",
          "Denmark",
          "Finland",
          "France",
          "Germany",
          "Greece",
          "Hungary",
          "Iceland",
          "Ireland",
          "Italy",
          "Montenegro",
          "Netherlands",
          "Norway",
          "Poland",
          "Portugal",
          "Romania",
          "Serbia",
          "Slovak Republic",
          "Slovenia",
          "Spain",
          "Sweden",
          "Switzerland",
          "Turkey",
          "United Kingdom"
         ],
         "legendgroup": "",
         "marker": {
          "color": "#636efa",
          "symbol": "circle"
         },
         "mode": "markers",
         "name": "",
         "orientation": "v",
         "showlegend": false,
         "type": "scatter",
         "x": [
          3533.003910000001,
          19749.4223,
          19117.97448,
          3528.481305,
          7612.240438,
          11305.38517,
          14800.16062,
          20422.9015,
          15605.42283,
          18292.63514,
          20512.92123,
          14195.52428,
          11674.83737,
          19654.96247,
          11150.98113,
          14255.98475,
          9595.929905,
          21209.0592,
          23311.34939,
          9508.141454,
          10172.48572,
          9356.39724,
          12980.66956,
          10922.66404,
          15277.03017,
          13236.92117,
          18855.72521,
          26982.29052,
          4269.122326,
          17428.74846
         ],
         "xaxis": "x9",
         "y": [
          68.93,
          72.17,
          72.8,
          69.86,
          70.81,
          70.64,
          70.71,
          74.69,
          72.52,
          73.83,
          72.5,
          73.68,
          69.95,
          76.11,
          72.03,
          73.48,
          73.066,
          75.24,
          75.37,
          70.67,
          70.41,
          69.46,
          70.3,
          70.45,
          70.97,
          74.39,
          75.44,
          75.39,
          59.507,
          72.76
         ],
         "yaxis": "y9"
        },
        {
         "hovertemplate": "<b>OLS trendline</b><br>lifeExp = 0.00039008 * gdpPercap + 66.3659<br>R<sup>2</sup>=0.539074<br><br>year=1977<br>gdpPercap=%{x}<br>lifeExp=%{y} <b>(trend)</b><extra></extra>",
         "legendgroup": "",
         "marker": {
          "color": "#636efa",
          "symbol": "circle"
         },
         "mode": "lines",
         "name": "",
         "showlegend": false,
         "type": "scatter",
         "x": [
          3528.481305,
          3533.003910000001,
          4269.122326,
          7612.240438,
          9356.39724,
          9508.141454,
          9595.929905,
          10172.48572,
          10922.66404,
          11150.98113,
          11305.38517,
          11674.83737,
          12980.66956,
          13236.92117,
          14195.52428,
          14255.98475,
          14800.16062,
          15277.03017,
          15605.42283,
          17428.74846,
          18292.63514,
          18855.72521,
          19117.97448,
          19654.96247,
          19749.4223,
          20422.9015,
          20512.92123,
          21209.0592,
          23311.34939,
          26982.29052
         ],
         "xaxis": "x9",
         "y": [
          67.74225981726005,
          67.7440239959712,
          68.03116922275758,
          69.33525344015872,
          70.01561449291265,
          70.07480690787669,
          70.10905144533658,
          70.3339544591109,
          70.62658417621152,
          70.71564615477673,
          70.77587611522719,
          70.9199921072332,
          71.42937140299928,
          71.52933008501087,
          71.90326218810213,
          71.92684662097653,
          72.139118858984,
          72.3251362335069,
          72.45323571149996,
          73.16447895735809,
          73.50146405548168,
          73.72111434860967,
          73.82341259909755,
          74.0328809873604,
          74.06972789774602,
          74.33243880595934,
          74.36755372120159,
          74.63910336718989,
          75.4591651673804,
          76.89112665670324
         ],
         "yaxis": "y9"
        },
        {
         "hovertemplate": "<b>%{hovertext}</b><br><br>year=1982<br>gdpPercap=%{x}<br>lifeExp=%{y}<extra></extra>",
         "hovertext": [
          "Albania",
          "Austria",
          "Belgium",
          "Bosnia and Herzegovina",
          "Bulgaria",
          "Croatia",
          "Czech Republic",
          "Denmark",
          "Finland",
          "France",
          "Germany",
          "Greece",
          "Hungary",
          "Iceland",
          "Ireland",
          "Italy",
          "Montenegro",
          "Netherlands",
          "Norway",
          "Poland",
          "Portugal",
          "Romania",
          "Serbia",
          "Slovak Republic",
          "Slovenia",
          "Spain",
          "Sweden",
          "Switzerland",
          "Turkey",
          "United Kingdom"
         ],
         "legendgroup": "",
         "marker": {
          "color": "#636efa",
          "symbol": "circle"
         },
         "mode": "markers",
         "name": "",
         "orientation": "v",
         "showlegend": false,
         "type": "scatter",
         "x": [
          3630.880722,
          21597.08362,
          20979.84589,
          4126.613157,
          8224.191647,
          13221.82184,
          15377.22855,
          21688.04048,
          18533.15761,
          20293.89746,
          22031.53274,
          15268.42089,
          12545.99066,
          23269.6075,
          12618.32141,
          16537.4835,
          11222.58762,
          21399.46046,
          26298.63531,
          8451.531004,
          11753.84291,
          9605.314053,
          15181.0927,
          11348.54585,
          17866.72175,
          13926.16997,
          20667.38125,
          28397.71512,
          4241.356344,
          18232.42452
         ],
         "xaxis": "x4",
         "y": [
          70.42,
          73.18,
          73.93,
          70.69,
          71.08,
          70.46,
          70.96,
          74.63,
          74.55,
          74.89,
          73.8,
          75.24,
          69.39,
          76.99,
          73.1,
          74.98,
          74.101,
          76.05,
          75.97,
          71.32,
          72.77,
          69.66,
          70.16199999999999,
          70.8,
          71.063,
          76.3,
          76.42,
          76.21,
          61.036,
          74.04
         ],
         "yaxis": "y4"
        },
        {
         "hovertemplate": "<b>OLS trendline</b><br>lifeExp = 0.000356374 * gdpPercap + 67.2406<br>R<sup>2</sup>=0.510652<br><br>year=1982<br>gdpPercap=%{x}<br>lifeExp=%{y} <b>(trend)</b><extra></extra>",
         "legendgroup": "",
         "marker": {
          "color": "#636efa",
          "symbol": "circle"
         },
         "mode": "lines",
         "name": "",
         "showlegend": false,
         "type": "scatter",
         "x": [
          3630.880722,
          4126.613157,
          4241.356344,
          8224.191647,
          8451.531004,
          9605.314053,
          11222.58762,
          11348.54585,
          11753.84291,
          12545.99066,
          12618.32141,
          13221.82184,
          13926.16997,
          15181.0927,
          15268.42089,
          15377.22855,
          16537.4835,
          17866.72175,
          18232.42452,
          18533.15761,
          20293.89746,
          20667.38125,
          20979.84589,
          21399.46046,
          21597.08362,
          21688.04048,
          22031.53274,
          23269.6075,
          26298.63531,
          28397.71512
         ],
         "xaxis": "x4",
         "y": [
          68.53453524414759,
          68.71120155939887,
          68.75209308598917,
          70.17147335557698,
          70.25249126700893,
          70.66366993008394,
          71.24002471678492,
          71.28491299682992,
          71.42935046574877,
          71.71165159080445,
          71.73742841350087,
          71.95250047595461,
          72.20351207010464,
          72.6507343194097,
          72.68185584476412,
          72.7206321018862,
          73.13411718435525,
          73.60782357743916,
          73.73815065771802,
          73.84532421170272,
          74.47280669913685,
          74.60590673521858,
          74.71726111249494,
          74.8668009744724,
          74.93722879605626,
          74.96964348625708,
          75.09205531087682,
          75.53327337613175,
          76.61274113778092,
          77.36079930236531
         ],
         "yaxis": "y4"
        },
        {
         "hovertemplate": "<b>%{hovertext}</b><br><br>year=1987<br>gdpPercap=%{x}<br>lifeExp=%{y}<extra></extra>",
         "hovertext": [
          "Albania",
          "Austria",
          "Belgium",
          "Bosnia and Herzegovina",
          "Bulgaria",
          "Croatia",
          "Czech Republic",
          "Denmark",
          "Finland",
          "France",
          "Germany",
          "Greece",
          "Hungary",
          "Iceland",
          "Ireland",
          "Italy",
          "Montenegro",
          "Netherlands",
          "Norway",
          "Poland",
          "Portugal",
          "Romania",
          "Serbia",
          "Slovak Republic",
          "Slovenia",
          "Spain",
          "Sweden",
          "Switzerland",
          "Turkey",
          "United Kingdom"
         ],
         "legendgroup": "",
         "marker": {
          "color": "#636efa",
          "symbol": "circle"
         },
         "mode": "markers",
         "name": "",
         "orientation": "v",
         "showlegend": false,
         "type": "scatter",
         "x": [
          3738.932735,
          23687.82607,
          22525.56308,
          4314.114757,
          8239.854824,
          13822.58394,
          16310.4434,
          25116.17581,
          21141.01223,
          22066.44214,
          24639.18566,
          16120.52839,
          12986.47998,
          26923.20628,
          13872.86652,
          19207.23482,
          11732.51017,
          23651.32361,
          31540.9748,
          9082.351172,
          13039.30876,
          9696.273295,
          15870.87851,
          12037.26758,
          18678.53492,
          15764.98313,
          23586.92927,
          30281.70459,
          5089.043686,
          21664.78767
         ],
         "xaxis": "x5",
         "y": [
          72,
          74.94,
          75.35,
          71.14,
          71.34,
          71.52,
          71.58,
          74.8,
          74.83,
          76.34,
          74.847,
          76.67,
          69.58,
          77.23,
          74.36,
          76.42,
          74.865,
          76.83,
          75.89,
          70.98,
          74.06,
          69.53,
          71.218,
          71.08,
          72.25,
          76.9,
          77.19,
          77.41,
          63.108,
          75.007
         ],
         "yaxis": "y5"
        },
        {
         "hovertemplate": "<b>OLS trendline</b><br>lifeExp = 0.000308856 * gdpPercap + 68.3254<br>R<sup>2</sup>=0.531653<br><br>year=1987<br>gdpPercap=%{x}<br>lifeExp=%{y} <b>(trend)</b><extra></extra>",
         "legendgroup": "",
         "marker": {
          "color": "#636efa",
          "symbol": "circle"
         },
         "mode": "lines",
         "name": "",
         "showlegend": false,
         "type": "scatter",
         "x": [
          3738.932735,
          4314.114757,
          5089.043686,
          8239.854824,
          9082.351172,
          9696.273295,
          11732.51017,
          12037.26758,
          12986.47998,
          13039.30876,
          13822.58394,
          13872.86652,
          15764.98313,
          15870.87851,
          16120.52839,
          16310.4434,
          18678.53492,
          19207.23482,
          21141.01223,
          21664.78767,
          22066.44214,
          22525.56308,
          23586.92927,
          23651.32361,
          23687.82607,
          24639.18566,
          25116.17581,
          26923.20628,
          30281.70459,
          31540.9748
         ],
         "xaxis": "x5",
         "y": [
          69.48021124016094,
          69.65785983296315,
          69.89720151697456,
          70.8703493961536,
          71.13055970339299,
          71.32017342056353,
          71.94907801357897,
          72.0432042605091,
          72.33637449302796,
          72.3526909947048,
          72.59461047094305,
          72.61014056270149,
          73.19453270349787,
          73.22723915905753,
          73.3043450980106,
          73.36300154586202,
          74.09440153762816,
          74.25769383407908,
          74.85495317553881,
          75.01672452148041,
          75.1407780361228,
          75.28258043222937,
          75.61039006968242,
          75.6302786674617,
          75.6415526823036,
          75.93538608798744,
          76.08270750223014,
          76.64082025239917,
          77.67811362367925,
          78.06704716507606
         ],
         "yaxis": "y5"
        },
        {
         "hovertemplate": "<b>%{hovertext}</b><br><br>year=1992<br>gdpPercap=%{x}<br>lifeExp=%{y}<extra></extra>",
         "hovertext": [
          "Albania",
          "Austria",
          "Belgium",
          "Bosnia and Herzegovina",
          "Bulgaria",
          "Croatia",
          "Czech Republic",
          "Denmark",
          "Finland",
          "France",
          "Germany",
          "Greece",
          "Hungary",
          "Iceland",
          "Ireland",
          "Italy",
          "Montenegro",
          "Netherlands",
          "Norway",
          "Poland",
          "Portugal",
          "Romania",
          "Serbia",
          "Slovak Republic",
          "Slovenia",
          "Spain",
          "Sweden",
          "Switzerland",
          "Turkey",
          "United Kingdom"
         ],
         "legendgroup": "",
         "marker": {
          "color": "#636efa",
          "symbol": "circle"
         },
         "mode": "markers",
         "name": "",
         "orientation": "v",
         "showlegend": false,
         "type": "scatter",
         "x": [
          2497.437901,
          27042.01868,
          25575.57069,
          2546.781445,
          6302.623438000001,
          8447.794873,
          14297.02122,
          26406.73985,
          20647.16499,
          24703.79615,
          26505.30317,
          17541.49634,
          10535.62855,
          25144.39201,
          17558.81555,
          22013.64486,
          7003.339037000002,
          26790.94961,
          33965.66115,
          7738.881247,
          16207.26663,
          6598.409903,
          9325.068238,
          9498.467723,
          14214.71681,
          18603.06452,
          23880.01683,
          31871.5303,
          5678.348271,
          22705.09254
         ],
         "xaxis": "x6",
         "y": [
          71.581,
          76.04,
          76.46,
          72.178,
          71.19,
          72.527,
          72.4,
          75.33,
          75.7,
          77.46,
          76.07,
          77.03,
          69.17,
          78.77,
          75.467,
          77.44,
          75.435,
          77.42,
          77.32,
          70.99,
          74.86,
          69.36,
          71.65899999999998,
          71.38,
          73.64,
          77.57,
          78.16,
          78.03,
          66.146,
          76.42
         ],
         "yaxis": "y6"
        },
        {
         "hovertemplate": "<b>OLS trendline</b><br>lifeExp = 0.000286927 * gdpPercap + 69.5447<br>R<sup>2</sup>=0.663146<br><br>year=1992<br>gdpPercap=%{x}<br>lifeExp=%{y} <b>(trend)</b><extra></extra>",
         "legendgroup": "",
         "marker": {
          "color": "#636efa",
          "symbol": "circle"
         },
         "mode": "lines",
         "name": "",
         "showlegend": false,
         "type": "scatter",
         "x": [
          2497.437901,
          2546.781445,
          5678.348271,
          6302.623438000001,
          6598.409903,
          7003.339037000002,
          7738.881247,
          8447.794873,
          9325.068238,
          9498.467723,
          10535.62855,
          14214.71681,
          14297.02122,
          16207.26663,
          17541.49634,
          17558.81555,
          18603.06452,
          20647.16499,
          22013.64486,
          22705.09254,
          23880.01683,
          24703.79615,
          25144.39201,
          25575.57069,
          26406.73985,
          26505.30317,
          26790.94961,
          27042.01868,
          31871.5303,
          33965.66115
         ],
         "xaxis": "x6",
         "y": [
          70.26126212248154,
          70.2754201029503,
          71.17395025228694,
          71.35307146866161,
          71.43794050430269,
          71.55412548628135,
          71.76517218862456,
          71.96857843911489,
          72.22029159468865,
          72.2700445374834,
          72.56763367562125,
          73.62326234566405,
          73.64687767879198,
          74.1949780990884,
          74.57780423283788,
          74.5827735766879,
          74.88239649233783,
          75.46890350388203,
          75.86098306976022,
          76.05937787392362,
          76.39649502850193,
          76.63285931403293,
          76.75927803216342,
          76.88299470987074,
          77.12147933783979,
          77.14975978643294,
          77.23171937811712,
          77.30375779897658,
          78.68947365249537,
          79.29033571609834
         ],
         "yaxis": "y6"
        },
        {
         "hovertemplate": "<b>%{hovertext}</b><br><br>year=1997<br>gdpPercap=%{x}<br>lifeExp=%{y}<extra></extra>",
         "hovertext": [
          "Albania",
          "Austria",
          "Belgium",
          "Bosnia and Herzegovina",
          "Bulgaria",
          "Croatia",
          "Czech Republic",
          "Denmark",
          "Finland",
          "France",
          "Germany",
          "Greece",
          "Hungary",
          "Iceland",
          "Ireland",
          "Italy",
          "Montenegro",
          "Netherlands",
          "Norway",
          "Poland",
          "Portugal",
          "Romania",
          "Serbia",
          "Slovak Republic",
          "Slovenia",
          "Spain",
          "Sweden",
          "Switzerland",
          "Turkey",
          "United Kingdom"
         ],
         "legendgroup": "",
         "marker": {
          "color": "#636efa",
          "symbol": "circle"
         },
         "mode": "markers",
         "name": "",
         "orientation": "v",
         "showlegend": false,
         "type": "scatter",
         "x": [
          3193.054604,
          29095.92066,
          27561.19663,
          4766.355904,
          5970.38876,
          9875.604515,
          16048.51424,
          29804.34567,
          23723.9502,
          25889.78487,
          27788.88416,
          18747.69814,
          11712.7768,
          28061.09966,
          24521.94713,
          24675.02446,
          6465.613349,
          30246.13063,
          41283.16433,
          10159.58368,
          17641.03156,
          7346.547556999999,
          7914.320304000002,
          12126.23065,
          17161.10735,
          20445.29896,
          25266.59499,
          32135.32301,
          6601.429915,
          26074.53136
         ],
         "xaxis": "x",
         "y": [
          72.95,
          77.51,
          77.53,
          73.244,
          70.32,
          73.68,
          74.01,
          76.11,
          77.13,
          78.64,
          77.34,
          77.869,
          71.04,
          78.95,
          76.122,
          78.82,
          75.445,
          78.03,
          78.32,
          72.75,
          75.97,
          69.72,
          72.232,
          72.71,
          75.13,
          78.77,
          79.39,
          79.37,
          68.835,
          77.218
         ],
         "yaxis": "y"
        },
        {
         "hovertemplate": "<b>OLS trendline</b><br>lifeExp = 0.000255246 * gdpPercap + 70.6359<br>R<sup>2</sup>=0.684783<br><br>year=1997<br>gdpPercap=%{x}<br>lifeExp=%{y} <b>(trend)</b><extra></extra>",
         "legendgroup": "",
         "marker": {
          "color": "#636efa",
          "symbol": "circle"
         },
         "mode": "lines",
         "name": "",
         "showlegend": false,
         "type": "scatter",
         "x": [
          3193.054604,
          4766.355904,
          5970.38876,
          6465.613349,
          6601.429915,
          7346.547556999999,
          7914.320304000002,
          9875.604515,
          10159.58368,
          11712.7768,
          12126.23065,
          16048.51424,
          17161.10735,
          17641.03156,
          18747.69814,
          20445.29896,
          23723.9502,
          24521.94713,
          24675.02446,
          25266.59499,
          25889.78487,
          26074.53136,
          27561.19663,
          27788.88416,
          28061.09966,
          29095.92066,
          29804.34567,
          30246.13063,
          32135.32301,
          41283.16433
         ],
         "xaxis": "x",
         "y": [
          71.45090665786852,
          71.85248573707506,
          72.15981047242417,
          72.28621463572782,
          72.32088128954376,
          72.51106968929588,
          72.65599148967755,
          73.15660170814982,
          73.22908629301257,
          73.62553283695145,
          73.73106533500341,
          74.73221306968026,
          75.01619816309201,
          75.13869696376085,
          75.42116933328413,
          75.85447538480513,
          76.69133844847805,
          76.89502408222096,
          76.93409647937006,
          77.08509257193232,
          77.24415938143743,
          77.29131520933946,
          77.67078077656103,
          77.72889713904304,
          77.79837909385725,
          78.06251315662297,
          78.24333590379969,
          78.35609980823686,
          78.8383088653351,
          81.1732600244126
         ],
         "yaxis": "y"
        },
        {
         "hovertemplate": "<b>%{hovertext}</b><br><br>year=2002<br>gdpPercap=%{x}<br>lifeExp=%{y}<extra></extra>",
         "hovertext": [
          "Albania",
          "Austria",
          "Belgium",
          "Bosnia and Herzegovina",
          "Bulgaria",
          "Croatia",
          "Czech Republic",
          "Denmark",
          "Finland",
          "France",
          "Germany",
          "Greece",
          "Hungary",
          "Iceland",
          "Ireland",
          "Italy",
          "Montenegro",
          "Netherlands",
          "Norway",
          "Poland",
          "Portugal",
          "Romania",
          "Serbia",
          "Slovak Republic",
          "Slovenia",
          "Spain",
          "Sweden",
          "Switzerland",
          "Turkey",
          "United Kingdom"
         ],
         "legendgroup": "",
         "marker": {
          "color": "#636efa",
          "symbol": "circle"
         },
         "mode": "markers",
         "name": "",
         "orientation": "v",
         "showlegend": false,
         "type": "scatter",
         "x": [
          4604.211737,
          32417.60769,
          30485.88375,
          6018.975239,
          7696.777725,
          11628.38895,
          17596.21021999999,
          32166.50006,
          28204.59057,
          28926.03234,
          30035.80198,
          22514.2548,
          14843.93556,
          31163.20196,
          34077.04939,
          27968.09817,
          6557.194282,
          33724.75778,
          44683.97525,
          12002.23908,
          19970.90787,
          7885.360081,
          7236.075251,
          13638.77837,
          20660.01936,
          24835.47166,
          29341.63093000001,
          34480.95771,
          6508.085718,
          29478.99919
         ],
         "xaxis": "x2",
         "y": [
          75.65100000000002,
          78.98,
          78.32,
          74.09,
          72.14,
          74.876,
          75.51,
          77.18,
          78.37,
          79.59,
          78.67,
          78.256,
          72.59,
          80.5,
          77.783,
          80.24,
          73.98100000000002,
          78.53,
          79.05,
          74.67,
          77.29,
          71.322,
          73.21300000000002,
          73.8,
          76.66,
          79.78,
          80.04,
          80.62,
          70.845,
          78.471
         ],
         "yaxis": "y2"
        },
        {
         "hovertemplate": "<b>OLS trendline</b><br>lifeExp = 0.000223002 * gdpPercap + 71.8588<br>R<sup>2</sup>=0.730185<br><br>year=2002<br>gdpPercap=%{x}<br>lifeExp=%{y} <b>(trend)</b><extra></extra>",
         "legendgroup": "",
         "marker": {
          "color": "#636efa",
          "symbol": "circle"
         },
         "mode": "lines",
         "name": "",
         "showlegend": false,
         "type": "scatter",
         "x": [
          4604.211737,
          6018.975239,
          6508.085718,
          6557.194282,
          7236.075251,
          7696.777725,
          7885.360081,
          11628.38895,
          12002.23908,
          13638.77837,
          14843.93556,
          17596.21021999999,
          19970.90787,
          20660.01936,
          22514.2548,
          24835.47166,
          27968.09817,
          28204.59057,
          28926.03234,
          29341.63093000001,
          29478.99919,
          30035.80198,
          30485.88375,
          31163.20196,
          32166.50006,
          32417.60769,
          33724.75778,
          34077.04939,
          34480.95771,
          44683.97525
         ],
         "xaxis": "x2",
         "y": [
          72.8855952958741,
          73.20108983857259,
          73.31016226423453,
          73.32111355320959,
          73.47250510420632,
          73.5752424989364,
          73.61729666847295,
          74.45199814307486,
          74.53536732501614,
          74.90031822612204,
          75.16907022318821,
          75.7828319112794,
          76.31239331717853,
          76.46606629085822,
          76.87956378451784,
          77.39719888799233,
          78.09577965207087,
          78.14851783868947,
          78.30940051695192,
          78.40207967280577,
          78.43271301633543,
          78.55688093652559,
          78.65724989713443,
          78.80829295035373,
          79.03203004478844,
          79.08802745126872,
          79.37952402953061,
          79.45808562674198,
          79.54815783353158,
          81.82344720053622
         ],
         "yaxis": "y2"
        },
        {
         "hovertemplate": "<b>%{hovertext}</b><br><br>year=2007<br>gdpPercap=%{x}<br>lifeExp=%{y}<extra></extra>",
         "hovertext": [
          "Albania",
          "Austria",
          "Belgium",
          "Bosnia and Herzegovina",
          "Bulgaria",
          "Croatia",
          "Czech Republic",
          "Denmark",
          "Finland",
          "France",
          "Germany",
          "Greece",
          "Hungary",
          "Iceland",
          "Ireland",
          "Italy",
          "Montenegro",
          "Netherlands",
          "Norway",
          "Poland",
          "Portugal",
          "Romania",
          "Serbia",
          "Slovak Republic",
          "Slovenia",
          "Spain",
          "Sweden",
          "Switzerland",
          "Turkey",
          "United Kingdom"
         ],
         "legendgroup": "",
         "marker": {
          "color": "#636efa",
          "symbol": "circle"
         },
         "mode": "markers",
         "name": "",
         "orientation": "v",
         "showlegend": false,
         "type": "scatter",
         "x": [
          5937.029525999998,
          36126.4927,
          33692.60508,
          7446.298803,
          10680.79282,
          14619.22272,
          22833.30851,
          35278.41874,
          33207.0844,
          30470.0167,
          32170.37442,
          27538.41188,
          18008.94444,
          36180.78919,
          40675.99635,
          28569.7197,
          9253.896111,
          36797.93332,
          49357.19017,
          15389.92468,
          20509.64777,
          10808.47561,
          9786.534714,
          18678.31435,
          25768.25759,
          28821.0637,
          33859.74835,
          37506.41907,
          8458.276384,
          33203.26128
         ],
         "xaxis": "x3",
         "y": [
          76.423,
          79.829,
          79.441,
          74.852,
          73.005,
          75.748,
          76.486,
          78.332,
          79.313,
          80.657,
          79.406,
          79.483,
          73.33800000000002,
          81.757,
          78.885,
          80.546,
          74.543,
          79.762,
          80.196,
          75.563,
          78.098,
          72.476,
          74.002,
          74.663,
          77.926,
          80.941,
          80.884,
          81.70100000000002,
          71.777,
          79.425
         ],
         "yaxis": "y3"
        },
        {
         "hovertemplate": "<b>OLS trendline</b><br>lifeExp = 0.000214634 * gdpPercap + 72.2711<br>R<sup>2</sup>=0.722451<br><br>year=2007<br>gdpPercap=%{x}<br>lifeExp=%{y} <b>(trend)</b><extra></extra>",
         "legendgroup": "",
         "marker": {
          "color": "#636efa",
          "symbol": "circle"
         },
         "mode": "lines",
         "name": "",
         "showlegend": false,
         "type": "scatter",
         "x": [
          5937.029525999998,
          7446.298803,
          8458.276384,
          9253.896111,
          9786.534714,
          10680.79282,
          10808.47561,
          14619.22272,
          15389.92468,
          18008.94444,
          18678.31435,
          20509.64777,
          22833.30851,
          25768.25759,
          27538.41188,
          28569.7197,
          28821.0637,
          30470.0167,
          32170.37442,
          33203.26128,
          33207.0844,
          33692.60508,
          33859.74835,
          35278.41874,
          36126.4927,
          36180.78919,
          36797.93332,
          37506.41907,
          40675.99635,
          49357.19017
         ],
         "xaxis": "x3",
         "y": [
          73.54534412490418,
          73.86928467892466,
          74.08648950992543,
          74.25725658183343,
          74.3715789541085,
          74.56351717925463,
          74.5909222516044,
          75.40883827815938,
          75.57425714920626,
          76.13638792664538,
          76.28005749097989,
          76.6731239713698,
          77.17186065072994,
          77.80180061272725,
          78.18173596962005,
          78.40308972780463,
          78.45703670456385,
          78.81095813960127,
          79.17591277708297,
          79.39760545099332,
          79.39842602266317,
          79.50263528502903,
          79.53850991940323,
          79.84300486878863,
          80.02503040435033,
          80.03668427905646,
          80.16914441352634,
          80.32120956841163,
          81.00150872757483,
          82.86478838115647
         ],
         "yaxis": "y3"
        }
       ],
       "layout": {
        "annotations": [
         {
          "font": {},
          "showarrow": false,
          "text": "year=1997",
          "x": 0.15999999999999998,
          "xanchor": "center",
          "xref": "paper",
          "y": 0.1975,
          "yanchor": "bottom",
          "yref": "paper"
         },
         {
          "font": {},
          "showarrow": false,
          "text": "year=2002",
          "x": 0.49999999999999994,
          "xanchor": "center",
          "xref": "paper",
          "y": 0.1975,
          "yanchor": "bottom",
          "yref": "paper"
         },
         {
          "font": {},
          "showarrow": false,
          "text": "year=2007",
          "x": 0.8399999999999999,
          "xanchor": "center",
          "xref": "paper",
          "y": 0.1975,
          "yanchor": "bottom",
          "yref": "paper"
         },
         {
          "font": {},
          "showarrow": false,
          "text": "year=1982",
          "x": 0.15999999999999998,
          "xanchor": "center",
          "xref": "paper",
          "y": 0.465,
          "yanchor": "bottom",
          "yref": "paper"
         },
         {
          "font": {},
          "showarrow": false,
          "text": "year=1987",
          "x": 0.49999999999999994,
          "xanchor": "center",
          "xref": "paper",
          "y": 0.465,
          "yanchor": "bottom",
          "yref": "paper"
         },
         {
          "font": {},
          "showarrow": false,
          "text": "year=1992",
          "x": 0.8399999999999999,
          "xanchor": "center",
          "xref": "paper",
          "y": 0.465,
          "yanchor": "bottom",
          "yref": "paper"
         },
         {
          "font": {},
          "showarrow": false,
          "text": "year=1967",
          "x": 0.15999999999999998,
          "xanchor": "center",
          "xref": "paper",
          "y": 0.7325,
          "yanchor": "bottom",
          "yref": "paper"
         },
         {
          "font": {},
          "showarrow": false,
          "text": "year=1972",
          "x": 0.49999999999999994,
          "xanchor": "center",
          "xref": "paper",
          "y": 0.7325,
          "yanchor": "bottom",
          "yref": "paper"
         },
         {
          "font": {},
          "showarrow": false,
          "text": "year=1977",
          "x": 0.8399999999999999,
          "xanchor": "center",
          "xref": "paper",
          "y": 0.7325,
          "yanchor": "bottom",
          "yref": "paper"
         },
         {
          "font": {},
          "showarrow": false,
          "text": "year=1952",
          "x": 0.15999999999999998,
          "xanchor": "center",
          "xref": "paper",
          "y": 1,
          "yanchor": "bottom",
          "yref": "paper"
         },
         {
          "font": {},
          "showarrow": false,
          "text": "year=1957",
          "x": 0.49999999999999994,
          "xanchor": "center",
          "xref": "paper",
          "y": 1,
          "yanchor": "bottom",
          "yref": "paper"
         },
         {
          "font": {},
          "showarrow": false,
          "text": "year=1962",
          "x": 0.8399999999999999,
          "xanchor": "center",
          "xref": "paper",
          "y": 1,
          "yanchor": "bottom",
          "yref": "paper"
         }
        ],
        "height": 1000,
        "legend": {
         "tracegroupgap": 0
        },
        "margin": {
         "t": 60
        },
        "template": {
         "data": {
          "bar": [
           {
            "error_x": {
             "color": "#2a3f5f"
            },
            "error_y": {
             "color": "#2a3f5f"
            },
            "marker": {
             "line": {
              "color": "#E5ECF6",
              "width": 0.5
             },
             "pattern": {
              "fillmode": "overlay",
              "size": 10,
              "solidity": 0.2
             }
            },
            "type": "bar"
           }
          ],
          "barpolar": [
           {
            "marker": {
             "line": {
              "color": "#E5ECF6",
              "width": 0.5
             },
             "pattern": {
              "fillmode": "overlay",
              "size": 10,
              "solidity": 0.2
             }
            },
            "type": "barpolar"
           }
          ],
          "carpet": [
           {
            "aaxis": {
             "endlinecolor": "#2a3f5f",
             "gridcolor": "white",
             "linecolor": "white",
             "minorgridcolor": "white",
             "startlinecolor": "#2a3f5f"
            },
            "baxis": {
             "endlinecolor": "#2a3f5f",
             "gridcolor": "white",
             "linecolor": "white",
             "minorgridcolor": "white",
             "startlinecolor": "#2a3f5f"
            },
            "type": "carpet"
           }
          ],
          "choropleth": [
           {
            "colorbar": {
             "outlinewidth": 0,
             "ticks": ""
            },
            "type": "choropleth"
           }
          ],
          "contour": [
           {
            "colorbar": {
             "outlinewidth": 0,
             "ticks": ""
            },
            "colorscale": [
             [
              0,
              "#0d0887"
             ],
             [
              0.1111111111111111,
              "#46039f"
             ],
             [
              0.2222222222222222,
              "#7201a8"
             ],
             [
              0.3333333333333333,
              "#9c179e"
             ],
             [
              0.4444444444444444,
              "#bd3786"
             ],
             [
              0.5555555555555556,
              "#d8576b"
             ],
             [
              0.6666666666666666,
              "#ed7953"
             ],
             [
              0.7777777777777778,
              "#fb9f3a"
             ],
             [
              0.8888888888888888,
              "#fdca26"
             ],
             [
              1,
              "#f0f921"
             ]
            ],
            "type": "contour"
           }
          ],
          "contourcarpet": [
           {
            "colorbar": {
             "outlinewidth": 0,
             "ticks": ""
            },
            "type": "contourcarpet"
           }
          ],
          "heatmap": [
           {
            "colorbar": {
             "outlinewidth": 0,
             "ticks": ""
            },
            "colorscale": [
             [
              0,
              "#0d0887"
             ],
             [
              0.1111111111111111,
              "#46039f"
             ],
             [
              0.2222222222222222,
              "#7201a8"
             ],
             [
              0.3333333333333333,
              "#9c179e"
             ],
             [
              0.4444444444444444,
              "#bd3786"
             ],
             [
              0.5555555555555556,
              "#d8576b"
             ],
             [
              0.6666666666666666,
              "#ed7953"
             ],
             [
              0.7777777777777778,
              "#fb9f3a"
             ],
             [
              0.8888888888888888,
              "#fdca26"
             ],
             [
              1,
              "#f0f921"
             ]
            ],
            "type": "heatmap"
           }
          ],
          "heatmapgl": [
           {
            "colorbar": {
             "outlinewidth": 0,
             "ticks": ""
            },
            "colorscale": [
             [
              0,
              "#0d0887"
             ],
             [
              0.1111111111111111,
              "#46039f"
             ],
             [
              0.2222222222222222,
              "#7201a8"
             ],
             [
              0.3333333333333333,
              "#9c179e"
             ],
             [
              0.4444444444444444,
              "#bd3786"
             ],
             [
              0.5555555555555556,
              "#d8576b"
             ],
             [
              0.6666666666666666,
              "#ed7953"
             ],
             [
              0.7777777777777778,
              "#fb9f3a"
             ],
             [
              0.8888888888888888,
              "#fdca26"
             ],
             [
              1,
              "#f0f921"
             ]
            ],
            "type": "heatmapgl"
           }
          ],
          "histogram": [
           {
            "marker": {
             "pattern": {
              "fillmode": "overlay",
              "size": 10,
              "solidity": 0.2
             }
            },
            "type": "histogram"
           }
          ],
          "histogram2d": [
           {
            "colorbar": {
             "outlinewidth": 0,
             "ticks": ""
            },
            "colorscale": [
             [
              0,
              "#0d0887"
             ],
             [
              0.1111111111111111,
              "#46039f"
             ],
             [
              0.2222222222222222,
              "#7201a8"
             ],
             [
              0.3333333333333333,
              "#9c179e"
             ],
             [
              0.4444444444444444,
              "#bd3786"
             ],
             [
              0.5555555555555556,
              "#d8576b"
             ],
             [
              0.6666666666666666,
              "#ed7953"
             ],
             [
              0.7777777777777778,
              "#fb9f3a"
             ],
             [
              0.8888888888888888,
              "#fdca26"
             ],
             [
              1,
              "#f0f921"
             ]
            ],
            "type": "histogram2d"
           }
          ],
          "histogram2dcontour": [
           {
            "colorbar": {
             "outlinewidth": 0,
             "ticks": ""
            },
            "colorscale": [
             [
              0,
              "#0d0887"
             ],
             [
              0.1111111111111111,
              "#46039f"
             ],
             [
              0.2222222222222222,
              "#7201a8"
             ],
             [
              0.3333333333333333,
              "#9c179e"
             ],
             [
              0.4444444444444444,
              "#bd3786"
             ],
             [
              0.5555555555555556,
              "#d8576b"
             ],
             [
              0.6666666666666666,
              "#ed7953"
             ],
             [
              0.7777777777777778,
              "#fb9f3a"
             ],
             [
              0.8888888888888888,
              "#fdca26"
             ],
             [
              1,
              "#f0f921"
             ]
            ],
            "type": "histogram2dcontour"
           }
          ],
          "mesh3d": [
           {
            "colorbar": {
             "outlinewidth": 0,
             "ticks": ""
            },
            "type": "mesh3d"
           }
          ],
          "parcoords": [
           {
            "line": {
             "colorbar": {
              "outlinewidth": 0,
              "ticks": ""
             }
            },
            "type": "parcoords"
           }
          ],
          "pie": [
           {
            "automargin": true,
            "type": "pie"
           }
          ],
          "scatter": [
           {
            "fillpattern": {
             "fillmode": "overlay",
             "size": 10,
             "solidity": 0.2
            },
            "type": "scatter"
           }
          ],
          "scatter3d": [
           {
            "line": {
             "colorbar": {
              "outlinewidth": 0,
              "ticks": ""
             }
            },
            "marker": {
             "colorbar": {
              "outlinewidth": 0,
              "ticks": ""
             }
            },
            "type": "scatter3d"
           }
          ],
          "scattercarpet": [
           {
            "marker": {
             "colorbar": {
              "outlinewidth": 0,
              "ticks": ""
             }
            },
            "type": "scattercarpet"
           }
          ],
          "scattergeo": [
           {
            "marker": {
             "colorbar": {
              "outlinewidth": 0,
              "ticks": ""
             }
            },
            "type": "scattergeo"
           }
          ],
          "scattergl": [
           {
            "marker": {
             "colorbar": {
              "outlinewidth": 0,
              "ticks": ""
             }
            },
            "type": "scattergl"
           }
          ],
          "scattermapbox": [
           {
            "marker": {
             "colorbar": {
              "outlinewidth": 0,
              "ticks": ""
             }
            },
            "type": "scattermapbox"
           }
          ],
          "scatterpolar": [
           {
            "marker": {
             "colorbar": {
              "outlinewidth": 0,
              "ticks": ""
             }
            },
            "type": "scatterpolar"
           }
          ],
          "scatterpolargl": [
           {
            "marker": {
             "colorbar": {
              "outlinewidth": 0,
              "ticks": ""
             }
            },
            "type": "scatterpolargl"
           }
          ],
          "scatterternary": [
           {
            "marker": {
             "colorbar": {
              "outlinewidth": 0,
              "ticks": ""
             }
            },
            "type": "scatterternary"
           }
          ],
          "surface": [
           {
            "colorbar": {
             "outlinewidth": 0,
             "ticks": ""
            },
            "colorscale": [
             [
              0,
              "#0d0887"
             ],
             [
              0.1111111111111111,
              "#46039f"
             ],
             [
              0.2222222222222222,
              "#7201a8"
             ],
             [
              0.3333333333333333,
              "#9c179e"
             ],
             [
              0.4444444444444444,
              "#bd3786"
             ],
             [
              0.5555555555555556,
              "#d8576b"
             ],
             [
              0.6666666666666666,
              "#ed7953"
             ],
             [
              0.7777777777777778,
              "#fb9f3a"
             ],
             [
              0.8888888888888888,
              "#fdca26"
             ],
             [
              1,
              "#f0f921"
             ]
            ],
            "type": "surface"
           }
          ],
          "table": [
           {
            "cells": {
             "fill": {
              "color": "#EBF0F8"
             },
             "line": {
              "color": "white"
             }
            },
            "header": {
             "fill": {
              "color": "#C8D4E3"
             },
             "line": {
              "color": "white"
             }
            },
            "type": "table"
           }
          ]
         },
         "layout": {
          "annotationdefaults": {
           "arrowcolor": "#2a3f5f",
           "arrowhead": 0,
           "arrowwidth": 1
          },
          "autotypenumbers": "strict",
          "coloraxis": {
           "colorbar": {
            "outlinewidth": 0,
            "ticks": ""
           }
          },
          "colorscale": {
           "diverging": [
            [
             0,
             "#8e0152"
            ],
            [
             0.1,
             "#c51b7d"
            ],
            [
             0.2,
             "#de77ae"
            ],
            [
             0.3,
             "#f1b6da"
            ],
            [
             0.4,
             "#fde0ef"
            ],
            [
             0.5,
             "#f7f7f7"
            ],
            [
             0.6,
             "#e6f5d0"
            ],
            [
             0.7,
             "#b8e186"
            ],
            [
             0.8,
             "#7fbc41"
            ],
            [
             0.9,
             "#4d9221"
            ],
            [
             1,
             "#276419"
            ]
           ],
           "sequential": [
            [
             0,
             "#0d0887"
            ],
            [
             0.1111111111111111,
             "#46039f"
            ],
            [
             0.2222222222222222,
             "#7201a8"
            ],
            [
             0.3333333333333333,
             "#9c179e"
            ],
            [
             0.4444444444444444,
             "#bd3786"
            ],
            [
             0.5555555555555556,
             "#d8576b"
            ],
            [
             0.6666666666666666,
             "#ed7953"
            ],
            [
             0.7777777777777778,
             "#fb9f3a"
            ],
            [
             0.8888888888888888,
             "#fdca26"
            ],
            [
             1,
             "#f0f921"
            ]
           ],
           "sequentialminus": [
            [
             0,
             "#0d0887"
            ],
            [
             0.1111111111111111,
             "#46039f"
            ],
            [
             0.2222222222222222,
             "#7201a8"
            ],
            [
             0.3333333333333333,
             "#9c179e"
            ],
            [
             0.4444444444444444,
             "#bd3786"
            ],
            [
             0.5555555555555556,
             "#d8576b"
            ],
            [
             0.6666666666666666,
             "#ed7953"
            ],
            [
             0.7777777777777778,
             "#fb9f3a"
            ],
            [
             0.8888888888888888,
             "#fdca26"
            ],
            [
             1,
             "#f0f921"
            ]
           ]
          },
          "colorway": [
           "#636efa",
           "#EF553B",
           "#00cc96",
           "#ab63fa",
           "#FFA15A",
           "#19d3f3",
           "#FF6692",
           "#B6E880",
           "#FF97FF",
           "#FECB52"
          ],
          "font": {
           "color": "#2a3f5f"
          },
          "geo": {
           "bgcolor": "white",
           "lakecolor": "white",
           "landcolor": "#E5ECF6",
           "showlakes": true,
           "showland": true,
           "subunitcolor": "white"
          },
          "hoverlabel": {
           "align": "left"
          },
          "hovermode": "closest",
          "mapbox": {
           "style": "light"
          },
          "paper_bgcolor": "white",
          "plot_bgcolor": "#E5ECF6",
          "polar": {
           "angularaxis": {
            "gridcolor": "white",
            "linecolor": "white",
            "ticks": ""
           },
           "bgcolor": "#E5ECF6",
           "radialaxis": {
            "gridcolor": "white",
            "linecolor": "white",
            "ticks": ""
           }
          },
          "scene": {
           "xaxis": {
            "backgroundcolor": "#E5ECF6",
            "gridcolor": "white",
            "gridwidth": 2,
            "linecolor": "white",
            "showbackground": true,
            "ticks": "",
            "zerolinecolor": "white"
           },
           "yaxis": {
            "backgroundcolor": "#E5ECF6",
            "gridcolor": "white",
            "gridwidth": 2,
            "linecolor": "white",
            "showbackground": true,
            "ticks": "",
            "zerolinecolor": "white"
           },
           "zaxis": {
            "backgroundcolor": "#E5ECF6",
            "gridcolor": "white",
            "gridwidth": 2,
            "linecolor": "white",
            "showbackground": true,
            "ticks": "",
            "zerolinecolor": "white"
           }
          },
          "shapedefaults": {
           "line": {
            "color": "#2a3f5f"
           }
          },
          "ternary": {
           "aaxis": {
            "gridcolor": "white",
            "linecolor": "white",
            "ticks": ""
           },
           "baxis": {
            "gridcolor": "white",
            "linecolor": "white",
            "ticks": ""
           },
           "bgcolor": "#E5ECF6",
           "caxis": {
            "gridcolor": "white",
            "linecolor": "white",
            "ticks": ""
           }
          },
          "title": {
           "x": 0.05
          },
          "xaxis": {
           "automargin": true,
           "gridcolor": "white",
           "linecolor": "white",
           "ticks": "",
           "title": {
            "standoff": 15
           },
           "zerolinecolor": "white",
           "zerolinewidth": 2
          },
          "yaxis": {
           "automargin": true,
           "gridcolor": "white",
           "linecolor": "white",
           "ticks": "",
           "title": {
            "standoff": 15
           },
           "zerolinecolor": "white",
           "zerolinewidth": 2
          }
         }
        },
        "xaxis": {
         "anchor": "y",
         "domain": [
          0,
          0.31999999999999995
         ],
         "title": {
          "text": "gdpPercap"
         }
        },
        "xaxis10": {
         "anchor": "y10",
         "domain": [
          0,
          0.31999999999999995
         ],
         "showticklabels": false
        },
        "xaxis11": {
         "anchor": "y11",
         "domain": [
          0.33999999999999997,
          0.6599999999999999
         ],
         "showticklabels": false
        },
        "xaxis12": {
         "anchor": "y12",
         "domain": [
          0.6799999999999999,
          0.9999999999999999
         ],
         "showticklabels": false
        },
        "xaxis2": {
         "anchor": "y2",
         "domain": [
          0.33999999999999997,
          0.6599999999999999
         ],
         "title": {
          "text": "gdpPercap"
         }
        },
        "xaxis3": {
         "anchor": "y3",
         "domain": [
          0.6799999999999999,
          0.9999999999999999
         ],
         "title": {
          "text": "gdpPercap"
         }
        },
        "xaxis4": {
         "anchor": "y4",
         "domain": [
          0,
          0.31999999999999995
         ],
         "showticklabels": false
        },
        "xaxis5": {
         "anchor": "y5",
         "domain": [
          0.33999999999999997,
          0.6599999999999999
         ],
         "showticklabels": false
        },
        "xaxis6": {
         "anchor": "y6",
         "domain": [
          0.6799999999999999,
          0.9999999999999999
         ],
         "showticklabels": false
        },
        "xaxis7": {
         "anchor": "y7",
         "domain": [
          0,
          0.31999999999999995
         ],
         "showticklabels": false
        },
        "xaxis8": {
         "anchor": "y8",
         "domain": [
          0.33999999999999997,
          0.6599999999999999
         ],
         "showticklabels": false
        },
        "xaxis9": {
         "anchor": "y9",
         "domain": [
          0.6799999999999999,
          0.9999999999999999
         ],
         "showticklabels": false
        },
        "yaxis": {
         "anchor": "x",
         "domain": [
          0,
          0.1975
         ],
         "title": {
          "text": "lifeExp"
         }
        },
        "yaxis10": {
         "anchor": "x10",
         "domain": [
          0.8025,
          1
         ],
         "title": {
          "text": "lifeExp"
         }
        },
        "yaxis11": {
         "anchor": "x11",
         "domain": [
          0.8025,
          1
         ],
         "showticklabels": false
        },
        "yaxis12": {
         "anchor": "x12",
         "domain": [
          0.8025,
          1
         ],
         "showticklabels": false
        },
        "yaxis2": {
         "anchor": "x2",
         "domain": [
          0,
          0.1975
         ],
         "showticklabels": false
        },
        "yaxis3": {
         "anchor": "x3",
         "domain": [
          0,
          0.1975
         ],
         "showticklabels": false
        },
        "yaxis4": {
         "anchor": "x4",
         "domain": [
          0.2675,
          0.465
         ],
         "title": {
          "text": "lifeExp"
         }
        },
        "yaxis5": {
         "anchor": "x5",
         "domain": [
          0.2675,
          0.465
         ],
         "showticklabels": false
        },
        "yaxis6": {
         "anchor": "x6",
         "domain": [
          0.2675,
          0.465
         ],
         "showticklabels": false
        },
        "yaxis7": {
         "anchor": "x7",
         "domain": [
          0.535,
          0.7325
         ],
         "title": {
          "text": "lifeExp"
         }
        },
        "yaxis8": {
         "anchor": "x8",
         "domain": [
          0.535,
          0.7325
         ],
         "showticklabels": false
        },
        "yaxis9": {
         "anchor": "x9",
         "domain": [
          0.535,
          0.7325
         ],
         "showticklabels": false
        }
       }
      },
      "text/html": [
       "<div>                            <div id=\"aea64832-1d63-46d0-a2f4-5c98b1a0d9ba\" class=\"plotly-graph-div\" style=\"height:1000px; width:100%;\"></div>            <script type=\"text/javascript\">                require([\"plotly\"], function(Plotly) {                    window.PLOTLYENV=window.PLOTLYENV || {};                                    if (document.getElementById(\"aea64832-1d63-46d0-a2f4-5c98b1a0d9ba\")) {                    Plotly.newPlot(                        \"aea64832-1d63-46d0-a2f4-5c98b1a0d9ba\",                        [{\"hovertemplate\":\"\\u003cb\\u003e%{hovertext}\\u003c\\u002fb\\u003e\\u003cbr\\u003e\\u003cbr\\u003eyear=1952\\u003cbr\\u003egdpPercap=%{x}\\u003cbr\\u003elifeExp=%{y}\\u003cextra\\u003e\\u003c\\u002fextra\\u003e\",\"hovertext\":[\"Albania\",\"Austria\",\"Belgium\",\"Bosnia and Herzegovina\",\"Bulgaria\",\"Croatia\",\"Czech Republic\",\"Denmark\",\"Finland\",\"France\",\"Germany\",\"Greece\",\"Hungary\",\"Iceland\",\"Ireland\",\"Italy\",\"Montenegro\",\"Netherlands\",\"Norway\",\"Poland\",\"Portugal\",\"Romania\",\"Serbia\",\"Slovak Republic\",\"Slovenia\",\"Spain\",\"Sweden\",\"Switzerland\",\"Turkey\",\"United Kingdom\"],\"legendgroup\":\"\",\"marker\":{\"color\":\"#636efa\",\"symbol\":\"circle\"},\"mode\":\"markers\",\"name\":\"\",\"orientation\":\"v\",\"showlegend\":false,\"x\":[1601.056136,6137.076492,8343.105126999999,973.5331948,2444.286648,3119.23652,6876.14025,9692.385245,6424.519071,7029.809327,7144.114393000002,3530.690067,5263.673816,7267.688428,5210.280328,4931.404154999998,2647.585601,8941.571858,10095.42172,4029.329699,3068.319867,3144.613186,3581.459448,5074.659104,4215.041741,3834.034742,8527.844662000001,14734.23275,1969.10098,9979.508487],\"xaxis\":\"x10\",\"y\":[55.23,66.8,68.0,53.82,59.6,61.21,66.87,70.78,66.55,67.41,67.5,65.86,64.03,72.49,66.91,65.94,59.164,72.13,72.67,61.31,59.82,61.05,57.996,64.36,65.57,64.94,71.86,69.62,43.585,69.18],\"yaxis\":\"y10\",\"type\":\"scatter\"},{\"hovertemplate\":\"\\u003cb\\u003eOLS trendline\\u003c\\u002fb\\u003e\\u003cbr\\u003elifeExp = 0.00159335 * gdpPercap + 55.3885\\u003cbr\\u003eR\\u003csup\\u003e2\\u003c\\u002fsup\\u003e=0.608433\\u003cbr\\u003e\\u003cbr\\u003eyear=1952\\u003cbr\\u003egdpPercap=%{x}\\u003cbr\\u003elifeExp=%{y} \\u003cb\\u003e(trend)\\u003c\\u002fb\\u003e\\u003cextra\\u003e\\u003c\\u002fextra\\u003e\",\"legendgroup\":\"\",\"marker\":{\"color\":\"#636efa\",\"symbol\":\"circle\"},\"mode\":\"lines\",\"name\":\"\",\"showlegend\":false,\"x\":[973.5331948,1601.056136,1969.10098,2444.286648,2647.585601,3068.319867,3119.23652,3144.613186,3530.690067,3581.459448,3834.034742,4029.329699,4215.041741,4931.404154999998,5074.659104,5210.280328,5263.673816,6137.076492,6424.519071,6876.14025,7029.809327,7144.114393000002,7267.688428,8343.105126999999,8527.844662000001,8941.571858,9692.385245,9979.508487,10095.42172,14734.23275],\"xaxis\":\"x10\",\"y\":[56.93964292146788,57.93950530540361,58.525928798405126,59.28306490232192,59.60699086972879,60.277366944588714,60.35849488861774,60.39892874704303,61.014083549002855,61.09497683749447,61.49741716118874,61.80858997807929,62.10449387712178,63.24590845178943,63.4741634292789,63.690255226786114,63.7753296307533,65.16696398294326,65.62496002326967,66.34454969724604,66.58939800410252,66.77152574523042,66.96842217899487,68.6819351580267,68.97628951504679,69.63550088937606,70.8318078508094,71.28929507618555,71.47398518688564,78.86522517281136],\"yaxis\":\"y10\",\"type\":\"scatter\"},{\"hovertemplate\":\"\\u003cb\\u003e%{hovertext}\\u003c\\u002fb\\u003e\\u003cbr\\u003e\\u003cbr\\u003eyear=1957\\u003cbr\\u003egdpPercap=%{x}\\u003cbr\\u003elifeExp=%{y}\\u003cextra\\u003e\\u003c\\u002fextra\\u003e\",\"hovertext\":[\"Albania\",\"Austria\",\"Belgium\",\"Bosnia and Herzegovina\",\"Bulgaria\",\"Croatia\",\"Czech Republic\",\"Denmark\",\"Finland\",\"France\",\"Germany\",\"Greece\",\"Hungary\",\"Iceland\",\"Ireland\",\"Italy\",\"Montenegro\",\"Netherlands\",\"Norway\",\"Poland\",\"Portugal\",\"Romania\",\"Serbia\",\"Slovak Republic\",\"Slovenia\",\"Spain\",\"Sweden\",\"Switzerland\",\"Turkey\",\"United Kingdom\"],\"legendgroup\":\"\",\"marker\":{\"color\":\"#636efa\",\"symbol\":\"circle\"},\"mode\":\"markers\",\"name\":\"\",\"orientation\":\"v\",\"showlegend\":false,\"x\":[1942.284244,8842.59803,9714.960623,1353.989176,3008.670727,4338.231617,8256.343918,11099.65935,7545.415386,8662.834898000001,10187.82665,4916.299889,6040.180011,9244.001412,5599.077872,6248.656232,3682.259903,11276.19344,11653.97304,4734.253019,3774.571743,3943.370225,4981.090891,6093.26298,5862.276629,4564.80241,9911.878226,17909.48973,2218.754257,11283.17795],\"xaxis\":\"x11\",\"y\":[59.28,67.48,69.24,58.45,66.61,64.77,69.03,71.81,67.49,68.93,69.1,67.86,66.41,73.47,68.9,67.81,61.448,72.99,73.44,65.77,61.51,64.1,61.685,67.45,67.85,66.66,72.49,70.56,48.07899999999999,70.42],\"yaxis\":\"y11\",\"type\":\"scatter\"},{\"hovertemplate\":\"\\u003cb\\u003eOLS trendline\\u003c\\u002fb\\u003e\\u003cbr\\u003elifeExp = 0.001064 * gdpPercap + 59.2944\\u003cbr\\u003eR\\u003csup\\u003e2\\u003c\\u002fsup\\u003e=0.546045\\u003cbr\\u003e\\u003cbr\\u003eyear=1957\\u003cbr\\u003egdpPercap=%{x}\\u003cbr\\u003elifeExp=%{y} \\u003cb\\u003e(trend)\\u003c\\u002fb\\u003e\\u003cextra\\u003e\\u003c\\u002fextra\\u003e\",\"legendgroup\":\"\",\"marker\":{\"color\":\"#636efa\",\"symbol\":\"circle\"},\"mode\":\"lines\",\"name\":\"\",\"showlegend\":false,\"x\":[1353.989176,1942.284244,2218.754257,3008.670727,3682.259903,3774.571743,3943.370225,4338.231617,4564.80241,4734.253019,4916.299889,4981.090891,5599.077872,5862.276629,6040.180011,6093.26298,6248.656232,7545.415386,8256.343918,8662.834898000001,8842.59803,9244.001412,9714.960623,9911.878226,10187.82665,11099.65935,11276.19344,11283.17795,11653.97304,17909.48973],\"xaxis\":\"x11\",\"y\":[60.73508242581132,61.3610266043669,61.65518986460102,62.49565860696633,63.212355459259584,63.31057497868577,63.49017605458145,63.9103073851041,64.15137802571172,64.33167296276915,64.52537028355097,64.59430771432454,65.25184399878663,65.53188668265155,65.7211753446946,65.77765546365761,65.94299341525203,67.32274124518787,68.07916705968147,68.51167223677119,68.70293966720683,69.13003165536442,69.63113083585691,69.8406505717133,70.13425886282408,71.10444610631397,71.29227784579764,71.29970934337831,71.69423420113641,78.35008509799071],\"yaxis\":\"y11\",\"type\":\"scatter\"},{\"hovertemplate\":\"\\u003cb\\u003e%{hovertext}\\u003c\\u002fb\\u003e\\u003cbr\\u003e\\u003cbr\\u003eyear=1962\\u003cbr\\u003egdpPercap=%{x}\\u003cbr\\u003elifeExp=%{y}\\u003cextra\\u003e\\u003c\\u002fextra\\u003e\",\"hovertext\":[\"Albania\",\"Austria\",\"Belgium\",\"Bosnia and Herzegovina\",\"Bulgaria\",\"Croatia\",\"Czech Republic\",\"Denmark\",\"Finland\",\"France\",\"Germany\",\"Greece\",\"Hungary\",\"Iceland\",\"Ireland\",\"Italy\",\"Montenegro\",\"Netherlands\",\"Norway\",\"Poland\",\"Portugal\",\"Romania\",\"Serbia\",\"Slovak Republic\",\"Slovenia\",\"Spain\",\"Sweden\",\"Switzerland\",\"Turkey\",\"United Kingdom\"],\"legendgroup\":\"\",\"marker\":{\"color\":\"#636efa\",\"symbol\":\"circle\"},\"mode\":\"markers\",\"name\":\"\",\"orientation\":\"v\",\"showlegend\":false,\"x\":[2312.888958,10750.72111,10991.20676,1709.683679,4254.337839,5477.890018,10136.86713,13583.31351,9371.842561,10560.48553,12902.46291,6017.190732999999,7550.359877,10350.15906,6631.597314,8243.58234,4649.593785,12790.84956,13450.40151,5338.752143,4727.954889,4734.997586,6289.629157,7481.107598,7402.303395,5693.843879,12329.44192,20431.0927,2322.869908,12477.17707],\"xaxis\":\"x12\",\"y\":[64.82,69.54,70.25,61.93,69.51,67.13,69.9,72.35,68.75,70.51,70.3,69.51,67.96,73.68,70.29,69.24,63.728,73.23,73.47,67.64,64.39,66.8,64.531,70.33,69.15,69.69,73.37,71.32,52.098,70.76],\"yaxis\":\"y12\",\"type\":\"scatter\"},{\"hovertemplate\":\"\\u003cb\\u003eOLS trendline\\u003c\\u002fb\\u003e\\u003cbr\\u003elifeExp = 0.000715039 * gdpPercap + 62.5576\\u003cbr\\u003eR\\u003csup\\u003e2\\u003c\\u002fsup\\u003e=0.487023\\u003cbr\\u003e\\u003cbr\\u003eyear=1962\\u003cbr\\u003egdpPercap=%{x}\\u003cbr\\u003elifeExp=%{y} \\u003cb\\u003e(trend)\\u003c\\u002fb\\u003e\\u003cextra\\u003e\\u003c\\u002fextra\\u003e\",\"legendgroup\":\"\",\"marker\":{\"color\":\"#636efa\",\"symbol\":\"circle\"},\"mode\":\"lines\",\"name\":\"\",\"showlegend\":false,\"x\":[1709.683679,2312.888958,2322.869908,4254.337839,4649.593785,4727.954889,4734.997586,5338.752143,5477.890018,5693.843879,6017.190732999999,6289.629157,6631.597314,7402.303395,7481.107598,7550.359877,8243.58234,9371.842561,10136.86713,10350.15906,10560.48553,10750.72111,10991.20676,12329.44192,12477.17707,12790.84956,12902.46291,13450.40151,13583.31351,20431.0927],\"xaxis\":\"x12\",\"y\":[63.78007508326532,64.21139033127979,64.21852709893508,65.59960183202152,65.88222521466301,65.93825645341889,65.94329225583806,66.37500025899749,66.47448925412586,66.62890466851233,66.86011025205582,67.05491432706496,67.29943486689517,67.8505197065767,67.90686777836062,67.95638585277464,68.45206689033739,69.2588168542174,69.80583919172481,69.95835122185815,70.10874283269162,70.24476867534489,70.41672527351264,71.37361548988139,71.4792518711948,71.70353990800369,71.78334779664947,72.1751452184948,72.27018247072034,77.16661107058208],\"yaxis\":\"y12\",\"type\":\"scatter\"},{\"hovertemplate\":\"\\u003cb\\u003e%{hovertext}\\u003c\\u002fb\\u003e\\u003cbr\\u003e\\u003cbr\\u003eyear=1967\\u003cbr\\u003egdpPercap=%{x}\\u003cbr\\u003elifeExp=%{y}\\u003cextra\\u003e\\u003c\\u002fextra\\u003e\",\"hovertext\":[\"Albania\",\"Austria\",\"Belgium\",\"Bosnia and Herzegovina\",\"Bulgaria\",\"Croatia\",\"Czech Republic\",\"Denmark\",\"Finland\",\"France\",\"Germany\",\"Greece\",\"Hungary\",\"Iceland\",\"Ireland\",\"Italy\",\"Montenegro\",\"Netherlands\",\"Norway\",\"Poland\",\"Portugal\",\"Romania\",\"Serbia\",\"Slovak Republic\",\"Slovenia\",\"Spain\",\"Sweden\",\"Switzerland\",\"Turkey\",\"United Kingdom\"],\"legendgroup\":\"\",\"marker\":{\"color\":\"#636efa\",\"symbol\":\"circle\"},\"mode\":\"markers\",\"name\":\"\",\"orientation\":\"v\",\"showlegend\":false,\"x\":[2760.196931,12834.6024,13149.04119,2172.352423000001,5577.0028,6960.297861,11399.44489,15937.21123,10921.63626,12999.91766,14745.62561,8513.097016,9326.64467,13319.89568,7655.568963,10022.40131,5907.850937,15363.25136,16361.87647,6557.152776,6361.517993,6470.866545,7991.707066,8412.902397,9405.489397,7993.512294,15258.29697,22966.14432,2826.356387000001,14142.85089],\"xaxis\":\"x7\",\"y\":[66.22,70.14,70.94,64.79,70.42,68.5,70.38,72.96,69.83,71.55,70.8,71.0,69.5,73.73,71.08,71.06,67.178,73.82,74.08,69.61,66.6,66.8,66.914,70.98,69.18,71.44,74.16,72.77,54.33600000000001,71.36],\"yaxis\":\"y7\",\"type\":\"scatter\"},{\"hovertemplate\":\"\\u003cb\\u003eOLS trendline\\u003c\\u002fb\\u003e\\u003cbr\\u003elifeExp = 0.000573787 * gdpPercap + 63.9172\\u003cbr\\u003eR\\u003csup\\u003e2\\u003c\\u002fsup\\u003e=0.509093\\u003cbr\\u003e\\u003cbr\\u003eyear=1967\\u003cbr\\u003egdpPercap=%{x}\\u003cbr\\u003elifeExp=%{y} \\u003cb\\u003e(trend)\\u003c\\u002fb\\u003e\\u003cextra\\u003e\\u003c\\u002fextra\\u003e\",\"legendgroup\":\"\",\"marker\":{\"color\":\"#636efa\",\"symbol\":\"circle\"},\"mode\":\"lines\",\"name\":\"\",\"showlegend\":false,\"x\":[2172.352423000001,2760.196931,2826.356387000001,5577.0028,5907.850937,6361.517993,6470.866545,6557.152776,6960.297861,7655.568963,7991.707066,7993.512294,8412.902397,8513.097016,9326.64467,9405.489397,10022.40131,10921.63626,11399.44489,12834.6024,12999.91766,13149.04119,13319.89568,14142.85089,14745.62561,15258.29697,15363.25136,15937.21123,16361.87647,22966.14432],\"xaxis\":\"x7\",\"y\":[65.16367051097194,65.50096825910454,65.53892971867894,67.11721586133679,67.30705234031257,67.56736076253695,67.63010357947104,67.67961352813106,67.91093308201081,68.30987085187134,68.5027426464709,68.50377846347861,68.74441920334412,68.8019096092317,69.26871296957331,69.3139530773013,69.66792933500086,70.18389898267023,70.45805953489797,71.28153477324891,71.37639057979487,71.46195577633591,71.55998992303809,72.03219122009774,72.3780557351529,72.67222008117768,72.7324415834999,73.06177250185473,73.30544004865129,77.0948854607526],\"yaxis\":\"y7\",\"type\":\"scatter\"},{\"hovertemplate\":\"\\u003cb\\u003e%{hovertext}\\u003c\\u002fb\\u003e\\u003cbr\\u003e\\u003cbr\\u003eyear=1972\\u003cbr\\u003egdpPercap=%{x}\\u003cbr\\u003elifeExp=%{y}\\u003cextra\\u003e\\u003c\\u002fextra\\u003e\",\"hovertext\":[\"Albania\",\"Austria\",\"Belgium\",\"Bosnia and Herzegovina\",\"Bulgaria\",\"Croatia\",\"Czech Republic\",\"Denmark\",\"Finland\",\"France\",\"Germany\",\"Greece\",\"Hungary\",\"Iceland\",\"Ireland\",\"Italy\",\"Montenegro\",\"Netherlands\",\"Norway\",\"Poland\",\"Portugal\",\"Romania\",\"Serbia\",\"Slovak Republic\",\"Slovenia\",\"Spain\",\"Sweden\",\"Switzerland\",\"Turkey\",\"United Kingdom\"],\"legendgroup\":\"\",\"marker\":{\"color\":\"#636efa\",\"symbol\":\"circle\"},\"mode\":\"markers\",\"name\":\"\",\"orientation\":\"v\",\"showlegend\":false,\"x\":[3313.422188,16661.6256,16672.14356,2860.16975,6597.494398,9164.090127,13108.4536,18866.20721,14358.8759,16107.19171,18016.18027,12724.82957,10168.65611,15798.06362,9530.772896,12269.27378,7778.414017,18794.74567,18965.05551,8006.506993000001,9022.247417,8011.414401999999,10522.06749,9674.167626,12383.4862,10638.75131,17832.02464,27195.11304,3450.69638,15895.11641],\"xaxis\":\"x8\",\"y\":[67.69,70.63,71.44,67.45,70.9,69.61,70.29,73.47,70.87,72.38,71.0,72.34,69.76,74.46,71.28,72.19,70.63600000000002,73.75,74.34,70.85,69.26,69.21,68.7,70.35,69.82,73.06,74.72,73.78,57.005,72.01],\"yaxis\":\"y8\",\"type\":\"scatter\"},{\"hovertemplate\":\"\\u003cb\\u003eOLS trendline\\u003c\\u002fb\\u003e\\u003cbr\\u003elifeExp = 0.000400268 * gdpPercap + 65.7799\\u003cbr\\u003eR\\u003csup\\u003e2\\u003c\\u002fsup\\u003e=0.463140\\u003cbr\\u003e\\u003cbr\\u003eyear=1972\\u003cbr\\u003egdpPercap=%{x}\\u003cbr\\u003elifeExp=%{y} \\u003cb\\u003e(trend)\\u003c\\u002fb\\u003e\\u003cextra\\u003e\\u003c\\u002fextra\\u003e\",\"legendgroup\":\"\",\"marker\":{\"color\":\"#636efa\",\"symbol\":\"circle\"},\"mode\":\"lines\",\"name\":\"\",\"showlegend\":false,\"x\":[2860.16975,3313.422188,3450.69638,6597.494398,7778.414017,8006.506993000001,8011.414401999999,9022.247417,9164.090127,9530.772896,9674.167626,10168.65611,10522.06749,10638.75131,12269.27378,12383.4862,12724.82957,13108.4536,14358.8759,15798.06362,15895.11641,16107.19171,16661.6256,16672.14356,17832.02464,18016.18027,18794.74567,18866.20721,18965.05551,27195.11304],\"xaxis\":\"x8\",\"y\":[66.92469075554631,67.10611331447245,67.16105981469879,68.42062314185573,68.89330776791188,68.9846061436285,68.98657042362754,69.3911747828176,69.4479499157364,69.59472138498575,69.65211774222965,69.85004578101228,69.99150513464785,70.03820996276325,70.6908563339538,70.73657193912292,70.87320085154782,71.02675336964407,71.52725771200419,72.10331885817166,72.14216600831699,72.22705301693586,72.4489752983096,72.45318530372359,72.91744887064922,72.99116052189302,73.30279552993098,73.33139931529352,73.3709651510795,76.6651958534899],\"yaxis\":\"y8\",\"type\":\"scatter\"},{\"hovertemplate\":\"\\u003cb\\u003e%{hovertext}\\u003c\\u002fb\\u003e\\u003cbr\\u003e\\u003cbr\\u003eyear=1977\\u003cbr\\u003egdpPercap=%{x}\\u003cbr\\u003elifeExp=%{y}\\u003cextra\\u003e\\u003c\\u002fextra\\u003e\",\"hovertext\":[\"Albania\",\"Austria\",\"Belgium\",\"Bosnia and Herzegovina\",\"Bulgaria\",\"Croatia\",\"Czech Republic\",\"Denmark\",\"Finland\",\"France\",\"Germany\",\"Greece\",\"Hungary\",\"Iceland\",\"Ireland\",\"Italy\",\"Montenegro\",\"Netherlands\",\"Norway\",\"Poland\",\"Portugal\",\"Romania\",\"Serbia\",\"Slovak Republic\",\"Slovenia\",\"Spain\",\"Sweden\",\"Switzerland\",\"Turkey\",\"United Kingdom\"],\"legendgroup\":\"\",\"marker\":{\"color\":\"#636efa\",\"symbol\":\"circle\"},\"mode\":\"markers\",\"name\":\"\",\"orientation\":\"v\",\"showlegend\":false,\"x\":[3533.003910000001,19749.4223,19117.97448,3528.481305,7612.240438,11305.38517,14800.16062,20422.9015,15605.42283,18292.63514,20512.92123,14195.52428,11674.83737,19654.96247,11150.98113,14255.98475,9595.929905,21209.0592,23311.34939,9508.141454,10172.48572,9356.39724,12980.66956,10922.66404,15277.03017,13236.92117,18855.72521,26982.29052,4269.122326,17428.74846],\"xaxis\":\"x9\",\"y\":[68.93,72.17,72.8,69.86,70.81,70.64,70.71,74.69,72.52,73.83,72.5,73.68,69.95,76.11,72.03,73.48,73.066,75.24,75.37,70.67,70.41,69.46,70.3,70.45,70.97,74.39,75.44,75.39,59.507,72.76],\"yaxis\":\"y9\",\"type\":\"scatter\"},{\"hovertemplate\":\"\\u003cb\\u003eOLS trendline\\u003c\\u002fb\\u003e\\u003cbr\\u003elifeExp = 0.00039008 * gdpPercap + 66.3659\\u003cbr\\u003eR\\u003csup\\u003e2\\u003c\\u002fsup\\u003e=0.539074\\u003cbr\\u003e\\u003cbr\\u003eyear=1977\\u003cbr\\u003egdpPercap=%{x}\\u003cbr\\u003elifeExp=%{y} \\u003cb\\u003e(trend)\\u003c\\u002fb\\u003e\\u003cextra\\u003e\\u003c\\u002fextra\\u003e\",\"legendgroup\":\"\",\"marker\":{\"color\":\"#636efa\",\"symbol\":\"circle\"},\"mode\":\"lines\",\"name\":\"\",\"showlegend\":false,\"x\":[3528.481305,3533.003910000001,4269.122326,7612.240438,9356.39724,9508.141454,9595.929905,10172.48572,10922.66404,11150.98113,11305.38517,11674.83737,12980.66956,13236.92117,14195.52428,14255.98475,14800.16062,15277.03017,15605.42283,17428.74846,18292.63514,18855.72521,19117.97448,19654.96247,19749.4223,20422.9015,20512.92123,21209.0592,23311.34939,26982.29052],\"xaxis\":\"x9\",\"y\":[67.74225981726005,67.7440239959712,68.03116922275758,69.33525344015872,70.01561449291265,70.07480690787669,70.10905144533658,70.3339544591109,70.62658417621152,70.71564615477673,70.77587611522719,70.9199921072332,71.42937140299928,71.52933008501087,71.90326218810213,71.92684662097653,72.139118858984,72.3251362335069,72.45323571149996,73.16447895735809,73.50146405548168,73.72111434860967,73.82341259909755,74.0328809873604,74.06972789774602,74.33243880595934,74.36755372120159,74.63910336718989,75.4591651673804,76.89112665670324],\"yaxis\":\"y9\",\"type\":\"scatter\"},{\"hovertemplate\":\"\\u003cb\\u003e%{hovertext}\\u003c\\u002fb\\u003e\\u003cbr\\u003e\\u003cbr\\u003eyear=1982\\u003cbr\\u003egdpPercap=%{x}\\u003cbr\\u003elifeExp=%{y}\\u003cextra\\u003e\\u003c\\u002fextra\\u003e\",\"hovertext\":[\"Albania\",\"Austria\",\"Belgium\",\"Bosnia and Herzegovina\",\"Bulgaria\",\"Croatia\",\"Czech Republic\",\"Denmark\",\"Finland\",\"France\",\"Germany\",\"Greece\",\"Hungary\",\"Iceland\",\"Ireland\",\"Italy\",\"Montenegro\",\"Netherlands\",\"Norway\",\"Poland\",\"Portugal\",\"Romania\",\"Serbia\",\"Slovak Republic\",\"Slovenia\",\"Spain\",\"Sweden\",\"Switzerland\",\"Turkey\",\"United Kingdom\"],\"legendgroup\":\"\",\"marker\":{\"color\":\"#636efa\",\"symbol\":\"circle\"},\"mode\":\"markers\",\"name\":\"\",\"orientation\":\"v\",\"showlegend\":false,\"x\":[3630.880722,21597.08362,20979.84589,4126.613157,8224.191647,13221.82184,15377.22855,21688.04048,18533.15761,20293.89746,22031.53274,15268.42089,12545.99066,23269.6075,12618.32141,16537.4835,11222.58762,21399.46046,26298.63531,8451.531004,11753.84291,9605.314053,15181.0927,11348.54585,17866.72175,13926.16997,20667.38125,28397.71512,4241.356344,18232.42452],\"xaxis\":\"x4\",\"y\":[70.42,73.18,73.93,70.69,71.08,70.46,70.96,74.63,74.55,74.89,73.8,75.24,69.39,76.99,73.1,74.98,74.101,76.05,75.97,71.32,72.77,69.66,70.16199999999999,70.8,71.063,76.3,76.42,76.21,61.036,74.04],\"yaxis\":\"y4\",\"type\":\"scatter\"},{\"hovertemplate\":\"\\u003cb\\u003eOLS trendline\\u003c\\u002fb\\u003e\\u003cbr\\u003elifeExp = 0.000356374 * gdpPercap + 67.2406\\u003cbr\\u003eR\\u003csup\\u003e2\\u003c\\u002fsup\\u003e=0.510652\\u003cbr\\u003e\\u003cbr\\u003eyear=1982\\u003cbr\\u003egdpPercap=%{x}\\u003cbr\\u003elifeExp=%{y} \\u003cb\\u003e(trend)\\u003c\\u002fb\\u003e\\u003cextra\\u003e\\u003c\\u002fextra\\u003e\",\"legendgroup\":\"\",\"marker\":{\"color\":\"#636efa\",\"symbol\":\"circle\"},\"mode\":\"lines\",\"name\":\"\",\"showlegend\":false,\"x\":[3630.880722,4126.613157,4241.356344,8224.191647,8451.531004,9605.314053,11222.58762,11348.54585,11753.84291,12545.99066,12618.32141,13221.82184,13926.16997,15181.0927,15268.42089,15377.22855,16537.4835,17866.72175,18232.42452,18533.15761,20293.89746,20667.38125,20979.84589,21399.46046,21597.08362,21688.04048,22031.53274,23269.6075,26298.63531,28397.71512],\"xaxis\":\"x4\",\"y\":[68.53453524414759,68.71120155939887,68.75209308598917,70.17147335557698,70.25249126700893,70.66366993008394,71.24002471678492,71.28491299682992,71.42935046574877,71.71165159080445,71.73742841350087,71.95250047595461,72.20351207010464,72.6507343194097,72.68185584476412,72.7206321018862,73.13411718435525,73.60782357743916,73.73815065771802,73.84532421170272,74.47280669913685,74.60590673521858,74.71726111249494,74.8668009744724,74.93722879605626,74.96964348625708,75.09205531087682,75.53327337613175,76.61274113778092,77.36079930236531],\"yaxis\":\"y4\",\"type\":\"scatter\"},{\"hovertemplate\":\"\\u003cb\\u003e%{hovertext}\\u003c\\u002fb\\u003e\\u003cbr\\u003e\\u003cbr\\u003eyear=1987\\u003cbr\\u003egdpPercap=%{x}\\u003cbr\\u003elifeExp=%{y}\\u003cextra\\u003e\\u003c\\u002fextra\\u003e\",\"hovertext\":[\"Albania\",\"Austria\",\"Belgium\",\"Bosnia and Herzegovina\",\"Bulgaria\",\"Croatia\",\"Czech Republic\",\"Denmark\",\"Finland\",\"France\",\"Germany\",\"Greece\",\"Hungary\",\"Iceland\",\"Ireland\",\"Italy\",\"Montenegro\",\"Netherlands\",\"Norway\",\"Poland\",\"Portugal\",\"Romania\",\"Serbia\",\"Slovak Republic\",\"Slovenia\",\"Spain\",\"Sweden\",\"Switzerland\",\"Turkey\",\"United Kingdom\"],\"legendgroup\":\"\",\"marker\":{\"color\":\"#636efa\",\"symbol\":\"circle\"},\"mode\":\"markers\",\"name\":\"\",\"orientation\":\"v\",\"showlegend\":false,\"x\":[3738.932735,23687.82607,22525.56308,4314.114757,8239.854824,13822.58394,16310.4434,25116.17581,21141.01223,22066.44214,24639.18566,16120.52839,12986.47998,26923.20628,13872.86652,19207.23482,11732.51017,23651.32361,31540.9748,9082.351172,13039.30876,9696.273295,15870.87851,12037.26758,18678.53492,15764.98313,23586.92927,30281.70459,5089.043686,21664.78767],\"xaxis\":\"x5\",\"y\":[72.0,74.94,75.35,71.14,71.34,71.52,71.58,74.8,74.83,76.34,74.847,76.67,69.58,77.23,74.36,76.42,74.865,76.83,75.89,70.98,74.06,69.53,71.218,71.08,72.25,76.9,77.19,77.41,63.108,75.007],\"yaxis\":\"y5\",\"type\":\"scatter\"},{\"hovertemplate\":\"\\u003cb\\u003eOLS trendline\\u003c\\u002fb\\u003e\\u003cbr\\u003elifeExp = 0.000308856 * gdpPercap + 68.3254\\u003cbr\\u003eR\\u003csup\\u003e2\\u003c\\u002fsup\\u003e=0.531653\\u003cbr\\u003e\\u003cbr\\u003eyear=1987\\u003cbr\\u003egdpPercap=%{x}\\u003cbr\\u003elifeExp=%{y} \\u003cb\\u003e(trend)\\u003c\\u002fb\\u003e\\u003cextra\\u003e\\u003c\\u002fextra\\u003e\",\"legendgroup\":\"\",\"marker\":{\"color\":\"#636efa\",\"symbol\":\"circle\"},\"mode\":\"lines\",\"name\":\"\",\"showlegend\":false,\"x\":[3738.932735,4314.114757,5089.043686,8239.854824,9082.351172,9696.273295,11732.51017,12037.26758,12986.47998,13039.30876,13822.58394,13872.86652,15764.98313,15870.87851,16120.52839,16310.4434,18678.53492,19207.23482,21141.01223,21664.78767,22066.44214,22525.56308,23586.92927,23651.32361,23687.82607,24639.18566,25116.17581,26923.20628,30281.70459,31540.9748],\"xaxis\":\"x5\",\"y\":[69.48021124016094,69.65785983296315,69.89720151697456,70.8703493961536,71.13055970339299,71.32017342056353,71.94907801357897,72.0432042605091,72.33637449302796,72.3526909947048,72.59461047094305,72.61014056270149,73.19453270349787,73.22723915905753,73.3043450980106,73.36300154586202,74.09440153762816,74.25769383407908,74.85495317553881,75.01672452148041,75.1407780361228,75.28258043222937,75.61039006968242,75.6302786674617,75.6415526823036,75.93538608798744,76.08270750223014,76.64082025239917,77.67811362367925,78.06704716507606],\"yaxis\":\"y5\",\"type\":\"scatter\"},{\"hovertemplate\":\"\\u003cb\\u003e%{hovertext}\\u003c\\u002fb\\u003e\\u003cbr\\u003e\\u003cbr\\u003eyear=1992\\u003cbr\\u003egdpPercap=%{x}\\u003cbr\\u003elifeExp=%{y}\\u003cextra\\u003e\\u003c\\u002fextra\\u003e\",\"hovertext\":[\"Albania\",\"Austria\",\"Belgium\",\"Bosnia and Herzegovina\",\"Bulgaria\",\"Croatia\",\"Czech Republic\",\"Denmark\",\"Finland\",\"France\",\"Germany\",\"Greece\",\"Hungary\",\"Iceland\",\"Ireland\",\"Italy\",\"Montenegro\",\"Netherlands\",\"Norway\",\"Poland\",\"Portugal\",\"Romania\",\"Serbia\",\"Slovak Republic\",\"Slovenia\",\"Spain\",\"Sweden\",\"Switzerland\",\"Turkey\",\"United Kingdom\"],\"legendgroup\":\"\",\"marker\":{\"color\":\"#636efa\",\"symbol\":\"circle\"},\"mode\":\"markers\",\"name\":\"\",\"orientation\":\"v\",\"showlegend\":false,\"x\":[2497.437901,27042.01868,25575.57069,2546.781445,6302.623438000001,8447.794873,14297.02122,26406.73985,20647.16499,24703.79615,26505.30317,17541.49634,10535.62855,25144.39201,17558.81555,22013.64486,7003.339037000002,26790.94961,33965.66115,7738.881247,16207.26663,6598.409903,9325.068238,9498.467723,14214.71681,18603.06452,23880.01683,31871.5303,5678.348271,22705.09254],\"xaxis\":\"x6\",\"y\":[71.581,76.04,76.46,72.178,71.19,72.527,72.4,75.33,75.7,77.46,76.07,77.03,69.17,78.77,75.467,77.44,75.435,77.42,77.32,70.99,74.86,69.36,71.65899999999998,71.38,73.64,77.57,78.16,78.03,66.146,76.42],\"yaxis\":\"y6\",\"type\":\"scatter\"},{\"hovertemplate\":\"\\u003cb\\u003eOLS trendline\\u003c\\u002fb\\u003e\\u003cbr\\u003elifeExp = 0.000286927 * gdpPercap + 69.5447\\u003cbr\\u003eR\\u003csup\\u003e2\\u003c\\u002fsup\\u003e=0.663146\\u003cbr\\u003e\\u003cbr\\u003eyear=1992\\u003cbr\\u003egdpPercap=%{x}\\u003cbr\\u003elifeExp=%{y} \\u003cb\\u003e(trend)\\u003c\\u002fb\\u003e\\u003cextra\\u003e\\u003c\\u002fextra\\u003e\",\"legendgroup\":\"\",\"marker\":{\"color\":\"#636efa\",\"symbol\":\"circle\"},\"mode\":\"lines\",\"name\":\"\",\"showlegend\":false,\"x\":[2497.437901,2546.781445,5678.348271,6302.623438000001,6598.409903,7003.339037000002,7738.881247,8447.794873,9325.068238,9498.467723,10535.62855,14214.71681,14297.02122,16207.26663,17541.49634,17558.81555,18603.06452,20647.16499,22013.64486,22705.09254,23880.01683,24703.79615,25144.39201,25575.57069,26406.73985,26505.30317,26790.94961,27042.01868,31871.5303,33965.66115],\"xaxis\":\"x6\",\"y\":[70.26126212248154,70.2754201029503,71.17395025228694,71.35307146866161,71.43794050430269,71.55412548628135,71.76517218862456,71.96857843911489,72.22029159468865,72.2700445374834,72.56763367562125,73.62326234566405,73.64687767879198,74.1949780990884,74.57780423283788,74.5827735766879,74.88239649233783,75.46890350388203,75.86098306976022,76.05937787392362,76.39649502850193,76.63285931403293,76.75927803216342,76.88299470987074,77.12147933783979,77.14975978643294,77.23171937811712,77.30375779897658,78.68947365249537,79.29033571609834],\"yaxis\":\"y6\",\"type\":\"scatter\"},{\"hovertemplate\":\"\\u003cb\\u003e%{hovertext}\\u003c\\u002fb\\u003e\\u003cbr\\u003e\\u003cbr\\u003eyear=1997\\u003cbr\\u003egdpPercap=%{x}\\u003cbr\\u003elifeExp=%{y}\\u003cextra\\u003e\\u003c\\u002fextra\\u003e\",\"hovertext\":[\"Albania\",\"Austria\",\"Belgium\",\"Bosnia and Herzegovina\",\"Bulgaria\",\"Croatia\",\"Czech Republic\",\"Denmark\",\"Finland\",\"France\",\"Germany\",\"Greece\",\"Hungary\",\"Iceland\",\"Ireland\",\"Italy\",\"Montenegro\",\"Netherlands\",\"Norway\",\"Poland\",\"Portugal\",\"Romania\",\"Serbia\",\"Slovak Republic\",\"Slovenia\",\"Spain\",\"Sweden\",\"Switzerland\",\"Turkey\",\"United Kingdom\"],\"legendgroup\":\"\",\"marker\":{\"color\":\"#636efa\",\"symbol\":\"circle\"},\"mode\":\"markers\",\"name\":\"\",\"orientation\":\"v\",\"showlegend\":false,\"x\":[3193.054604,29095.92066,27561.19663,4766.355904,5970.38876,9875.604515,16048.51424,29804.34567,23723.9502,25889.78487,27788.88416,18747.69814,11712.7768,28061.09966,24521.94713,24675.02446,6465.613349,30246.13063,41283.16433,10159.58368,17641.03156,7346.547556999999,7914.320304000002,12126.23065,17161.10735,20445.29896,25266.59499,32135.32301,6601.429915,26074.53136],\"xaxis\":\"x\",\"y\":[72.95,77.51,77.53,73.244,70.32,73.68,74.01,76.11,77.13,78.64,77.34,77.869,71.04,78.95,76.122,78.82,75.445,78.03,78.32,72.75,75.97,69.72,72.232,72.71,75.13,78.77,79.39,79.37,68.835,77.218],\"yaxis\":\"y\",\"type\":\"scatter\"},{\"hovertemplate\":\"\\u003cb\\u003eOLS trendline\\u003c\\u002fb\\u003e\\u003cbr\\u003elifeExp = 0.000255246 * gdpPercap + 70.6359\\u003cbr\\u003eR\\u003csup\\u003e2\\u003c\\u002fsup\\u003e=0.684783\\u003cbr\\u003e\\u003cbr\\u003eyear=1997\\u003cbr\\u003egdpPercap=%{x}\\u003cbr\\u003elifeExp=%{y} \\u003cb\\u003e(trend)\\u003c\\u002fb\\u003e\\u003cextra\\u003e\\u003c\\u002fextra\\u003e\",\"legendgroup\":\"\",\"marker\":{\"color\":\"#636efa\",\"symbol\":\"circle\"},\"mode\":\"lines\",\"name\":\"\",\"showlegend\":false,\"x\":[3193.054604,4766.355904,5970.38876,6465.613349,6601.429915,7346.547556999999,7914.320304000002,9875.604515,10159.58368,11712.7768,12126.23065,16048.51424,17161.10735,17641.03156,18747.69814,20445.29896,23723.9502,24521.94713,24675.02446,25266.59499,25889.78487,26074.53136,27561.19663,27788.88416,28061.09966,29095.92066,29804.34567,30246.13063,32135.32301,41283.16433],\"xaxis\":\"x\",\"y\":[71.45090665786852,71.85248573707506,72.15981047242417,72.28621463572782,72.32088128954376,72.51106968929588,72.65599148967755,73.15660170814982,73.22908629301257,73.62553283695145,73.73106533500341,74.73221306968026,75.01619816309201,75.13869696376085,75.42116933328413,75.85447538480513,76.69133844847805,76.89502408222096,76.93409647937006,77.08509257193232,77.24415938143743,77.29131520933946,77.67078077656103,77.72889713904304,77.79837909385725,78.06251315662297,78.24333590379969,78.35609980823686,78.8383088653351,81.1732600244126],\"yaxis\":\"y\",\"type\":\"scatter\"},{\"hovertemplate\":\"\\u003cb\\u003e%{hovertext}\\u003c\\u002fb\\u003e\\u003cbr\\u003e\\u003cbr\\u003eyear=2002\\u003cbr\\u003egdpPercap=%{x}\\u003cbr\\u003elifeExp=%{y}\\u003cextra\\u003e\\u003c\\u002fextra\\u003e\",\"hovertext\":[\"Albania\",\"Austria\",\"Belgium\",\"Bosnia and Herzegovina\",\"Bulgaria\",\"Croatia\",\"Czech Republic\",\"Denmark\",\"Finland\",\"France\",\"Germany\",\"Greece\",\"Hungary\",\"Iceland\",\"Ireland\",\"Italy\",\"Montenegro\",\"Netherlands\",\"Norway\",\"Poland\",\"Portugal\",\"Romania\",\"Serbia\",\"Slovak Republic\",\"Slovenia\",\"Spain\",\"Sweden\",\"Switzerland\",\"Turkey\",\"United Kingdom\"],\"legendgroup\":\"\",\"marker\":{\"color\":\"#636efa\",\"symbol\":\"circle\"},\"mode\":\"markers\",\"name\":\"\",\"orientation\":\"v\",\"showlegend\":false,\"x\":[4604.211737,32417.60769,30485.88375,6018.975239,7696.777725,11628.38895,17596.21021999999,32166.50006,28204.59057,28926.03234,30035.80198,22514.2548,14843.93556,31163.20196,34077.04939,27968.09817,6557.194282,33724.75778,44683.97525,12002.23908,19970.90787,7885.360081,7236.075251,13638.77837,20660.01936,24835.47166,29341.63093000001,34480.95771,6508.085718,29478.99919],\"xaxis\":\"x2\",\"y\":[75.65100000000002,78.98,78.32,74.09,72.14,74.876,75.51,77.18,78.37,79.59,78.67,78.256,72.59,80.5,77.783,80.24,73.98100000000002,78.53,79.05,74.67,77.29,71.322,73.21300000000002,73.8,76.66,79.78,80.04,80.62,70.845,78.471],\"yaxis\":\"y2\",\"type\":\"scatter\"},{\"hovertemplate\":\"\\u003cb\\u003eOLS trendline\\u003c\\u002fb\\u003e\\u003cbr\\u003elifeExp = 0.000223002 * gdpPercap + 71.8588\\u003cbr\\u003eR\\u003csup\\u003e2\\u003c\\u002fsup\\u003e=0.730185\\u003cbr\\u003e\\u003cbr\\u003eyear=2002\\u003cbr\\u003egdpPercap=%{x}\\u003cbr\\u003elifeExp=%{y} \\u003cb\\u003e(trend)\\u003c\\u002fb\\u003e\\u003cextra\\u003e\\u003c\\u002fextra\\u003e\",\"legendgroup\":\"\",\"marker\":{\"color\":\"#636efa\",\"symbol\":\"circle\"},\"mode\":\"lines\",\"name\":\"\",\"showlegend\":false,\"x\":[4604.211737,6018.975239,6508.085718,6557.194282,7236.075251,7696.777725,7885.360081,11628.38895,12002.23908,13638.77837,14843.93556,17596.21021999999,19970.90787,20660.01936,22514.2548,24835.47166,27968.09817,28204.59057,28926.03234,29341.63093000001,29478.99919,30035.80198,30485.88375,31163.20196,32166.50006,32417.60769,33724.75778,34077.04939,34480.95771,44683.97525],\"xaxis\":\"x2\",\"y\":[72.8855952958741,73.20108983857259,73.31016226423453,73.32111355320959,73.47250510420632,73.5752424989364,73.61729666847295,74.45199814307486,74.53536732501614,74.90031822612204,75.16907022318821,75.7828319112794,76.31239331717853,76.46606629085822,76.87956378451784,77.39719888799233,78.09577965207087,78.14851783868947,78.30940051695192,78.40207967280577,78.43271301633543,78.55688093652559,78.65724989713443,78.80829295035373,79.03203004478844,79.08802745126872,79.37952402953061,79.45808562674198,79.54815783353158,81.82344720053622],\"yaxis\":\"y2\",\"type\":\"scatter\"},{\"hovertemplate\":\"\\u003cb\\u003e%{hovertext}\\u003c\\u002fb\\u003e\\u003cbr\\u003e\\u003cbr\\u003eyear=2007\\u003cbr\\u003egdpPercap=%{x}\\u003cbr\\u003elifeExp=%{y}\\u003cextra\\u003e\\u003c\\u002fextra\\u003e\",\"hovertext\":[\"Albania\",\"Austria\",\"Belgium\",\"Bosnia and Herzegovina\",\"Bulgaria\",\"Croatia\",\"Czech Republic\",\"Denmark\",\"Finland\",\"France\",\"Germany\",\"Greece\",\"Hungary\",\"Iceland\",\"Ireland\",\"Italy\",\"Montenegro\",\"Netherlands\",\"Norway\",\"Poland\",\"Portugal\",\"Romania\",\"Serbia\",\"Slovak Republic\",\"Slovenia\",\"Spain\",\"Sweden\",\"Switzerland\",\"Turkey\",\"United Kingdom\"],\"legendgroup\":\"\",\"marker\":{\"color\":\"#636efa\",\"symbol\":\"circle\"},\"mode\":\"markers\",\"name\":\"\",\"orientation\":\"v\",\"showlegend\":false,\"x\":[5937.029525999998,36126.4927,33692.60508,7446.298803,10680.79282,14619.22272,22833.30851,35278.41874,33207.0844,30470.0167,32170.37442,27538.41188,18008.94444,36180.78919,40675.99635,28569.7197,9253.896111,36797.93332,49357.19017,15389.92468,20509.64777,10808.47561,9786.534714,18678.31435,25768.25759,28821.0637,33859.74835,37506.41907,8458.276384,33203.26128],\"xaxis\":\"x3\",\"y\":[76.423,79.829,79.441,74.852,73.005,75.748,76.486,78.332,79.313,80.657,79.406,79.483,73.33800000000002,81.757,78.885,80.546,74.543,79.762,80.196,75.563,78.098,72.476,74.002,74.663,77.926,80.941,80.884,81.70100000000002,71.777,79.425],\"yaxis\":\"y3\",\"type\":\"scatter\"},{\"hovertemplate\":\"\\u003cb\\u003eOLS trendline\\u003c\\u002fb\\u003e\\u003cbr\\u003elifeExp = 0.000214634 * gdpPercap + 72.2711\\u003cbr\\u003eR\\u003csup\\u003e2\\u003c\\u002fsup\\u003e=0.722451\\u003cbr\\u003e\\u003cbr\\u003eyear=2007\\u003cbr\\u003egdpPercap=%{x}\\u003cbr\\u003elifeExp=%{y} \\u003cb\\u003e(trend)\\u003c\\u002fb\\u003e\\u003cextra\\u003e\\u003c\\u002fextra\\u003e\",\"legendgroup\":\"\",\"marker\":{\"color\":\"#636efa\",\"symbol\":\"circle\"},\"mode\":\"lines\",\"name\":\"\",\"showlegend\":false,\"x\":[5937.029525999998,7446.298803,8458.276384,9253.896111,9786.534714,10680.79282,10808.47561,14619.22272,15389.92468,18008.94444,18678.31435,20509.64777,22833.30851,25768.25759,27538.41188,28569.7197,28821.0637,30470.0167,32170.37442,33203.26128,33207.0844,33692.60508,33859.74835,35278.41874,36126.4927,36180.78919,36797.93332,37506.41907,40675.99635,49357.19017],\"xaxis\":\"x3\",\"y\":[73.54534412490418,73.86928467892466,74.08648950992543,74.25725658183343,74.3715789541085,74.56351717925463,74.5909222516044,75.40883827815938,75.57425714920626,76.13638792664538,76.28005749097989,76.6731239713698,77.17186065072994,77.80180061272725,78.18173596962005,78.40308972780463,78.45703670456385,78.81095813960127,79.17591277708297,79.39760545099332,79.39842602266317,79.50263528502903,79.53850991940323,79.84300486878863,80.02503040435033,80.03668427905646,80.16914441352634,80.32120956841163,81.00150872757483,82.86478838115647],\"yaxis\":\"y3\",\"type\":\"scatter\"}],                        {\"template\":{\"data\":{\"histogram2dcontour\":[{\"type\":\"histogram2dcontour\",\"colorbar\":{\"outlinewidth\":0,\"ticks\":\"\"},\"colorscale\":[[0.0,\"#0d0887\"],[0.1111111111111111,\"#46039f\"],[0.2222222222222222,\"#7201a8\"],[0.3333333333333333,\"#9c179e\"],[0.4444444444444444,\"#bd3786\"],[0.5555555555555556,\"#d8576b\"],[0.6666666666666666,\"#ed7953\"],[0.7777777777777778,\"#fb9f3a\"],[0.8888888888888888,\"#fdca26\"],[1.0,\"#f0f921\"]]}],\"choropleth\":[{\"type\":\"choropleth\",\"colorbar\":{\"outlinewidth\":0,\"ticks\":\"\"}}],\"histogram2d\":[{\"type\":\"histogram2d\",\"colorbar\":{\"outlinewidth\":0,\"ticks\":\"\"},\"colorscale\":[[0.0,\"#0d0887\"],[0.1111111111111111,\"#46039f\"],[0.2222222222222222,\"#7201a8\"],[0.3333333333333333,\"#9c179e\"],[0.4444444444444444,\"#bd3786\"],[0.5555555555555556,\"#d8576b\"],[0.6666666666666666,\"#ed7953\"],[0.7777777777777778,\"#fb9f3a\"],[0.8888888888888888,\"#fdca26\"],[1.0,\"#f0f921\"]]}],\"heatmap\":[{\"type\":\"heatmap\",\"colorbar\":{\"outlinewidth\":0,\"ticks\":\"\"},\"colorscale\":[[0.0,\"#0d0887\"],[0.1111111111111111,\"#46039f\"],[0.2222222222222222,\"#7201a8\"],[0.3333333333333333,\"#9c179e\"],[0.4444444444444444,\"#bd3786\"],[0.5555555555555556,\"#d8576b\"],[0.6666666666666666,\"#ed7953\"],[0.7777777777777778,\"#fb9f3a\"],[0.8888888888888888,\"#fdca26\"],[1.0,\"#f0f921\"]]}],\"heatmapgl\":[{\"type\":\"heatmapgl\",\"colorbar\":{\"outlinewidth\":0,\"ticks\":\"\"},\"colorscale\":[[0.0,\"#0d0887\"],[0.1111111111111111,\"#46039f\"],[0.2222222222222222,\"#7201a8\"],[0.3333333333333333,\"#9c179e\"],[0.4444444444444444,\"#bd3786\"],[0.5555555555555556,\"#d8576b\"],[0.6666666666666666,\"#ed7953\"],[0.7777777777777778,\"#fb9f3a\"],[0.8888888888888888,\"#fdca26\"],[1.0,\"#f0f921\"]]}],\"contourcarpet\":[{\"type\":\"contourcarpet\",\"colorbar\":{\"outlinewidth\":0,\"ticks\":\"\"}}],\"contour\":[{\"type\":\"contour\",\"colorbar\":{\"outlinewidth\":0,\"ticks\":\"\"},\"colorscale\":[[0.0,\"#0d0887\"],[0.1111111111111111,\"#46039f\"],[0.2222222222222222,\"#7201a8\"],[0.3333333333333333,\"#9c179e\"],[0.4444444444444444,\"#bd3786\"],[0.5555555555555556,\"#d8576b\"],[0.6666666666666666,\"#ed7953\"],[0.7777777777777778,\"#fb9f3a\"],[0.8888888888888888,\"#fdca26\"],[1.0,\"#f0f921\"]]}],\"surface\":[{\"type\":\"surface\",\"colorbar\":{\"outlinewidth\":0,\"ticks\":\"\"},\"colorscale\":[[0.0,\"#0d0887\"],[0.1111111111111111,\"#46039f\"],[0.2222222222222222,\"#7201a8\"],[0.3333333333333333,\"#9c179e\"],[0.4444444444444444,\"#bd3786\"],[0.5555555555555556,\"#d8576b\"],[0.6666666666666666,\"#ed7953\"],[0.7777777777777778,\"#fb9f3a\"],[0.8888888888888888,\"#fdca26\"],[1.0,\"#f0f921\"]]}],\"mesh3d\":[{\"type\":\"mesh3d\",\"colorbar\":{\"outlinewidth\":0,\"ticks\":\"\"}}],\"scatter\":[{\"fillpattern\":{\"fillmode\":\"overlay\",\"size\":10,\"solidity\":0.2},\"type\":\"scatter\"}],\"parcoords\":[{\"type\":\"parcoords\",\"line\":{\"colorbar\":{\"outlinewidth\":0,\"ticks\":\"\"}}}],\"scatterpolargl\":[{\"type\":\"scatterpolargl\",\"marker\":{\"colorbar\":{\"outlinewidth\":0,\"ticks\":\"\"}}}],\"bar\":[{\"error_x\":{\"color\":\"#2a3f5f\"},\"error_y\":{\"color\":\"#2a3f5f\"},\"marker\":{\"line\":{\"color\":\"#E5ECF6\",\"width\":0.5},\"pattern\":{\"fillmode\":\"overlay\",\"size\":10,\"solidity\":0.2}},\"type\":\"bar\"}],\"scattergeo\":[{\"type\":\"scattergeo\",\"marker\":{\"colorbar\":{\"outlinewidth\":0,\"ticks\":\"\"}}}],\"scatterpolar\":[{\"type\":\"scatterpolar\",\"marker\":{\"colorbar\":{\"outlinewidth\":0,\"ticks\":\"\"}}}],\"histogram\":[{\"marker\":{\"pattern\":{\"fillmode\":\"overlay\",\"size\":10,\"solidity\":0.2}},\"type\":\"histogram\"}],\"scattergl\":[{\"type\":\"scattergl\",\"marker\":{\"colorbar\":{\"outlinewidth\":0,\"ticks\":\"\"}}}],\"scatter3d\":[{\"type\":\"scatter3d\",\"line\":{\"colorbar\":{\"outlinewidth\":0,\"ticks\":\"\"}},\"marker\":{\"colorbar\":{\"outlinewidth\":0,\"ticks\":\"\"}}}],\"scattermapbox\":[{\"type\":\"scattermapbox\",\"marker\":{\"colorbar\":{\"outlinewidth\":0,\"ticks\":\"\"}}}],\"scatterternary\":[{\"type\":\"scatterternary\",\"marker\":{\"colorbar\":{\"outlinewidth\":0,\"ticks\":\"\"}}}],\"scattercarpet\":[{\"type\":\"scattercarpet\",\"marker\":{\"colorbar\":{\"outlinewidth\":0,\"ticks\":\"\"}}}],\"carpet\":[{\"aaxis\":{\"endlinecolor\":\"#2a3f5f\",\"gridcolor\":\"white\",\"linecolor\":\"white\",\"minorgridcolor\":\"white\",\"startlinecolor\":\"#2a3f5f\"},\"baxis\":{\"endlinecolor\":\"#2a3f5f\",\"gridcolor\":\"white\",\"linecolor\":\"white\",\"minorgridcolor\":\"white\",\"startlinecolor\":\"#2a3f5f\"},\"type\":\"carpet\"}],\"table\":[{\"cells\":{\"fill\":{\"color\":\"#EBF0F8\"},\"line\":{\"color\":\"white\"}},\"header\":{\"fill\":{\"color\":\"#C8D4E3\"},\"line\":{\"color\":\"white\"}},\"type\":\"table\"}],\"barpolar\":[{\"marker\":{\"line\":{\"color\":\"#E5ECF6\",\"width\":0.5},\"pattern\":{\"fillmode\":\"overlay\",\"size\":10,\"solidity\":0.2}},\"type\":\"barpolar\"}],\"pie\":[{\"automargin\":true,\"type\":\"pie\"}]},\"layout\":{\"autotypenumbers\":\"strict\",\"colorway\":[\"#636efa\",\"#EF553B\",\"#00cc96\",\"#ab63fa\",\"#FFA15A\",\"#19d3f3\",\"#FF6692\",\"#B6E880\",\"#FF97FF\",\"#FECB52\"],\"font\":{\"color\":\"#2a3f5f\"},\"hovermode\":\"closest\",\"hoverlabel\":{\"align\":\"left\"},\"paper_bgcolor\":\"white\",\"plot_bgcolor\":\"#E5ECF6\",\"polar\":{\"bgcolor\":\"#E5ECF6\",\"angularaxis\":{\"gridcolor\":\"white\",\"linecolor\":\"white\",\"ticks\":\"\"},\"radialaxis\":{\"gridcolor\":\"white\",\"linecolor\":\"white\",\"ticks\":\"\"}},\"ternary\":{\"bgcolor\":\"#E5ECF6\",\"aaxis\":{\"gridcolor\":\"white\",\"linecolor\":\"white\",\"ticks\":\"\"},\"baxis\":{\"gridcolor\":\"white\",\"linecolor\":\"white\",\"ticks\":\"\"},\"caxis\":{\"gridcolor\":\"white\",\"linecolor\":\"white\",\"ticks\":\"\"}},\"coloraxis\":{\"colorbar\":{\"outlinewidth\":0,\"ticks\":\"\"}},\"colorscale\":{\"sequential\":[[0.0,\"#0d0887\"],[0.1111111111111111,\"#46039f\"],[0.2222222222222222,\"#7201a8\"],[0.3333333333333333,\"#9c179e\"],[0.4444444444444444,\"#bd3786\"],[0.5555555555555556,\"#d8576b\"],[0.6666666666666666,\"#ed7953\"],[0.7777777777777778,\"#fb9f3a\"],[0.8888888888888888,\"#fdca26\"],[1.0,\"#f0f921\"]],\"sequentialminus\":[[0.0,\"#0d0887\"],[0.1111111111111111,\"#46039f\"],[0.2222222222222222,\"#7201a8\"],[0.3333333333333333,\"#9c179e\"],[0.4444444444444444,\"#bd3786\"],[0.5555555555555556,\"#d8576b\"],[0.6666666666666666,\"#ed7953\"],[0.7777777777777778,\"#fb9f3a\"],[0.8888888888888888,\"#fdca26\"],[1.0,\"#f0f921\"]],\"diverging\":[[0,\"#8e0152\"],[0.1,\"#c51b7d\"],[0.2,\"#de77ae\"],[0.3,\"#f1b6da\"],[0.4,\"#fde0ef\"],[0.5,\"#f7f7f7\"],[0.6,\"#e6f5d0\"],[0.7,\"#b8e186\"],[0.8,\"#7fbc41\"],[0.9,\"#4d9221\"],[1,\"#276419\"]]},\"xaxis\":{\"gridcolor\":\"white\",\"linecolor\":\"white\",\"ticks\":\"\",\"title\":{\"standoff\":15},\"zerolinecolor\":\"white\",\"automargin\":true,\"zerolinewidth\":2},\"yaxis\":{\"gridcolor\":\"white\",\"linecolor\":\"white\",\"ticks\":\"\",\"title\":{\"standoff\":15},\"zerolinecolor\":\"white\",\"automargin\":true,\"zerolinewidth\":2},\"scene\":{\"xaxis\":{\"backgroundcolor\":\"#E5ECF6\",\"gridcolor\":\"white\",\"linecolor\":\"white\",\"showbackground\":true,\"ticks\":\"\",\"zerolinecolor\":\"white\",\"gridwidth\":2},\"yaxis\":{\"backgroundcolor\":\"#E5ECF6\",\"gridcolor\":\"white\",\"linecolor\":\"white\",\"showbackground\":true,\"ticks\":\"\",\"zerolinecolor\":\"white\",\"gridwidth\":2},\"zaxis\":{\"backgroundcolor\":\"#E5ECF6\",\"gridcolor\":\"white\",\"linecolor\":\"white\",\"showbackground\":true,\"ticks\":\"\",\"zerolinecolor\":\"white\",\"gridwidth\":2}},\"shapedefaults\":{\"line\":{\"color\":\"#2a3f5f\"}},\"annotationdefaults\":{\"arrowcolor\":\"#2a3f5f\",\"arrowhead\":0,\"arrowwidth\":1},\"geo\":{\"bgcolor\":\"white\",\"landcolor\":\"#E5ECF6\",\"subunitcolor\":\"white\",\"showland\":true,\"showlakes\":true,\"lakecolor\":\"white\"},\"title\":{\"x\":0.05},\"mapbox\":{\"style\":\"light\"}}},\"xaxis\":{\"anchor\":\"y\",\"domain\":[0.0,0.31999999999999995],\"title\":{\"text\":\"gdpPercap\"}},\"yaxis\":{\"anchor\":\"x\",\"domain\":[0.0,0.1975],\"title\":{\"text\":\"lifeExp\"}},\"xaxis2\":{\"anchor\":\"y2\",\"domain\":[0.33999999999999997,0.6599999999999999],\"title\":{\"text\":\"gdpPercap\"}},\"yaxis2\":{\"anchor\":\"x2\",\"domain\":[0.0,0.1975],\"showticklabels\":false},\"xaxis3\":{\"anchor\":\"y3\",\"domain\":[0.6799999999999999,0.9999999999999999],\"title\":{\"text\":\"gdpPercap\"}},\"yaxis3\":{\"anchor\":\"x3\",\"domain\":[0.0,0.1975],\"showticklabels\":false},\"xaxis4\":{\"anchor\":\"y4\",\"domain\":[0.0,0.31999999999999995],\"showticklabels\":false},\"yaxis4\":{\"anchor\":\"x4\",\"domain\":[0.2675,0.465],\"title\":{\"text\":\"lifeExp\"}},\"xaxis5\":{\"anchor\":\"y5\",\"domain\":[0.33999999999999997,0.6599999999999999],\"showticklabels\":false},\"yaxis5\":{\"anchor\":\"x5\",\"domain\":[0.2675,0.465],\"showticklabels\":false},\"xaxis6\":{\"anchor\":\"y6\",\"domain\":[0.6799999999999999,0.9999999999999999],\"showticklabels\":false},\"yaxis6\":{\"anchor\":\"x6\",\"domain\":[0.2675,0.465],\"showticklabels\":false},\"xaxis7\":{\"anchor\":\"y7\",\"domain\":[0.0,0.31999999999999995],\"showticklabels\":false},\"yaxis7\":{\"anchor\":\"x7\",\"domain\":[0.535,0.7325],\"title\":{\"text\":\"lifeExp\"}},\"xaxis8\":{\"anchor\":\"y8\",\"domain\":[0.33999999999999997,0.6599999999999999],\"showticklabels\":false},\"yaxis8\":{\"anchor\":\"x8\",\"domain\":[0.535,0.7325],\"showticklabels\":false},\"xaxis9\":{\"anchor\":\"y9\",\"domain\":[0.6799999999999999,0.9999999999999999],\"showticklabels\":false},\"yaxis9\":{\"anchor\":\"x9\",\"domain\":[0.535,0.7325],\"showticklabels\":false},\"xaxis10\":{\"anchor\":\"y10\",\"domain\":[0.0,0.31999999999999995],\"showticklabels\":false},\"yaxis10\":{\"anchor\":\"x10\",\"domain\":[0.8025,1.0],\"title\":{\"text\":\"lifeExp\"}},\"xaxis11\":{\"anchor\":\"y11\",\"domain\":[0.33999999999999997,0.6599999999999999],\"showticklabels\":false},\"yaxis11\":{\"anchor\":\"x11\",\"domain\":[0.8025,1.0],\"showticklabels\":false},\"xaxis12\":{\"anchor\":\"y12\",\"domain\":[0.6799999999999999,0.9999999999999999],\"showticklabels\":false},\"yaxis12\":{\"anchor\":\"x12\",\"domain\":[0.8025,1.0],\"showticklabels\":false},\"annotations\":[{\"font\":{},\"showarrow\":false,\"text\":\"year=1997\",\"x\":0.15999999999999998,\"xanchor\":\"center\",\"xref\":\"paper\",\"y\":0.1975,\"yanchor\":\"bottom\",\"yref\":\"paper\"},{\"font\":{},\"showarrow\":false,\"text\":\"year=2002\",\"x\":0.49999999999999994,\"xanchor\":\"center\",\"xref\":\"paper\",\"y\":0.1975,\"yanchor\":\"bottom\",\"yref\":\"paper\"},{\"font\":{},\"showarrow\":false,\"text\":\"year=2007\",\"x\":0.8399999999999999,\"xanchor\":\"center\",\"xref\":\"paper\",\"y\":0.1975,\"yanchor\":\"bottom\",\"yref\":\"paper\"},{\"font\":{},\"showarrow\":false,\"text\":\"year=1982\",\"x\":0.15999999999999998,\"xanchor\":\"center\",\"xref\":\"paper\",\"y\":0.465,\"yanchor\":\"bottom\",\"yref\":\"paper\"},{\"font\":{},\"showarrow\":false,\"text\":\"year=1987\",\"x\":0.49999999999999994,\"xanchor\":\"center\",\"xref\":\"paper\",\"y\":0.465,\"yanchor\":\"bottom\",\"yref\":\"paper\"},{\"font\":{},\"showarrow\":false,\"text\":\"year=1992\",\"x\":0.8399999999999999,\"xanchor\":\"center\",\"xref\":\"paper\",\"y\":0.465,\"yanchor\":\"bottom\",\"yref\":\"paper\"},{\"font\":{},\"showarrow\":false,\"text\":\"year=1967\",\"x\":0.15999999999999998,\"xanchor\":\"center\",\"xref\":\"paper\",\"y\":0.7325,\"yanchor\":\"bottom\",\"yref\":\"paper\"},{\"font\":{},\"showarrow\":false,\"text\":\"year=1972\",\"x\":0.49999999999999994,\"xanchor\":\"center\",\"xref\":\"paper\",\"y\":0.7325,\"yanchor\":\"bottom\",\"yref\":\"paper\"},{\"font\":{},\"showarrow\":false,\"text\":\"year=1977\",\"x\":0.8399999999999999,\"xanchor\":\"center\",\"xref\":\"paper\",\"y\":0.7325,\"yanchor\":\"bottom\",\"yref\":\"paper\"},{\"font\":{},\"showarrow\":false,\"text\":\"year=1952\",\"x\":0.15999999999999998,\"xanchor\":\"center\",\"xref\":\"paper\",\"y\":1.0,\"yanchor\":\"bottom\",\"yref\":\"paper\"},{\"font\":{},\"showarrow\":false,\"text\":\"year=1957\",\"x\":0.49999999999999994,\"xanchor\":\"center\",\"xref\":\"paper\",\"y\":1.0,\"yanchor\":\"bottom\",\"yref\":\"paper\"},{\"font\":{},\"showarrow\":false,\"text\":\"year=1962\",\"x\":0.8399999999999999,\"xanchor\":\"center\",\"xref\":\"paper\",\"y\":1.0,\"yanchor\":\"bottom\",\"yref\":\"paper\"}],\"legend\":{\"tracegroupgap\":0},\"margin\":{\"t\":60},\"height\":1000},                        {\"responsive\": true}                    ).then(function(){\n",
       "                            \n",
       "var gd = document.getElementById('aea64832-1d63-46d0-a2f4-5c98b1a0d9ba');\n",
       "var x = new MutationObserver(function (mutations, observer) {{\n",
       "        var display = window.getComputedStyle(gd).display;\n",
       "        if (!display || display === 'none') {{\n",
       "            console.log([gd, 'removed!']);\n",
       "            Plotly.purge(gd);\n",
       "            observer.disconnect();\n",
       "        }}\n",
       "}});\n",
       "\n",
       "// Listen for the removal of the full notebook cells\n",
       "var notebookContainer = gd.closest('#notebook-container');\n",
       "if (notebookContainer) {{\n",
       "    x.observe(notebookContainer, {childList: true});\n",
       "}}\n",
       "\n",
       "// Listen for the clearing of the current output cell\n",
       "var outputEl = gd.closest('.output');\n",
       "if (outputEl) {{\n",
       "    x.observe(outputEl, {childList: true});\n",
       "}}\n",
       "\n",
       "                        })                };                });            </script>        </div>"
      ]
     },
     "metadata": {},
     "output_type": "display_data"
    }
   ],
   "source": [
    "fig.update_xaxes(matches=None)\n",
    "fig.update_yaxes(matches=None)"
   ]
  }
 ],
 "metadata": {
  "kernelspec": {
   "display_name": "base",
   "language": "python",
   "name": "python3"
  },
  "language_info": {
   "codemirror_mode": {
    "name": "ipython",
    "version": 3
   },
   "file_extension": ".py",
   "mimetype": "text/x-python",
   "name": "python",
   "nbconvert_exporter": "python",
   "pygments_lexer": "ipython3",
   "version": "3.11.4"
  },
  "papermill": {
   "default_parameters": {},
   "duration": 1.528016,
   "end_time": "2024-06-15T23:13:13.965224",
   "environment_variables": {},
   "exception": null,
   "input_path": "/Users/sota/Library/CloudStorage/Dropbox/2 Business/1 Datons/2 Areas/Courses/2 Catalogue/10 DF/1 Materials/DF-P/notebooks/20_Filter/1_Backend/B_Solution.ipynb",
   "output_path": "/Users/sota/Library/CloudStorage/Dropbox/2 Business/1 Datons/2 Areas/Courses/2 Catalogue/10 DF/1 Materials/DF-P/notebooks/20_Filter/1_Backend/B_Solution.ipynb",
   "parameters": {},
   "start_time": "2024-06-15T23:13:12.437208",
   "version": "2.6.0"
  }
 },
 "nbformat": 4,
 "nbformat_minor": 5
}
